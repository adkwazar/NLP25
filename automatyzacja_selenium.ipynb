{
 "cells": [
  {
   "cell_type": "code",
   "execution_count": 76,
   "id": "9c06aa62",
   "metadata": {},
   "outputs": [],
   "source": [
    "from selenium import webdriver\n",
    "from selenium.webdriver.common.keys import Keys\n",
    "from selenium.webdriver.common.by import By\n",
    "from selenium.webdriver.edge.service import Service\n",
    "from selenium.webdriver.support.ui import WebDriverWait\n",
    "from selenium.webdriver.support import expected_conditions as EC\n",
    "from webdriver_manager.microsoft import EdgeChromiumDriverManager\n",
    "import time"
   ]
  },
  {
   "cell_type": "markdown",
   "id": "c4b03a10",
   "metadata": {},
   "source": [
    "- instalacja: WebDriver\n",
    "https://developer.microsoft.com/en-us/microsoft-edge/tools/webdriver/?form=MA13LH#downloads (zgodny z wersją)"
   ]
  },
  {
   "cell_type": "code",
   "execution_count": 77,
   "id": "48389945",
   "metadata": {},
   "outputs": [],
   "source": [
    "service = Service(\"C:\\\\Users\\\\Adrian\\\\Desktop\\\\Dydaktyka\\\\NLP\\\\web\\\\msedgedriver.exe\")"
   ]
  },
  {
   "cell_type": "code",
   "execution_count": 78,
   "id": "b87baf4b",
   "metadata": {},
   "outputs": [],
   "source": [
    "browser = webdriver.Edge(service=service)"
   ]
  },
  {
   "cell_type": "code",
   "execution_count": 86,
   "id": "068be1fd",
   "metadata": {
    "scrolled": true
   },
   "outputs": [
    {
     "name": "stdout",
     "output_type": "stream",
     "text": [
      "Znaleziony link: https://www.tekstowo.pl/piosenka,the_doors,strange_days.html\n",
      "Znaleziony link: https://www.tekstowo.pl/drukuj,the_doors,strange_days.html\n",
      "Znaleziony link: https://www.tekstowo.pl/piosenka,encyrcle,strange_days__the_doors_cover_.html\n",
      "Znaleziony link: https://www.tekstowo.pl/piosenka,the_doors,people_are_strange.html\n",
      "Znaleziony link: https://www.tekstowo.pl/piosenka,the_doors,unhappy_girl.html\n",
      "Znaleziony link: https://www.tekstowo.pl/piosenki_artysty,the_doors,popularne,malejaco,strona,1.html\n",
      "Znaleziony link: https://www.tekstowo.pl/piosenka,tech_n9ne_1,strange_2013_feat__the_doors.html\n",
      "Znaleziony link: https://www.tekstowo.pl/piosenka,the_doors,horse_latitudes_.html\n",
      "Znaleziony link: https://www.tekstowo.pl/piosenka,the_doors,my_eyes_have_seen_you_.html\n",
      "Znaleziony link: https://www.tekstowo.pl/piosenka,the_doors,when_the_music_s_over_.html\n"
     ]
    }
   ],
   "source": [
    "try:\n",
    "    browser.get(\"https://www.google.com\")\n",
    "\n",
    "    search_box = WebDriverWait(browser, 10).until(\n",
    "        EC.presence_of_element_located((By.NAME, \"q\"))\n",
    "    )\n",
    "\n",
    "    browser.execute_script(\"arguments[0].value = arguments[1];\", search_box, \"The doors Strange days site:tekstowo.pl\")\n",
    "    search_box.send_keys(Keys.RETURN)  # Naciśnij Enter, by wyszukać\n",
    "\n",
    "    WebDriverWait(browser, 10).until(\n",
    "        EC.presence_of_element_located((By.CSS_SELECTOR, \"h3\"))\n",
    "    )\n",
    "\n",
    "    results = browser.find_elements(By.CSS_SELECTOR, \"h3\")\n",
    "\n",
    "    for result in results:\n",
    "        parent = result.find_element(By.XPATH, \"./ancestor::a\")\n",
    "        link = parent.get_attribute(\"href\")\n",
    "        print(\"Znaleziony link:\", link) \n",
    "\n",
    "\n",
    "except Exception as e:\n",
    "    print(\"Wystąpił błąd:\", e)"
   ]
  },
  {
   "cell_type": "code",
   "execution_count": 84,
   "id": "8d4f84a5",
   "metadata": {},
   "outputs": [],
   "source": [
    "def szukaj(haslo):\n",
    "    browser.get(\"https://www.google.com\")\n",
    "\n",
    "    search_box = WebDriverWait(browser, 10).until(\n",
    "        EC.presence_of_element_located((By.NAME, \"q\"))\n",
    "    )\n",
    "\n",
    "    browser.execute_script(\"arguments[0].value = arguments[1];\", search_box, f\"{haslo}:tekstowo.pl\")\n",
    "    search_box.send_keys(Keys.RETURN)  # Naciśnij Enter, by wyszukać\n",
    "\n",
    "    WebDriverWait(browser, 10).until(\n",
    "        EC.presence_of_element_located((By.CSS_SELECTOR, \"h3\"))\n",
    "    )\n",
    "\n",
    "    results = browser.find_elements(By.CSS_SELECTOR, \"h3\")\n",
    "\n",
    "    parent = results[0].find_element(By.XPATH, \"./ancestor::a\")\n",
    "    link = parent.get_attribute(\"href\")\n",
    "    return link"
   ]
  },
  {
   "cell_type": "code",
   "execution_count": 88,
   "id": "69678aa3",
   "metadata": {},
   "outputs": [
    {
     "name": "stdout",
     "output_type": "stream",
     "text": [
      "https://www.tekstowo.pl/piosenka,chrystal,the_days.html\n",
      "https://www.tekstowo.pl/piosenka,tate_mcrae,sports_car.html\n",
      "https://www.tekstowo.pl/piosenka,tymek,sophia_loren.html\n"
     ]
    }
   ],
   "source": [
    "piosenki = ['1Chrystal/NotionThe Days (NOTION Remix)', '2Tate McRaeSports Car', '3TymekSophia Loren']\n",
    "for elem in piosenki:\n",
    "    print(szukaj(elem))"
   ]
  }
 ],
 "metadata": {
  "kernelspec": {
   "display_name": "Python 3 (ipykernel)",
   "language": "python",
   "name": "python3"
  },
  "language_info": {
   "codemirror_mode": {
    "name": "ipython",
    "version": 3
   },
   "file_extension": ".py",
   "mimetype": "text/x-python",
   "name": "python",
   "nbconvert_exporter": "python",
   "pygments_lexer": "ipython3",
   "version": "3.11.5"
  }
 },
 "nbformat": 4,
 "nbformat_minor": 5
}
