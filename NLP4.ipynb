{
 "cells": [
  {
   "cell_type": "markdown",
   "metadata": {},
   "source": [
    "<h3> Metody do przewidywania tagów POS - zestawienie"
   ]
  },
  {
   "cell_type": "code",
   "execution_count": 1,
   "metadata": {},
   "outputs": [],
   "source": [
    "from nltk.corpus import treebank \n",
    "\n",
    "train_set =  treebank.tagged_sents()[:3000]\n",
    "test_set =   treebank.tagged_sents()[3000:]"
   ]
  },
  {
   "cell_type": "markdown",
   "metadata": {},
   "source": [
    "<h4> HMM"
   ]
  },
  {
   "cell_type": "code",
   "execution_count": 4,
   "metadata": {},
   "outputs": [
    {
     "name": "stdout",
     "output_type": "stream",
     "text": [
      "Na zbiorze testowym: 0.36844377293330455\n"
     ]
    }
   ],
   "source": [
    "#HMM Hidden Markov Models, tradycyjny ukryty model Markowa, stan następny jest generowany na podstawie stanu poprzedniego\n",
    "from nltk.tag import hmm\n",
    "\n",
    "HMM_model = hmm.HiddenMarkovModelTrainer() \n",
    "HMM_tagger = HMM_model.train_supervised(train_set)\n",
    "print(\"Na zbiorze testowym:\", HMM_tagger.accuracy(test_set))"
   ]
  },
  {
   "cell_type": "markdown",
   "metadata": {},
   "source": [
    "<h4> TnT"
   ]
  },
  {
   "cell_type": "code",
   "execution_count": 5,
   "metadata": {},
   "outputs": [
    {
     "name": "stdout",
     "output_type": "stream",
     "text": [
      "Na zbiorze testowym:  0.875545003237643\n"
     ]
    }
   ],
   "source": [
    "#TnT = Trigrams'n'Tags, jest także metodą typu HMM, jednak tym razem stan następny generowany jest na podstawie [[dwoch]] poprzednich stanow. Ponadto wyposazony jest w metody wygładzania (smoothing), nieznane slowa obsługiwane są przy pomocy drzew sufiksowych \n",
    "from nltk.tag import tnt\n",
    "\n",
    "TnT_model = tnt.TnT()\n",
    "TnT_model.train(train_set)\n",
    "print(\"Na zbiorze testowym: \", TnT_model.accuracy(test_set))"
   ]
  },
  {
   "cell_type": "markdown",
   "metadata": {},
   "source": [
    "<h4> CRF"
   ]
  },
  {
   "cell_type": "code",
   "execution_count": 2,
   "metadata": {},
   "outputs": [
    {
     "name": "stdout",
     "output_type": "stream",
     "text": [
      "Na zbiorze testowym: 0.9474638463198791\n"
     ]
    }
   ],
   "source": [
    "#CRF = Conditional Random Fields, używa dodatkowych funkcji modyfikujacych prawdopodobieństwa stanów, optymalne rozwiązanie uzyskuje się przez zastosowanie algorytmu podobnego do algorytmu Viterbiego\n",
    "from nltk.tag import CRFTagger\n",
    "\n",
    "CRF_model = CRFTagger() #moze byc potrzebne pip install python-crfsuite\n",
    "CRF_model.train(train_set, 'crf_tagger_model')\n",
    "print(\"Na zbiorze testowym:\",CRF_model.accuracy(test_set))"
   ]
  },
  {
   "cell_type": "markdown",
   "metadata": {},
   "source": [
    "<h4> Sieci neuronowe"
   ]
  },
  {
   "cell_type": "code",
   "execution_count": 3,
   "metadata": {},
   "outputs": [
    {
     "name": "stdout",
     "output_type": "stream",
     "text": [
      "Na zbiorze testowym: 0.9587308439456076\n"
     ]
    }
   ],
   "source": [
    "#Rozwiązanie przy pomocy sieci neuronowych, inna idea niz w przypadku trzech poprzednich metod, o sieciach neuronowych jeszcze będzie w przyszlosci :)\n",
    "from nltk.tag.perceptron import PerceptronTagger\n",
    "\n",
    "PER_model = PerceptronTagger(load = False)\n",
    "PER_model.train(train_set)\n",
    "print(\"Na zbiorze testowym:\",PER_model.accuracy(test_set))"
   ]
  },
  {
   "cell_type": "markdown",
   "metadata": {},
   "source": [
    "<h3> Zastosowanie Twierdzenia Bayesa do klasyfikacji recenzji filmowych\n"
   ]
  },
  {
   "cell_type": "markdown",
   "metadata": {},
   "source": [
    "Ogólny schemat klasyfikacji:\n",
    "\n",
    "- mamy pewne dane (zbiór tekstów) oraz kategorie do których należą\n",
    "- dzielimy dane na dwie części: zbiór treningowy i zbiór testowy\n",
    "- uczymy model na zbiorze treningowym (model wie który tekst należy do której kategorii)\n",
    "- testujemy model na zbiore testowym (model nie wie do jakiej kategorii należą nowe teksty - ma to przewidzieć)\n",
    "- porównujemy zdolności predykacyjne modelu z tym jak jest (np przy użyciu parametru dokładności)."
   ]
  },
  {
   "cell_type": "code",
   "execution_count": 4,
   "metadata": {},
   "outputs": [],
   "source": [
    "import nltk"
   ]
  },
  {
   "cell_type": "code",
   "execution_count": 110,
   "metadata": {},
   "outputs": [],
   "source": [
    "from nltk.corpus import movie_reviews #korpus z recenzjami - 1000 poztytywnych i 1000 negatywnych"
   ]
  },
  {
   "cell_type": "code",
   "execution_count": 111,
   "metadata": {},
   "outputs": [
    {
     "data": {
      "text/plain": [
       "['neg', 'pos']"
      ]
     },
     "execution_count": 111,
     "metadata": {},
     "output_type": "execute_result"
    }
   ],
   "source": [
    "movie_reviews.categories()"
   ]
  },
  {
   "cell_type": "code",
   "execution_count": 112,
   "metadata": {},
   "outputs": [
    {
     "name": "stdout",
     "output_type": "stream",
     "text": [
      "['neg/cv990_12443.txt', 'neg/cv991_19973.txt', 'neg/cv992_12806.txt', 'neg/cv993_29565.txt', 'neg/cv994_13229.txt', 'neg/cv995_23113.txt', 'neg/cv996_12447.txt', 'neg/cv997_5152.txt', 'neg/cv998_15691.txt', 'neg/cv999_14636.txt', 'pos/cv000_29590.txt', 'pos/cv001_18431.txt', 'pos/cv002_15918.txt', 'pos/cv003_11664.txt', 'pos/cv004_11636.txt', 'pos/cv005_29443.txt', 'pos/cv006_15448.txt', 'pos/cv007_4968.txt', 'pos/cv008_29435.txt', 'pos/cv009_29592.txt']\n"
     ]
    }
   ],
   "source": [
    "print(movie_reviews.fileids()[990:1010]) #1000 recenzji pozytywnych i 1000 recenzji negatywnych"
   ]
  },
  {
   "cell_type": "code",
   "execution_count": 113,
   "metadata": {},
   "outputs": [],
   "source": [
    "documents = [] #tworze pustą liste, bede tu zapisywal slowa z kolejnych recenzji oraz kategorię do jakiej ta recenzja nalezy\n",
    "\n",
    "for category in movie_reviews.categories(): #dla kazdej z kategorii (pos/neg)\n",
    "    for fileid in movie_reviews.fileids(category): #dla wszytkich recenzji z danej kategorii\n",
    "        documents.append((list(movie_reviews.words(fileid)), category)) #dodaj element typu ([ slowa z recenzji], 'pos/neg')"
   ]
  },
  {
   "cell_type": "code",
   "execution_count": 114,
   "metadata": {},
   "outputs": [
    {
     "name": "stdout",
     "output_type": "stream",
     "text": [
      "(['plot', ':', 'two', 'teen', 'couples', 'go', 'to', 'a', 'church', 'party', ',', 'drink', 'and', 'then', 'drive', '.', 'they', 'get', 'into', 'an', 'accident', '.', 'one', 'of', 'the', 'guys', 'dies', ',', 'but', 'his', 'girlfriend', 'continues', 'to', 'see', 'him', 'in', 'her', 'life', ',', 'and', 'has', 'nightmares', '.', 'what', \"'\", 's', 'the', 'deal', '?', 'watch', 'the', 'movie', 'and', '\"', 'sorta', '\"', 'find', 'out', '.', '.', '.', 'critique', ':', 'a', 'mind', '-', 'fuck', 'movie', 'for', 'the', 'teen', 'generation', 'that', 'touches', 'on', 'a', 'very', 'cool', 'idea', ',', 'but', 'presents', 'it', 'in', 'a', 'very', 'bad', 'package', '.', 'which', 'is', 'what', 'makes', 'this', 'review', 'an', 'even', 'harder', 'one', 'to', 'write', ',', 'since', 'i', 'generally', 'applaud', 'films', 'which', 'attempt', 'to', 'break', 'the', 'mold', ',', 'mess', 'with', 'your', 'head', 'and', 'such', '(', 'lost', 'highway', '&', 'memento', ')', ',', 'but', 'there', 'are', 'good', 'and', 'bad', 'ways', 'of', 'making', 'all', 'types', 'of', 'films', ',', 'and', 'these', 'folks', 'just', 'didn', \"'\", 't', 'snag', 'this', 'one', 'correctly', '.', 'they', 'seem', 'to', 'have', 'taken', 'this', 'pretty', 'neat', 'concept', ',', 'but', 'executed', 'it', 'terribly', '.', 'so', 'what', 'are', 'the', 'problems', 'with', 'the', 'movie', '?', 'well', ',', 'its', 'main', 'problem', 'is', 'that', 'it', \"'\", 's', 'simply', 'too', 'jumbled', '.', 'it', 'starts', 'off', '\"', 'normal', '\"', 'but', 'then', 'downshifts', 'into', 'this', '\"', 'fantasy', '\"', 'world', 'in', 'which', 'you', ',', 'as', 'an', 'audience', 'member', ',', 'have', 'no', 'idea', 'what', \"'\", 's', 'going', 'on', '.', 'there', 'are', 'dreams', ',', 'there', 'are', 'characters', 'coming', 'back', 'from', 'the', 'dead', ',', 'there', 'are', 'others', 'who', 'look', 'like', 'the', 'dead', ',', 'there', 'are', 'strange', 'apparitions', ',', 'there', 'are', 'disappearances', ',', 'there', 'are', 'a', 'looooot', 'of', 'chase', 'scenes', ',', 'there', 'are', 'tons', 'of', 'weird', 'things', 'that', 'happen', ',', 'and', 'most', 'of', 'it', 'is', 'simply', 'not', 'explained', '.', 'now', 'i', 'personally', 'don', \"'\", 't', 'mind', 'trying', 'to', 'unravel', 'a', 'film', 'every', 'now', 'and', 'then', ',', 'but', 'when', 'all', 'it', 'does', 'is', 'give', 'me', 'the', 'same', 'clue', 'over', 'and', 'over', 'again', ',', 'i', 'get', 'kind', 'of', 'fed', 'up', 'after', 'a', 'while', ',', 'which', 'is', 'this', 'film', \"'\", 's', 'biggest', 'problem', '.', 'it', \"'\", 's', 'obviously', 'got', 'this', 'big', 'secret', 'to', 'hide', ',', 'but', 'it', 'seems', 'to', 'want', 'to', 'hide', 'it', 'completely', 'until', 'its', 'final', 'five', 'minutes', '.', 'and', 'do', 'they', 'make', 'things', 'entertaining', ',', 'thrilling', 'or', 'even', 'engaging', ',', 'in', 'the', 'meantime', '?', 'not', 'really', '.', 'the', 'sad', 'part', 'is', 'that', 'the', 'arrow', 'and', 'i', 'both', 'dig', 'on', 'flicks', 'like', 'this', ',', 'so', 'we', 'actually', 'figured', 'most', 'of', 'it', 'out', 'by', 'the', 'half', '-', 'way', 'point', ',', 'so', 'all', 'of', 'the', 'strangeness', 'after', 'that', 'did', 'start', 'to', 'make', 'a', 'little', 'bit', 'of', 'sense', ',', 'but', 'it', 'still', 'didn', \"'\", 't', 'the', 'make', 'the', 'film', 'all', 'that', 'more', 'entertaining', '.', 'i', 'guess', 'the', 'bottom', 'line', 'with', 'movies', 'like', 'this', 'is', 'that', 'you', 'should', 'always', 'make', 'sure', 'that', 'the', 'audience', 'is', '\"', 'into', 'it', '\"', 'even', 'before', 'they', 'are', 'given', 'the', 'secret', 'password', 'to', 'enter', 'your', 'world', 'of', 'understanding', '.', 'i', 'mean', ',', 'showing', 'melissa', 'sagemiller', 'running', 'away', 'from', 'visions', 'for', 'about', '20', 'minutes', 'throughout', 'the', 'movie', 'is', 'just', 'plain', 'lazy', '!', '!', 'okay', ',', 'we', 'get', 'it', '.', '.', '.', 'there', 'are', 'people', 'chasing', 'her', 'and', 'we', 'don', \"'\", 't', 'know', 'who', 'they', 'are', '.', 'do', 'we', 'really', 'need', 'to', 'see', 'it', 'over', 'and', 'over', 'again', '?', 'how', 'about', 'giving', 'us', 'different', 'scenes', 'offering', 'further', 'insight', 'into', 'all', 'of', 'the', 'strangeness', 'going', 'down', 'in', 'the', 'movie', '?', 'apparently', ',', 'the', 'studio', 'took', 'this', 'film', 'away', 'from', 'its', 'director', 'and', 'chopped', 'it', 'up', 'themselves', ',', 'and', 'it', 'shows', '.', 'there', 'might', \"'\", 've', 'been', 'a', 'pretty', 'decent', 'teen', 'mind', '-', 'fuck', 'movie', 'in', 'here', 'somewhere', ',', 'but', 'i', 'guess', '\"', 'the', 'suits', '\"', 'decided', 'that', 'turning', 'it', 'into', 'a', 'music', 'video', 'with', 'little', 'edge', ',', 'would', 'make', 'more', 'sense', '.', 'the', 'actors', 'are', 'pretty', 'good', 'for', 'the', 'most', 'part', ',', 'although', 'wes', 'bentley', 'just', 'seemed', 'to', 'be', 'playing', 'the', 'exact', 'same', 'character', 'that', 'he', 'did', 'in', 'american', 'beauty', ',', 'only', 'in', 'a', 'new', 'neighborhood', '.', 'but', 'my', 'biggest', 'kudos', 'go', 'out', 'to', 'sagemiller', ',', 'who', 'holds', 'her', 'own', 'throughout', 'the', 'entire', 'film', ',', 'and', 'actually', 'has', 'you', 'feeling', 'her', 'character', \"'\", 's', 'unraveling', '.', 'overall', ',', 'the', 'film', 'doesn', \"'\", 't', 'stick', 'because', 'it', 'doesn', \"'\", 't', 'entertain', ',', 'it', \"'\", 's', 'confusing', ',', 'it', 'rarely', 'excites', 'and', 'it', 'feels', 'pretty', 'redundant', 'for', 'most', 'of', 'its', 'runtime', ',', 'despite', 'a', 'pretty', 'cool', 'ending', 'and', 'explanation', 'to', 'all', 'of', 'the', 'craziness', 'that', 'came', 'before', 'it', '.', 'oh', ',', 'and', 'by', 'the', 'way', ',', 'this', 'is', 'not', 'a', 'horror', 'or', 'teen', 'slasher', 'flick', '.', '.', '.', 'it', \"'\", 's', 'just', 'packaged', 'to', 'look', 'that', 'way', 'because', 'someone', 'is', 'apparently', 'assuming', 'that', 'the', 'genre', 'is', 'still', 'hot', 'with', 'the', 'kids', '.', 'it', 'also', 'wrapped', 'production', 'two', 'years', 'ago', 'and', 'has', 'been', 'sitting', 'on', 'the', 'shelves', 'ever', 'since', '.', 'whatever', '.', '.', '.', 'skip', 'it', '!', 'where', \"'\", 's', 'joblo', 'coming', 'from', '?', 'a', 'nightmare', 'of', 'elm', 'street', '3', '(', '7', '/', '10', ')', '-', 'blair', 'witch', '2', '(', '7', '/', '10', ')', '-', 'the', 'crow', '(', '9', '/', '10', ')', '-', 'the', 'crow', ':', 'salvation', '(', '4', '/', '10', ')', '-', 'lost', 'highway', '(', '10', '/', '10', ')', '-', 'memento', '(', '10', '/', '10', ')', '-', 'the', 'others', '(', '9', '/', '10', ')', '-', 'stir', 'of', 'echoes', '(', '8', '/', '10', ')'], 'neg')\n"
     ]
    }
   ],
   "source": [
    "print(documents[0]) #zobaczmy jak wyglada pierwsza recenzja zapisana do documents w tym formacie                 "
   ]
  },
  {
   "cell_type": "code",
   "execution_count": 115,
   "metadata": {},
   "outputs": [],
   "source": [
    "import random #biblioteka do operacji na liczbach losowych czy tasowania danych\n",
    "\n",
    "random.shuffle(documents) #tasuje kolejnosc w liscie documents, bo poki co pierwsze 1000 to neg, a kolejny 1000 to pos, a chce miec losowe ulozenie recenzji"
   ]
  },
  {
   "cell_type": "code",
   "execution_count": 116,
   "metadata": {},
   "outputs": [],
   "source": [
    "all_words = [] #tu będą wszystkie slowa występujące we wszystkich recenzjach\n",
    "\n",
    "for w in movie_reviews.words():  #dla wszystkich slow ze wszystkich dokumentow korpusu movie_reviews\n",
    "    all_words.append(w.lower())  #dodaje do listy all_words slowa zapisane z malej litery"
   ]
  },
  {
   "cell_type": "code",
   "execution_count": 117,
   "metadata": {},
   "outputs": [],
   "source": [
    "all_words = nltk.FreqDist(all_words) #liczę częstosci slow i nadpisuje zmienną all_words"
   ]
  },
  {
   "cell_type": "code",
   "execution_count": 118,
   "metadata": {},
   "outputs": [
    {
     "data": {
      "text/plain": [
       "[(',', 77717), ('the', 76529), ('.', 65876), ('a', 38106), ('and', 35576)]"
      ]
     },
     "execution_count": 118,
     "metadata": {},
     "output_type": "execute_result"
    }
   ],
   "source": [
    "all_words.most_common(5) #5 najpopularniejszych slow"
   ]
  },
  {
   "cell_type": "code",
   "execution_count": 119,
   "metadata": {},
   "outputs": [
    {
     "data": {
      "text/plain": [
       "253"
      ]
     },
     "execution_count": 119,
     "metadata": {},
     "output_type": "execute_result"
    }
   ],
   "source": [
    "all_words[\"stupid\"] #ile razy wystąpilo slowo stupid"
   ]
  },
  {
   "cell_type": "code",
   "execution_count": 120,
   "metadata": {},
   "outputs": [
    {
     "data": {
      "text/plain": [
       "638"
      ]
     },
     "execution_count": 120,
     "metadata": {},
     "output_type": "execute_result"
    }
   ],
   "source": [
    "all_words[\"interesting\"] "
   ]
  },
  {
   "cell_type": "code",
   "execution_count": 121,
   "metadata": {},
   "outputs": [
    {
     "data": {
      "text/plain": [
       "270"
      ]
     },
     "execution_count": 121,
     "metadata": {},
     "output_type": "execute_result"
    }
   ],
   "source": [
    "all_words[\"boring\"]"
   ]
  },
  {
   "cell_type": "code",
   "execution_count": 17,
   "metadata": {},
   "outputs": [
    {
     "data": {
      "text/plain": [
       "39768"
      ]
     },
     "execution_count": 17,
     "metadata": {},
     "output_type": "execute_result"
    }
   ],
   "source": [
    "len(all_words) #ile wystapilo wszystkich slow"
   ]
  },
  {
   "cell_type": "code",
   "execution_count": 122,
   "metadata": {},
   "outputs": [],
   "source": [
    "word_features = [x[0] for x in all_words.most_common(3000)] #do zmiennej word_features zapisuje pierwsze 3000 najczęstszych slow"
   ]
  },
  {
   "cell_type": "code",
   "execution_count": 123,
   "metadata": {},
   "outputs": [],
   "source": [
    "#Tworze funkcje, ktorej argumentami będzie lista wyrazow, a ktora będzie wywolywana dla kolejnych recenzji, będe sprawdzal czy występują w niej slowa z word_features\n",
    "\n",
    "def find_features(document): #przez document rozumiemy tutaj lista wyrazow\n",
    "    words = set(document)    #patrze na unikatowe slowa\n",
    "    features = {}            #tworzę pusty slownik\n",
    "    for w in word_features: #word_features zdefiniowane wyzej [lista 3000 najczęstych slow we wszystkich recenzjach]\n",
    "        features[w] = (w in words) #True or False, dla kazdego slowa z word_features w zaleznosci czy jest czy nie w dokumencie\n",
    "    return features"
   ]
  },
  {
   "cell_type": "code",
   "execution_count": 124,
   "metadata": {},
   "outputs": [
    {
     "name": "stdout",
     "output_type": "stream",
     "text": [
      "True\n",
      "False\n"
     ]
    }
   ],
   "source": [
    "#Przykładowe wywołanie funkcji \n",
    "ex_r = movie_reviews.words('neg/cv000_29416.txt') #przykladowa recenzja\n",
    "\n",
    "print(find_features(ex_r)['plot']) #czy slowo 'plot' wsytapilo w tej recenzji?\n",
    "print(find_features(ex_r)['funny']) #czy slowo 'funny' wystapilo w tej recenzji?"
   ]
  },
  {
   "cell_type": "code",
   "execution_count": 125,
   "metadata": {},
   "outputs": [],
   "source": [
    "featuresets = [(find_features(rev),category) for (rev,category) in documents] #zapisuje liste krotek (slownik jak wyzej, pos/neg)"
   ]
  },
  {
   "cell_type": "code",
   "execution_count": 128,
   "metadata": {},
   "outputs": [
    {
     "name": "stdout",
     "output_type": "stream",
     "text": [
      "({',': True, 'the': True, '.': True, 'a': True, 'and': True, 'of': True, 'to': True, \"'\": True, 'is': True, 'in': True, 's': True, '\"': True, 'it': True, 'that': True, '-': False, ')': True, '(': True, 'as': True, 'with': True, 'for': True, 'his': True, 'this': True, 'film': True, 'i': True, 'he': True, 'but': False, 'on': True, 'are': False, 't': False, 'by': True, 'be': True, 'one': True, 'movie': True, 'an': True, 'who': True, 'not': True, 'you': True, 'from': True, 'at': True, 'was': True, 'have': True, 'they': False, 'has': True, 'her': False, 'all': True, '?': False, 'there': True, 'like': False, 'so': True, 'out': False, 'about': False, 'up': False, 'more': False, 'what': True, 'when': False, 'which': False, 'or': False, 'she': True, 'their': False, ':': False, 'some': False, 'just': True, 'can': False, 'if': True, 'we': False, 'him': True, 'into': False, 'even': False, 'only': True, 'than': False, 'no': False, 'good': True, 'time': True, 'most': True, 'its': False, 'will': True, 'story': False, 'would': True, 'been': True, 'much': True, 'character': True, 'also': False, 'get': False, 'other': True, 'do': True, 'two': False, 'well': False, 'them': False, 'very': True, 'characters': True, ';': False, 'first': False, '--': False, 'after': True, 'see': True, '!': False, 'way': True, 'because': False, 'make': False, 'life': False, 'off': False, 'too': False, 'any': True, 'does': False, 'really': True, 'had': False, 'while': False, 'films': False, 'how': False, 'plot': False, 'little': False, 'where': False, 'people': False, 'over': False, 'could': True, 'then': False, 'me': False, 'scene': True, 'man': False, 'bad': False, 'my': False, 'never': False, 'being': False, 'best': True, 'these': False, 'don': False, 'new': False, 'doesn': False, 'scenes': False, 'many': False, 'director': True, 'such': False, 'know': False, 'were': False, 'movies': False, 'through': False, 'here': True, 'action': False, 'great': False, 're': False, 'another': True, 'love': False, 'go': False, 'made': False, 'us': False, 'big': False, 'end': True, 'something': True, 'back': False, '*': False, 'still': False, 'world': False, 'seems': True, 'work': False, 'those': False, 'makes': True, 'now': False, 'before': False, 'however': True, 'between': False, 'few': False, '/': True, 'down': False, 'every': True, 'though': False, 'better': False, 'real': True, 'audience': False, 'enough': True, 'seen': True, 'take': False, 'around': False, 'both': True, 'going': False, 'year': False, 'performance': False, 'why': False, 'should': False, 'role': False, 'isn': False, 'same': False, 'old': False, 'gets': False, 'your': True, 'may': True, 'things': False, 'think': False, 'years': False, 'last': False, 'comedy': True, 'funny': True, 'actually': False, 've': True, 'long': True, 'look': False, 'almost': True, 'own': False, 'thing': False, 'fact': False, 'nothing': True, 'say': False, 'right': False, 'john': False, 'although': False, 'played': True, 'find': False, 'script': False, 'come': False, 'ever': True, 'cast': False, 'since': False, 'did': False, 'star': False, 'plays': True, 'young': False, 'show': False, 'comes': False, 'm': False, 'part': False, 'original': False, 'actors': False, 'screen': True, 'without': False, 'again': False, 'acting': False, 'three': False, 'day': False, 'each': False, 'point': False, 'lot': False, 'least': False, 'takes': True, 'guy': True, 'quite': True, 'himself': False, 'away': False, 'during': True, 'family': False, 'effects': False, 'course': False, 'goes': False, 'minutes': False, 'interesting': False, 'might': False, 'far': False, 'high': False, 'rather': False, 'once': True, 'must': False, 'anything': False, 'place': False, 'set': False, 'yet': False, 'watch': False, 'd': False, 'making': False, 'our': False, 'wife': True, 'hard': False, 'always': True, 'fun': False, 'didn': False, 'll': False, 'seem': False, 'special': False, 'bit': False, 'times': False, 'trying': True, 'hollywood': False, 'instead': False, 'give': False, 'want': True, 'picture': False, 'kind': False, 'american': False, 'job': False, 'sense': False, 'woman': False, 'home': False, 'having': False, 'series': False, 'actor': False, 'probably': False, 'help': False, 'half': False, 'along': False, 'men': False, 'everything': False, 'pretty': False, 'becomes': False, 'sure': False, 'black': False, 'together': False, 'dialogue': False, 'money': False, 'become': False, 'gives': False, 'given': False, 'looking': False, 'whole': False, 'watching': False, 'father': False, '`': False, 'feel': False, 'everyone': True, 'music': False, 'wants': True, 'sex': False, 'less': False, 'done': False, 'horror': False, 'got': False, 'death': False, 'perhaps': False, 'city': False, 'next': False, 'especially': False, 'play': False, 'girl': False, 'mind': True, '10': False, 'moments': False, 'looks': False, 'completely': False, '2': False, 'reason': True, 'mother': False, 'whose': False, 'line': False, 'night': False, 'human': True, 'until': False, 'rest': False, 'performances': False, 'different': False, 'evil': False, 'small': False, 'james': False, 'simply': False, 'couple': False, 'put': False, 'let': False, 'anyone': False, 'ending': False, 'case': False, 'several': False, 'dead': False, 'michael': False, 'left': False, 'thought': False, 'school': False, 'shows': True, 'humor': False, 'true': False, 'lost': False, 'written': True, 'itself': False, 'friend': False, 'entire': True, 'getting': False, 'town': False, 'turns': False, 'soon': False, 'someone': False, 'second': False, 'main': False, 'stars': False, 'found': False, 'use': False, 'problem': True, 'friends': False, 'tv': False, 'top': True, 'name': False, 'begins': True, 'called': False, 'based': False, 'comic': False, 'david': False, 'head': False, 'else': False, 'idea': False, 'either': False, 'wrong': False, 'unfortunately': False, 'later': False, 'final': False, 'hand': False, 'alien': False, 'house': False, 'group': False, 'full': False, 'used': False, 'tries': False, 'often': False, 'against': False, 'war': False, 'sequence': False, 'keep': False, 'turn': False, 'playing': False, 'boy': False, 'behind': False, 'named': False, 'certainly': False, 'live': False, 'believe': False, 'under': False, 'works': False, 'relationship': False, 'face': False, 'hour': False, 'run': False, 'style': False, 'said': False, 'despite': False, 'person': True, 'finally': False, 'shot': False, 'book': False, 'doing': False, 'tell': False, 'maybe': False, 'nice': True, 'son': False, 'perfect': False, 'side': True, 'seeing': True, 'able': False, 'finds': True, 'children': False, 'days': False, 'past': False, 'summer': False, 'camera': False, 'won': False, 'including': False, 'mr': False, 'kids': False, 'lives': False, 'directed': False, 'moment': False, 'game': True, 'running': True, 'fight': False, 'supposed': False, 'video': False, 'car': False, 'matter': False, 'kevin': False, 'joe': False, 'lines': False, 'worth': False, '=': False, 'daughter': True, 'earth': False, 'starts': False, 'need': False, 'entertaining': False, 'white': False, 'start': False, 'writer': False, 'dark': False, 'short': False, 'self': False, 'worst': False, 'nearly': False, 'opening': False, 'try': False, 'upon': False, 'care': False, 'early': False, 'violence': False, 'throughout': False, 'team': False, 'production': False, 'example': False, 'beautiful': False, 'title': False, 'exactly': False, 'jack': False, 'review': False, 'major': False, 'drama': False, '&': False, 'problems': False, 'sequences': False, 'obvious': False, 'version': False, 'screenplay': False, 'known': False, 'killer': False, 'wasn': False, 'robert': False, 'disney': False, 'already': False, 'close': False, 'classic': False, 'others': False, 'hit': False, 'kill': False, 'deep': False, 'five': False, 'order': False, 'act': False, 'simple': False, 'fine': False, 'themselves': False, 'heart': False, 'roles': False, 'jackie': False, 'direction': False, 'eyes': False, 'four': False, 'question': False, 'sort': False, 'sometimes': False, 'knows': True, 'supporting': False, 'coming': False, 'voice': False, 'women': False, 'truly': False, 'save': False, 'jokes': False, 'computer': False, 'child': False, 'o': False, 'boring': False, 'tom': False, 'level': False, '1': False, 'body': False, 'guys': False, 'genre': False, 'brother': False, 'strong': False, 'stop': False, 'room': False, 'space': False, 'lee': False, 'ends': False, 'beginning': False, 'ship': False, 'york': False, 'attempt': False, 'thriller': False, 'scream': False, 'peter': False, 'aren': False, 'husband': False, 'fiction': False, 'happens': False, 'hero': False, 'novel': False, 'note': False, 'hope': False, 'king': False, 'yes': False, 'says': False, 'tells': False, 'quickly': False, 'romantic': False, 'dog': False, 'oscar': False, 'stupid': False, 'possible': False, 'saw': False, 'lead': False, 'career': False, 'murder': False, 'extremely': True, 'manages': False, 'god': False, 'mostly': False, 'wonder': False, 'particularly': False, 'future': False, 'fans': False, 'sound': False, 'worse': False, 'piece': False, 'involving': False, 'de': False, 'appears': False, 'planet': False, 'paul': False, 'involved': False, 'mean': False, 'none': False, 'taking': False, 'hours': False, 'laugh': False, 'police': False, 'sets': False, 'attention': False, 'co': False, 'hell': False, 'eventually': False, 'single': False, 'fall': False, 'falls': False, 'material': False, 'emotional': False, 'power': False, 'late': False, 'lack': False, 'dr': False, 'van': False, 'result': False, 'elements': False, 'meet': False, 'smith': False, 'science': False, 'experience': False, 'bring': False, 'wild': False, 'living': False, 'theater': False, 'interest': True, 'leads': False, 'word': False, 'feature': False, 'battle': False, 'girls': False, 'alone': False, 'obviously': False, 'george': True, 'within': False, 'usually': False, 'enjoy': False, 'guess': False, 'among': False, 'taken': False, 'feeling': True, 'laughs': False, 'aliens': False, 'talk': False, 'chance': False, 'talent': False, '3': False, 'middle': False, 'number': False, 'easy': False, 'across': False, 'needs': False, 'attempts': False, 'happen': False, 'television': False, 'chris': False, 'deal': False, 'poor': False, 'form': False, 'girlfriend': True, 'viewer': False, 'release': False, 'killed': False, 'forced': False, 'whether': False, 'wonderful': False, 'feels': False, 'oh': False, 'tale': False, 'serious': False, 'expect': False, 'except': False, 'light': False, 'success': False, 'features': False, 'premise': False, 'happy': False, 'words': False, 'leave': False, 'important': False, 'meets': False, 'history': False, 'giving': False, 'crew': False, 'type': True, 'call': False, 'turned': False, 'released': False, 'parents': False, 'art': False, 'impressive': False, 'mission': False, 'working': False, 'seemed': False, 'score': False, 'told': False, 'recent': False, 'robin': False, 'basically': False, 'entertainment': False, 'america': False, '$': False, 'surprise': False, 'apparently': False, 'easily': False, 'ryan': False, 'cool': False, 'stuff': False, 'cop': False, 'change': False, 'williams': False, 'crime': False, 'office': False, 'parts': False, 'somehow': False, 'sequel': False, 'william': False, 'cut': False, 'die': False, 'jones': False, 'credits': False, 'batman': False, 'suspense': False, 'brings': False, 'events': False, 'reality': False, 'whom': False, 'local': False, 'talking': False, 'difficult': False, 'using': False, 'went': False, 'writing': False, 'remember': False, 'near': False, 'straight': False, 'hilarious': True, 'ago': False, 'certain': False, 'ben': False, 'kid': True, 'wouldn': False, 'slow': False, 'blood': False, 'mystery': False, 'complete': False, 'red': False, 'popular': False, 'effective': False, 'am': False, 'fast': False, 'flick': False, 'due': False, 'runs': False, 'gone': False, 'return': False, 'presence': False, 'quality': False, 'dramatic': False, 'filmmakers': False, 'age': False, 'brothers': False, 'business': False, 'general': False, 'rock': False, 'sexual': False, 'present': False, 'surprisingly': False, 'anyway': False, 'uses': False, '4': False, 'personal': False, 'figure': False, 'smart': False, 'ways': False, 'decides': False, 'annoying': False, 'begin': False, 'couldn': False, 'somewhat': False, 'shots': False, 'rich': False, 'minute': False, 'law': False, 'previous': False, 'jim': False, 'successful': False, 'harry': False, 'water': False, 'similar': False, 'absolutely': False, 'motion': False, 'former': False, 'strange': False, 'came': False, 'follow': False, 'read': False, 'project': False, 'million': False, 'secret': False, 'starring': True, 'clear': False, 'familiar': False, 'romance': False, 'intelligent': False, 'third': False, 'excellent': False, 'amazing': False, 'party': False, 'budget': False, 'eye': False, 'actress': False, 'prison': False, 'latest': False, 'means': False, 'company': False, 'towards': False, 'predictable': False, 'powerful': False, 'nor': False, 'bob': False, 'beyond': False, 'visual': False, 'leaves': False, 'r': False, 'nature': False, 'following': False, 'villain': False, 'leaving': False, 'animated': False, 'low': False, 'myself': False, 'b': False, 'bill': False, 'sam': False, 'filled': False, 'wars': False, 'questions': False, 'cinema': False, 'message': False, 'box': False, 'moving': False, 'herself': False, 'country': False, 'usual': False, 'martin': False, 'definitely': False, 'add': False, 'large': False, 'clever': False, 'create': False, 'felt': False, 'stories': False, 'brilliant': False, 'ones': False, 'giant': False, 'situation': True, 'murphy': False, 'break': False, 'opens': True, 'scary': False, 'doubt': True, 'drug': False, 'bunch': False, 'thinking': False, 'solid': False, 'effect': False, 'learn': False, 'move': False, 'force': False, 'potential': False, 'seriously': False, 'follows': False, 'above': False, 'saying': False, 'huge': False, 'class': False, 'plan': False, 'agent': False, 'created': False, 'unlike': False, 'pay': False, 'non': False, 'married': True, 'mark': False, 'sweet': False, 'perfectly': False, 'ex': False, 'realize': False, 'audiences': False, 'took': False, 'decent': False, 'likely': False, 'dream': False, 'view': True, 'scott': False, 'subject': False, 'understand': False, 'happened': False, 'enjoyable': False, 'studio': False, 'immediately': True, 'open': False, 'e': False, 'points': False, 'heard': False, 'viewers': False, 'cameron': False, 'truman': False, 'bruce': False, 'frank': False, 'private': False, 'stay': False, 'fails': False, 'impossible': False, 'cold': False, 'richard': False, 'overall': False, 'merely': False, 'exciting': False, 'mess': False, 'chase': False, 'free': False, 'ten': False, 'neither': False, 'wanted': False, 'gun': False, 'appear': False, 'carter': False, 'escape': False, 'ultimately': False, '+': False, 'fan': False, 'inside': False, 'favorite': False, 'haven': False, 'modern': False, 'l': False, 'wedding': False, 'stone': False, 'trek': False, 'brought': False, 'trouble': False, 'otherwise': False, 'tim': False, '5': False, 'allen': False, 'bond': False, 'society': False, 'liked': False, 'dumb': False, 'musical': False, 'stand': False, 'political': False, 'various': False, 'talented': False, 'particular': False, 'west': False, 'state': False, 'keeps': False, 'english': False, 'silly': False, 'u': False, 'situations': False, 'park': False, 'teen': False, 'rating': False, 'slightly': False, 'steve': False, 'truth': False, 'air': False, 'element': False, 'joke': False, 'spend': False, 'key': False, 'biggest': False, 'members': False, 'effort': False, 'government': False, 'focus': False, 'eddie': True, 'soundtrack': False, 'hands': False, 'earlier': False, 'chan': False, 'purpose': False, 'today': False, 'showing': False, 'memorable': False, 'six': False, 'cannot': False, 'max': False, 'offers': False, 'rated': False, 'mars': False, 'heavy': False, 'totally': False, 'control': False, 'credit': False, 'fi': False, 'woody': False, 'ideas': False, 'sci': False, 'wait': False, 'sit': False, 'female': False, 'ask': False, 'waste': False, 'terrible': False, 'depth': False, 'simon': True, 'aspect': False, 'list': False, 'mary': False, 'sister': False, 'animation': False, 'entirely': False, 'fear': False, 'steven': False, 'moves': False, 'actual': False, 'army': False, 'british': False, 'constantly': False, 'fire': False, 'convincing': False, 'setting': False, 'gave': False, 'tension': False, 'street': False, '8': False, 'brief': False, 'ridiculous': False, 'cinematography': False, 'typical': False, 'nick': False, 'screenwriter': False, 'ability': False, 'spent': False, 'quick': False, 'violent': False, 'atmosphere': False, 'subtle': False, 'expected': False, 'fairly': False, 'seven': False, 'killing': False, 'tone': False, 'master': False, 'disaster': False, 'lots': False, 'thinks': False, 'song': False, 'cheap': False, 'suddenly': False, 'background': False, 'club': False, 'willis': False, 'whatever': False, 'highly': False, 'sees': False, 'complex': False, 'greatest': False, 'impact': False, 'beauty': False, 'front': False, 'humans': False, 'indeed': False, 'flat': False, 'grace': False, 'wrote': False, 'amusing': False, 'ii': False, 'mike': False, 'further': False, 'cute': False, 'dull': False, 'minor': False, 'recently': False, 'hate': False, 'outside': False, 'plenty': False, 'wish': False, 'godzilla': False, 'college': False, 'titanic': False, 'sounds': False, 'telling': False, 'sight': False, 'double': False, 'cinematic': False, 'queen': False, 'hold': False, 'meanwhile': False, 'awful': False, 'clearly': False, 'theme': False, 'hear': False, 'x': False, 'amount': False, 'baby': False, 'approach': False, 'dreams': False, 'shown': False, 'island': False, 'reasons': False, 'charm': False, 'miss': False, 'longer': False, 'common': False, 'sean': False, 'carry': False, 'believable': False, 'realistic': False, 'chemistry': False, 'possibly': False, 'casting': False, 'carrey': False, 'french': False, 'trailer': False, 'tough': False, 'produced': False, 'imagine': False, 'choice': False, 'ride': False, 'somewhere': False, 'hot': False, 'race': False, 'road': False, 'leader': False, 'thin': False, 'jerry': False, 'slowly': False, 'delivers': False, 'detective': False, 'brown': False, 'jackson': False, 'member': False, 'provide': False, 'president': False, 'puts': False, 'asks': False, 'critics': False, 'appearance': False, 'famous': False, 'okay': False, 'intelligence': False, 'energy': False, 'sent': False, 'spielberg': False, 'development': False, 'etc': False, 'language': False, 'blue': False, 'proves': False, 'vampire': False, 'seemingly': False, 'basic': False, 'caught': False, 'decide': False, 'opportunity': False, 'incredibly': False, 'images': False, 'band': False, 'j': False, 'writers': False, 'knew': False, 'interested': False, 'considering': False, 'boys': False, 'thanks': False, 'remains': False, 'climax': False, 'event': False, 'directing': False, 'conclusion': False, 'leading': False, 'ground': False, 'lies': False, 'forget': False, 'alive': False, 'tarzan': False, 'century': False, 'provides': False, 'trip': False, 'partner': False, 'central': False, 'tarantino': False, 'period': False, 'pace': False, 'yourself': False, 'worked': False, 'ready': True, 'date': True, 'thus': False, '1998': True, 'terrific': False, 'write': False, 'average': False, 'onto': False, 'songs': False, 'occasionally': False, 'doctor': False, 'stands': False, 'hardly': False, 'monster': False, 'led': False, 'mysterious': False, 'details': False, 'wasted': False, 'apart': False, 'aside': False, 'store': False, 'billy': False, 'boss': False, 'travolta': False, 'producer': False, 'pull': False, 'consider': False, 'pictures': False, 'becoming': False, 'cage': False, 'loud': False, 'looked': False, 'officer': False, 'twenty': False, 'system': False, 'contains': False, 'julia': False, 'subplot': False, 'missing': False, 'personality': False, 'building': False, 'learns': False, 'hong': False, 'la': False, 'apartment': False, '7': False, 'bizarre': False, 'powers': False, 'flaws': False, 'catch': False, 'lawyer': False, 'shoot': False, 'student': False, 'unique': False, '000': False, 'admit': False, 'concept': False, 'needed': False, 'thrown': False, 'christopher': False, 'laughing': False, 'green': False, 'twists': False, 'matthew': False, 'touch': False, 'waiting': False, 'victim': False, 'cover': False, 'machine': False, 'danny': False, 'mention': False, 'search': False, '1997': False, 'win': False, 'door': False, 'manner': False, 'train': False, 'saving': False, 'share': False, 'image': False, 'discovers': False, 'normal': False, 'cross': False, 'fox': False, 'returns': False, 'adult': False, 'adds': False, 'answer': False, 'adventure': False, 'lame': False, 'male': False, 'odd': False, 'singer': False, 'deserves': False, 'gore': False, 'states': False, 'include': False, 'equally': False, 'months': False, 'barely': False, 'directors': False, 'introduced': False, 'fashion': False, 'social': False, '1999': False, 'news': False, 'hair': False, 'dance': False, 'innocent': False, 'camp': False, 'teacher': False, 'became': False, 'sad': True, 'witch': False, 'includes': False, 'nights': False, 'jason': False, 'julie': False, 'latter': False, 'food': False, 'jennifer': False, 'land': False, 'menace': False, 'rate': False, 'storyline': False, 'contact': False, 'jean': False, 'elizabeth': False, 'fellow': False, 'changes': False, 'henry': False, 'hill': False, 'pulp': False, 'gay': False, 'tried': False, 'surprised': False, 'literally': False, 'walk': False, 'standard': False, '90': False, 'forward': False, 'wise': False, 'enjoyed': False, 'discover': False, 'pop': False, 'anderson': False, 'offer': False, 'recommend': False, 'public': False, 'drive': False, 'c': False, 'toy': False, 'charming': False, 'fair': False, 'chinese': False, 'rescue': False, 'terms': False, 'mouth': False, 'lucas': False, 'accident': False, 'dies': False, 'decided': False, 'edge': False, 'footage': False, 'culture': False, 'weak': False, 'presented': False, 'blade': False, 'younger': False, 'douglas': False, 'natural': False, 'born': False, 'generally': False, 'teenage': False, 'older': False, 'horrible': False, 'addition': False, 'sadly': False, 'creates': False, 'disturbing': False, 'roger': False, 'detail': False, 'devil': False, 'debut': False, 'track': False, 'developed': False, 'week': False, 'russell': False, 'attack': False, 'explain': False, 'rarely': False, 'fully': False, 'prove': False, 'exception': False, 'jeff': False, 'twist': False, 'gang': False, 'winning': False, 'jr': False, 'species': False, 'issues': False, 'fresh': False, 'rules': False, 'meaning': False, 'inspired': False, 'heroes': False, 'desperate': False, 'fighting': False, 'filmed': False, 'faces': False, 'alan': False, 'bright': False, 'ass': False, 'flying': False, 'kong': False, 'rush': False, 'forces': False, 'charles': True, 'numerous': False, 'emotions': False, 'involves': False, 'patrick': False, 'weird': False, 'apparent': False, 'information': False, 'revenge': False, 'jay': False, 'toward': False, 'surprising': False, 'twice': False, 'editing': False, 'calls': False, 'lose': False, 'vegas': False, 'stage': False, 'intended': False, 'gags': False, 'opinion': False, 'likes': False, 'crazy': False, 'owner': False, 'places': False, 'pair': False, 'genuine': True, 'epic': False, 'speak': False, 'throw': False, 'appeal': False, 'gibson': False, 'captain': False, 'military': False, '20': False, 'blair': False, 'nowhere': False, 'length': False, 'nicely': False, 'cause': False, 'pass': False, 'episode': False, 'kiss': False, 'arnold': False, 'please': False, 'hasn': False, 'phone': False, 'filmmaking': False, 'formula': False, 'boyfriend': True, 'talents': False, 'creating': False, 'kelly': False, 'buy': False, 'wide': False, 'fantasy': False, 'mood': False, 'heads': False, 'pathetic': False, 'lacks': False, 'loved': False, 'asked': False, 'mrs': False, 'witty': False, 'shakespeare': False, 'mulan': False, 'generation': False, 'affair': False, 'pieces': False, 'task': False, 'rare': False, 'kept': False, 'cameo': False, 'fascinating': False, 'ed': False, 'fbi': False, 'burton': False, 'incredible': False, 'accent': False, 'artist': False, 'superior': False, 'academy': False, 'thomas': False, 'spirit': False, 'technical': False, 'confusing': False, 'poorly': False, 'target': False, 'lover': False, 'woo': False, 'mentioned': False, 'theaters': False, 'plane': False, 'confused': False, 'dennis': False, 'rob': False, 'appropriate': False, 'christmas': False, 'considered': False, 'legend': False, 'shame': False, 'soul': False, 'matt': False, 'campbell': False, 'process': False, 'bottom': False, 'sitting': False, 'brain': False, 'creepy': False, '13': False, 'forever': False, 'dude': False, 'crap': False, 'superb': False, 'speech': False, 'ice': False, 'journey': False, 'masterpiece': False, 'intriguing': False, 'names': False, 'pick': False, 'speaking': False, 'virtually': True, 'award': False, 'worthy': False, 'marriage': False, 'deliver': False, 'cash': False, 'magic': False, 'respect': False, 'product': False, 'necessary': False, 'suppose': False, 'silent': False, 'pointless': False, 'station': False, 'affleck': False, 'dimensional': False, 'charlie': False, 'allows': False, 'avoid': False, 'meant': False, 'cops': False, 'attitude': False, 'relationships': True, 'hits': False, 'stephen': False, 'spends': True, 'relief': False, 'physical': False, 'count': False, 'reviews': False, 'appreciate': False, 'cliches': False, 'holds': False, 'pure': False, 'plans': False, 'limited': False, 'failed': False, 'pain': False, 'impression': False, 'unless': False, 'sub': False, '[': False, 'total': False, 'creature': False, 'viewing': False, 'loves': True, 'princess': False, 'kate': False, 'rising': False, 'woods': False, 'baldwin': False, 'angry': False, 'drawn': False, 'step': False, 'matrix': False, 'themes': False, 'satire': False, 'arts': False, ']': False, 'remake': False, 'wall': False, 'moral': False, 'color': False, 'ray': False, 'stuck': False, 'touching': False, 'wit': False, 'tony': False, 'hanks': False, 'continues': False, 'damn': False, 'nobody': False, 'cartoon': False, 'keeping': False, 'realized': False, 'criminal': False, 'unfunny': False, 'comedic': False, 'martial': False, 'disappointing': False, 'anti': False, 'graphic': False, 'stunning': False, 'actions': False, 'floor': False, 'emotion': False, 'soldiers': False, 'edward': False, 'comedies': False, 'driver': False, 'expectations': False, 'added': False, 'mad': False, 'angels': False, 'shallow': False, 'suspect': False, 'humorous': False, 'phantom': False, 'appealing': True, 'device': False, 'design': False, 'industry': False, 'reach': False, 'fat': False, 'blame': False, 'united': False, 'sign': False, 'portrayal': False, 'rocky': False, 'finale': False, 'grand': False, 'opposite': False, 'hotel': True, 'match': False, 'damme': False, 'speed': False, 'ok': False, 'loving': False, 'field': False, 'larry': False, 'urban': False, 'troopers': False, 'compared': False, 'apes': False, 'rose': False, 'falling': False, 'era': False, 'loses': True, 'adults': False, 'managed': False, 'dad': False, 'therefore': False, 'pg': False, 'results': False, 'guns': False, 'radio': False, 'lady': False, 'manage': False, 'spice': False, 'naked': False, 'started': False, 'intense': False, 'humanity': False, 'wonderfully': False, 'slasher': False, 'bland': False, 'imagination': False, 'walking': False, 'willing': False, 'horse': False, 'rent': False, 'mix': False, 'generated': False, 'g': False, 'utterly': False, 'scientist': False, 'washington': False, 'notice': False, 'players': False, 'teenagers': False, 'moore': False, 'board': False, 'price': False, 'frightening': False, 'tommy': False, 'spectacular': False, 'bored': False, 'jane': False, 'join': False, 'producers': False, 'johnny': False, 'zero': False, 'vampires': False, 'adaptation': False, 'dollars': False, 'parody': False, 'documentary': False, 'dvd': False, 'wayne': False, 'post': False, 'exist': False, 'matters': False, 'chosen': False, 'mel': False, 'attractive': False, 'plain': False, 'trust': False, 'safe': False, 'reading': False, 'hoping': False, 'protagonist': False, 'feelings': False, 'fate': False, 'finding': False, 'feet': False, 'visuals': False, 'spawn': False, 'compelling': False, 'hall': False, 'sympathetic': False, 'featuring': False, 'difference': False, 'professional': False, 'drugs': False, 'ford': False, 'shooting': False, 'gold': False, 'patch': False, 'build': False, 'boat': False, 'cruise': False, 'honest': False, 'media': False, 'flicks': False, 'bug': False, 'bringing': False, 'dangerous': False, 'watched': False, 'grant': False, 'smile': False, 'plus': False, 'shouldn': False, 'decision': False, 'visually': False, 'allow': False, 'starship': False, 'roberts': False, 'dying': False, 'portrayed': False, 'turning': False, 'believes': False, 'changed': False, 'shock': False, 'destroy': False, '30': False, 'crowd': False, 'broken': False, 'tired': False, 'fail': False, 'south': False, 'died': False, 'cult': False, 'fake': False, 'vincent': False, 'identity': False, 'sexy': False, 'hunt': False, 'jedi': False, 'flynt': False, 'alex': False, 'engaging': False, 'serve': False, 'snake': False, 'yeah': False, 'expecting': False, '100': False, 'decade': False, 'ups': False, 'constant': False, 'current': False, 'survive': False, 'jimmy': False, 'buddy': False, 'send': False, 'brooks': False, 'goofy': False, 'likable': False, 'humour': False, 'technology': False, 'files': False, 'babe': False, 'aspects': False, 'presents': False, 'kills': False, 'supposedly': False, 'eight': False, 'sandler': False, 'hospital': False, 'test': False, 'hidden': False, 'brian': False, 'books': False, 'promise': False, 'determined': False, 'professor': False, 'welcome': False, 'pleasure': False, 'succeeds': False, 'individual': False, 'annie': False, 'mob': False, 'ted': False, 'virus': False, 'content': False, 'gary': False, 'direct': False, 'contrived': False, 'carpenter': False, 'scale': False, 'sick': False, 'nasty': False, 'conflict': False, 'haunting': False, 'ghost': False, 'filmmaker': False, 'japanese': False, 'helps': False, 'fare': False, 'lucky': False, 'ultimate': False, 'window': False, 'support': False, 'goal': False, 'provided': False, 'genius': False, 'winner': False, 'taylor': False, 'fantastic': False, 'faith': False, 'lynch': False, 'fit': False, 'catherine': False, 'ms': False, 'paced': False, 'breaks': False, 'al': False, 'frame': False, 'travel': False, 'badly': False, 'available': False, 'cares': False, 'reeves': False, 'crash': False, 'driving': False, 'press': False, 'seagal': False, 'amy': False, '9': False, 'headed': False, 'instance': False, 'excuse': False, 'offensive': False, 'narrative': False, 'fault': False, 'bus': False, 'f': False, 'extreme': False, 'miller': False, 'guilty': False, 'grows': False, 'overly': False, 'liners': False, 'forgotten': False, 'ahead': False, 'accept': False, 'porn': False, 'directly': False, 'helen': False, 'began': False, 'lord': False, 'folks': False, 'mediocre': False, 'bar': False, 'surface': False, 'super': False, 'failure': False, '6': False, 'acted': False, 'quiet': False, 'laughable': False, 'sheer': False, 'security': False, 'emotionally': False, 'season': False, 'stuart': False, 'jail': False, 'deals': False, 'cheesy': False, 'court': False, 'beach': True, 'austin': False, 'model': False, 'outstanding': False, 'substance': False, 'nudity': False, 'slapstick': False, 'joan': False, 'reveal': False, 'placed': False, 'check': False, 'beast': False, 'hurt': False, 'bloody': False, 'acts': False, 'fame': False, 'meeting': False, 'nuclear': False, '1996': False, 'strength': False, 'center': False, 'funniest': False, 'standing': False, 'damon': False, 'clich': False, 'position': False, 'desire': True, 'driven': False, 'seat': False, 'stock': False, 'wondering': False, 'realizes': False, 'dealing': False, 'taste': False, 'routine': False, 'comparison': False, 'cinematographer': False, 'seconds': False, 'singing': False, 'gangster': False, 'responsible': False, 'football': False, 'remarkable': False, 'hunting': False, 'adams': False, 'fly': False, 'suspects': False, 'treat': False, 'hopes': False, 'heaven': False, 'myers': False, 'struggle': False, 'costumes': False, 'beat': False, 'happening': False, 'skills': False, 'ugly': False, 'figures': False, 'thoroughly': False, 'ill': False, 'surprises': False, 'player': False, 'rival': False, 'guard': False, 'anthony': False, 'strike': False, 'community': False, 'streets': False, 'hopkins': False, 'ended': False, 'originally': False, 'sarah': False, 'creative': False, 'characterization': False, 'thankfully': False, 'growing': False, 'sharp': False, 'williamson': False, 'eccentric': False, 'explained': False, 'hey': False, 'claire': False, 'steal': False, 'inevitable': False, 'joel': False, 'core': False, 'weren': False, 'sorry': False, 'built': False, 'anne': False, 'breaking': False, 'villains': False, 'critic': False, 'lets': False, 'visit': False, 'followed': False, 'serial': False, 'value': False, 'missed': False, 'oliver': False, 'hollow': False, 'sea': False, 'animal': False, 'freeman': False, 'animals': False, 'crystal': False, 'sidney': False, 'lacking': False, 'students': False, 'continue': False, 'extra': False, 'scorsese': False, 'church': False, 'stick': False, 'explanation': False, 'below': False, 'hip': False, 'quest': False, 'mistake': False, 'jump': False, 'fights': False, 'cusack': False, 'included': False, 'draw': False, '15': False, 'games': False, '1995': False, 'judge': False, 'gotten': True, 'chief': False, 'derek': False, 'thirty': False, 'record': False, 'everybody': False, 'veteran': False, 'develop': False, 'knowledge': False, 'serves': False, 'boogie': False, 'arrives': True, 'clooney': False, 'enter': False, 'russian': False, 'obsessed': False, 'vision': False, 'screenwriters': False, 'luck': False, 'holes': False, 'religious': False, 'witness': False, 'flashbacks': False, 'heavily': False, 'frequently': False, 'capable': False, 'armageddon': False, 'pacing': False, 'rise': False, 'mainly': False, 'fill': False, 'barry': False, 'schwarzenegger': False, 'clean': False, 'previously': False, 'grow': False, 'keaton': False, 'empty': False, 'synopsis': False, 'victims': False, 'adam': False, 'bed': False, 'lawrence': False, 'stallone': False, 'hunter': False, 'memory': False, 'suit': False, 'bobby': False, 'tragedy': False, 'saved': False, 'spot': False, 'unexpected': False, 'encounter': False, 'hearted': False, 'bacon': False, 'disappointment': False, 'bigger': False, 'noir': False, 'nicholson': False, 'evidence': False, 'relatively': False, 'morning': False, 'andrew': False, 'range': False, 'numbers': False, 'walter': False, 'vehicle': False, 'pulled': False, 'describe': False, 'cliched': False, 'sky': False, 'efforts': False, 'logic': False, 'verhoeven': False, 'assistant': False, 'existence': False, 'worker': False, 'freedom': False, 'theatre': False, 'wood': False, 'warm': False, 'fish': False, 'ripley': False, 'mental': False, 'study': False, 'justice': False, 'cliche': False, 'foot': False, 'jonathan': False, 'grown': False, 'unnecessary': False, 'rip': False, 'learned': False, 'skin': False, 'talks': False, 'ball': False, 'alice': False, 'roll': False, 'weeks': False, 'jon': False, 'courtroom': False, 'positive': False, 'putting': False, 'connection': False, 'london': False, 'angel': False, 'contrast': False, 'exact': False, 'fifteen': False, 'eric': False, 'prince': False, 'bound': False, 'traditional': False, 'regular': False, 'eve': False, 'niro': False, 'las': False, 'remain': False, 'anna': False, 'moved': False, 'asking': False, 'genuinely': False, 'rain': False, 'path': False, 'aware': False, 'causes': False, 'international': False, 'naturally': False, 'bank': False, 'faced': False, 'elaborate': False, 'shocking': False, 'besides': False, 'trash': False, 'paris': False, 'captured': False, 'concerned': False, 'rule': False, 'held': False, 'claims': False, 'cell': False, 'daniel': False, 'pilot': False, 'independence': False, 'ocean': False, 'eat': False, 'punch': False, 'desperately': False, 'reminiscent': False, 'knowing': False, 'greater': False, 'largely': False, 'hundred': False, 'shrek': False, 'flash': False, 'occasional': False, 'danger': False, 'thrillers': False, 'essentially': False, 'terror': False, 'whenever': False, 'suggest': False, 'baseball': False, 'blockbuster': False, 'pie': False, 'starting': False, 'satisfying': False, 'allowed': False, 'minds': False, 'neil': True, 'hank': False, 'storm': False, 'disappointed': False, 'jake': False, 'wearing': False, 'explains': False, 'marry': False, 'national': False, 'psychological': False, 'pig': False, 'nomination': False, 'critique': False, 'theatrical': False, 'psycho': False, 'necessarily': False, 'threatening': False, 'fallen': False, 'dogs': False, 'painful': False, 'plots': False, 'sends': False, 'department': False, 'agrees': False, 'league': False, 'covered': False, 'source': False, 'revealed': False, 'historical': False, 'perspective': False, 'patient': False, '17': False, 'arquette': False, 'successfully': False, 'n': False, 'afraid': False, 'mom': False, 'murders': False, 'jar': False, 'suicide': False, 'joy': False, 'nightmare': False, 'halloween': False, 'cuts': False, 'wilson': False, 'nine': False, '80': False, 'drunken': False, 'painfully': False, 'opera': False, 'wrestling': False, 'references': False, 'cars': False, 'bomb': False, 'luke': False, 'pulls': False, 'passion': False, 'sleep': False, 'structure': False, 'agree': False, 'occur': False, 'brad': False, 'chicago': False, 'con': False, 'attacks': False, 'service': False, 'stunts': False, 'bulworth': False, 'murray': False, 'trilogy': False, 'intensity': False, 'tradition': False, 'unfortunate': False, 'seth': False, 'stiller': False, 'suspenseful': False, 'steals': False, 'cat': False, 'investigation': False, 'lovely': False, 'stops': False, 'hanging': False, 'oddly': False, 'choices': False, 'warning': False, 'climactic': False, 'ape': False, 'jungle': False, 'england': False, 'sole': False, 'conspiracy': False, 'surely': False, 'author': False, '50': False, 'program': False, 'broderick': False, 'china': False, 'weapon': False, 'unbelievable': False, 'quaid': False, 'gross': False, 'ensemble': False, 'dinner': False, 'dirty': False, 'soft': False, 'loose': False, 'memories': False, 'harris': False, 'laughter': False, 'nevertheless': False, 'suffering': False, 'initially': False, 'narration': False, 'terribly': False, 'stolen': False, 'answers': False, 'wealthy': False, 'originality': False, 'reaction': False, 'foreign': False, 'significant': False, 'donnell': False, 'fu': False, 'reminded': False, 'subplots': False, 'risk': False, 'creatures': False, '12': False, 'african': False, 'convinced': False, 'lewis': False, 'capture': False, 'makers': False, 'requires': False, 'friendship': False, 'spy': False, 'met': True, 'uninteresting': False, 'christian': False, 'deadly': False, 'critical': False, 'behavior': False, 'slave': False, 'thrills': False, 'duvall': False, 'segment': False, 'monkey': False, 'bitter': False, 'status': False, 'refuses': False, 'nbsp': False, 'understanding': False, 'described': False, 'voiced': False, 'accidentally': False, 'endless': False, 'showed': False, 'schumacher': False, 'hired': False, '2001': False, 'terry': False, 'walks': False, 'li': False, 'complicated': False, 'weekend': False, 'sequels': False, 'excitement': False, 'commercial': False, 'performers': False, 'rick': False, 'beloved': False, 'unlikely': False, 'bag': False, 'keanu': False, 'tight': False, 'terminator': False, 'desert': False, 'german': False, 'wears': False, 'effectively': False, 'flaw': False, 'meg': False, 'thoughts': False, 'scare': False, 'prime': False, 'soldier': False, 'todd': False, 'suffers': False, 'greg': False, 'p': False, 'shop': False, 'discovered': False, 'bear': False, 'melvin': False, 'dragon': False, 'heroine': False, 'sudden': False, 'gag': False, 'killers': False, 'halfway': True, 'strikes': False, 'root': True, 'handled': False, 'handle': False, 'explosions': False, 'mickey': False, 'extraordinary': False, 'sports': False, 'collection': False, 'photography': False, 'speaks': False, 'issue': False, 'mid': False, 'proceedings': False, 'ethan': False, 'delightful': False, 'laughed': False, 'vacation': False, 'pitt': False, 'lebowski': False, 'lovers': False, 'quirky': False, 'texas': False, 'flesh': False, 'dean': False, 'crisis': False, 'touches': False, 'crow': False, 'dollar': False, 'attempting': False, 'murdered': False, '0': False, 'fugitive': False, 'values': False, 'loser': False, 'unable': False, 'drunk': False, 'kung': False, 'western': False, 'childhood': False, 'anywhere': False, 'gift': False, 'destroyed': False, 'chicken': False, 'tense': False, 'gonna': False, 'embarrassing': False, 'selling': False, 'sing': False, 'tragic': False, 'irritating': False, 'wind': False, 'barrymore': False, 'extended': False, 'dozen': False, 'enemy': False, 'frankly': False, 'drop': False, 'norton': False, 'hype': False, 'unusual': False, 'ordinary': False, 'finest': False, 'losing': False, 'ian': False, 'phil': False, 'cole': False, 'goodman': False, 'insight': False, 'promising': False, 'loss': False, 'weapons': False, 'twisted': False, 'deeper': False, 'nonetheless': False, 'advice': False, 'lake': False, 'campaign': False, 'lonely': False, 'karen': False, 'unknown': False, 'knock': False, 'blow': False, '%': False, '80s': False, 'magazine': False, 'instinct': False, 'italian': False, 'throwing': False, 'costume': False, 'friendly': False, 'fairy': False, 'voices': False, 'helped': False, 'lived': False, 'universe': False, 'entertain': False, 'adventures': False, 'table': False, 'saturday': False, 'signs': False, 'comments': False, 'required': False, 'flashback': False, 'haunted': False, 'stretch': False, 'albeit': False, 'bugs': False, 'paid': False, 'soap': False, 'notes': False, 'sell': False, 'multiple': False, 'practically': True, 'obligatory': False, 'larger': False, 'display': False, 'basis': False, 'hitchcock': False, 'dancing': False, 'mtv': False, 'sidekick': False, 'angle': False, 'jobs': False, 'circumstances': False, 'initial': False, 'bride': True, 'struggling': False, 'related': False, 'exercise': False, 'commentary': False, 'combination': False, 'toys': False, 'closer': False, 'hole': False, 'experiences': False, 'corner': False, 'trio': False, 'cowboy': False, 'politics': False, 'jurassic': False, 'kick': False, 'revolves': False, 'trapped': False, 'recall': False, 'digital': False, 'recognize': False, 'romeo': False, 'reveals': False, 'ironic': False, 'picks': False, 'fifth': False, 'blonde': False, 'encounters': False, 'aforementioned': False, 'inventive': False, 'granted': False, 'remaining': False, 'storytelling': False, 'ad': False, 'copy': False, 'absurd': False, 'handful': False, 'pre': False, 'erotic': False, 'drew': False, 'reporter': False, 'destination': False, 'paper': False, 'dry': False, 'trailers': False, 'priest': False, 'holding': False, 'hint': False, 'medical': False, 'horizon': False, 'blues': False, 'sitcom': False, 'ellie': False, 'buddies': False, 'importantly': False, 'provoking': False, 'challenge': False, 'introduces': False, 'hoffman': False, 'spacey': False, 'clothes': False, 'mouse': False, 'colorful': False, 'magical': False, 'darkness': False, 'replaced': False, 'size': False, 'packed': False, 'cox': False, 'grade': False, 'bore': False, 'outrageous': False, 'assume': False, 'howard': False, 'studios': False, 'bone': False, 'michelle': False, 'deeply': False, 'metal': False, 'sixth': False, 'artistic': False, 'develops': False, 'andy': False, 'colors': False, 'golden': False, 'designed': False, 'hopefully': False, 'featured': False, 'market': False, 'lloyd': False, 'kenneth': False, 'wear': False, 'truck': False, 'generic': False, 'terrorist': False, 'beautifully': False, 'costner': False, 'judd': False, 'reese': False, 'connor': False, 'sir': False, 'wes': False, 'cgi': False, 'chases': False, 'remotely': False, 'midnight': False, 'homage': False, 'conventional': False, 'depressing': False, 'higher': False, 'hearing': False, 'glenn': False, 'tiny': False, 'sandra': False, 'perform': False, 'scheme': False, 'eating': False, 'threat': False, 'alas': False, 'drives': False, 'inept': False, 'doors': False, 'universal': False, 'multi': False, 'prinze': False, 'gorgeous': False, 'par': False, 'location': False, 'coach': False, 'lisa': False, 'screening': False, 'notable': False, 'dressed': False, 'morgan': False, 'research': False, 'scenery': False, 'abandoned': False, 'bleak': False, 'overcome': False, 'mafia': False, 'penn': False, 'suggests': False, 'primary': False, 'dillon': False, 'directorial': False, 'bodies': False, 'weight': False, 'investigate': False, 'chain': False, 'rolling': False, 'blown': False, 'proof': False, 'contemporary': False, 'jackal': False, 'steps': False, '2000': False, '54': False, 'besson': False, 'treatment': False, 'religion': False, 'maggie': False, 'flawed': False, 'round': False, 'cable': False, 'capsule': False, 'pregnant': False, 'birth': False, 'wonders': False, 'semi': False, 'countless': False, 'jet': False, 'gene': False, 'theory': False, 'bits': False, 'graham': False, 'whatsoever': False, 'youth': False, 'cry': False, 'wong': False, 'executive': False, 'cutting': False, 'statement': False, 'occurs': False, 'sheriff': False, 'screaming': False, 'river': False, 'brutal': False, 'bother': False, 'forth': False, 'obnoxious': True, 'pleasant': False, 'foster': False, 'hughes': False, 'silver': False, 'depp': False, 'laura': False, 'americans': False, 'ancient': False, 'focuses': False, 'bang': False, 'brilliantly': False, 'troubled': False, 'term': False, 'dan': False, 'parker': False, 'notch': False, 'ordell': False, 'types': False, 'wooden': False, 'warner': False, 'disbelief': False, 'strip': False, 'families': False, 'trite': False, 'convince': False, 'hang': False, 'fortune': False, 'natasha': False, 'fortunately': False, 'kilmer': False, 'clueless': False, 'mine': False, 'appearances': False, 'deserve': False, 'beating': False, 'conversation': False, 'qualities': False, 'projects': False, 'according': False, 'dialog': False, 'carries': False, 'sonny': False, 'stereotypes': False, 'episodes': False, 'protagonists': False, 'agents': False, 'armed': False, 'mitchell': False, 'trick': False, 'accomplished': False, 'davis': False, 'beatty': False, 'mere': False, 'destruction': False, 'suffer': False, 'trade': False, 'tucker': False, 'arm': False, 'luckily': False, 'crafted': False, 'facts': False, 'kim': False, 'johnson': False, 'disco': False, 'stewart': False, 'likeable': False, 'tribe': False, 'mature': False, 'mile': False, 'progresses': False, 'favor': False, 'exchange': False, 'spoken': False, 'sake': False, 'roth': False, 'stereotypical': False, 'irish': False, 'festival': False, 'buzz': False, 'mighty': False, 'passed': False, 'operation': False, 'boxing': False, 'defense': False, 'thief': False, 'harrelson': False, '1993': False, 'gratuitous': False, '40': False, 'innocence': False, 'expensive': False, 'fiennes': False, 'intellectual': False, 'lucy': False, 'mainstream': False, 'decades': False, 'emma': False, 'false': False, 'bridge': False, 'base': False, 'appeared': False, 'setup': False, 'lie': False, 'delight': False, 'stylish': False, 'cruel': False, 'refreshing': False, 'abilities': False, 'corny': False, 'breasts': False, 'dick': False, 'baker': False, 'block': False, 'neeson': False, 'actresses': False, 'raise': False, 'airplane': False, 'dropped': False, 'established': False, 'fred': False, 'succeed': False, 'degree': False, 'vs': False, 'october': False, 'pacino': False, 'dicaprio': False, 'executed': False, 'thrilling': False, 'bastard': False, 'spending': False, 'providing': False, 'training': False, 'picked': False, 'awkward': False, 'realism': True, 'adapted': False, 'jan': False, 'charge': False, 'inner': False, 'north': False, 'command': False, 'increasingly': False, 'tyler': False, 'fits': False, 'trial': False, 'warrior': False, 'honor': False, 'holiday': False, 'arms': False, 'ron': False, 'mixed': False, 'kubrick': False, 'tedious': False, 'workers': False, 'perfection': False, 'amanda': False, 'esque': False, 'cuba': False, 'tears': False, 'execution': False, 'dress': False, 'francis': False, 'legendary': False, 'fincher': False, 'neve': False, 'miles': False, 'scientists': False, 'sat': False, 'susan': False, 'persona': False, 'intentions': False, 'paltrow': False, 'smoking': False, 'wan': False, 'diamond': False, 'stealing': False, 'prisoners': False, 'spoilers': False, 'jolie': False, 'branagh': False, 'mask': False, 'spiritual': False, 'equal': False, 'raised': False, 'clue': False, 'suits': False, 'skip': False, 'robot': False, 'arthur': False, 'forest': False, 'entry': False, 'viewed': False, 'independent': False, 'expert': False, 'ghosts': False, 'reference': False, 'remembered': False, 'scared': False, 'classics': False, 'henstridge': False, 'alicia': False, 'shut': False, 'jordan': False, 'notably': False, 'designer': False, 'endearing': False, 'tend': False, 'rape': False, 'escapes': False, 'ring': False, 'notion': False, 'bet': False, 'variety': False, 'glory': False, 'consistently': False, 'area': False, 'random': False, 'expression': False, 'editor': False, 'sun': False, 'com': False, 'drinking': False, 'letting': False, 'los': False, 'angeles': False, 'prisoner': False, 'deserved': False, 'strangely': False, 'spots': False, 'charisma': False, 'makeup': False, 'carefully': False, 'survivors': False, 'mail': False, 'via': False, 'anymore': False, 'gordon': False, 'sorts': False, 'tracks': False, 'factor': False, 'gory': False, 'combined': False, 'flubber': False, 'sympathy': False, 'achievement': False, 'robocop': False, 'virtual': False, 'installment': False, 'movement': False, 'personally': False, 'sword': False, 'blind': False, 'produce': False, 'demands': False, 'accused': False, 'anybody': False, 'exists': False, 'stronger': False, 'timing': False, 'handsome': False, 'prior': False, 'distracting': False, 'idiotic': False, 'neighbor': False, 'fantasies': False, 'teens': False, 'enormous': False, 'horribly': False, 'energetic': False, 'wave': False, 'interaction': False, 'condition': False, 'banderas': False, 'jesus': False, 'reminds': False, 'restaurant': False, 'marks': False, 'fonda': False, 'betty': False, 'manager': False, 'negative': True, 'attraction': False, 'wing': False}, 'pos')\n"
     ]
    }
   ],
   "source": [
    "print(featuresets[0])"
   ]
  },
  {
   "cell_type": "code",
   "execution_count": 35,
   "metadata": {},
   "outputs": [],
   "source": [
    "training_set = featuresets[:1900] #jako zbior treningowy biorę pierwsze 1900 recenzji\n",
    "testing_set = featuresets[1900:]  #jako zbior tetowy biorę pozostałe recenzje"
   ]
  },
  {
   "cell_type": "code",
   "execution_count": 36,
   "metadata": {},
   "outputs": [],
   "source": [
    "#wykonuje algorytm Naive Bayes na zbiorze treningowym\n",
    "\n",
    "classifier = nltk.NaiveBayesClassifier.train(training_set)"
   ]
  },
  {
   "cell_type": "code",
   "execution_count": 37,
   "metadata": {},
   "outputs": [
    {
     "name": "stdout",
     "output_type": "stream",
     "text": [
      "Dokładność metody Naive Bayes do problemu klasfyikacji na zbiorze testowym wynosi: 81.0\n"
     ]
    }
   ],
   "source": [
    "#testuje model na zbiorze testowym\n",
    "\n",
    "print(\"Dokładność metody Naive Bayes do problemu klasfyikacji na zbiorze testowym wynosi:\", (nltk.classify.accuracy(classifier,testing_set))*100)"
   ]
  },
  {
   "cell_type": "code",
   "execution_count": 38,
   "metadata": {},
   "outputs": [
    {
     "name": "stdout",
     "output_type": "stream",
     "text": [
      "Most Informative Features\n",
      "             outstanding = True              pos : neg    =     11.2 : 1.0\n",
      "                   mulan = True              pos : neg    =      8.4 : 1.0\n",
      "                   damon = True              pos : neg    =      8.2 : 1.0\n",
      "                  finest = True              pos : neg    =      7.7 : 1.0\n",
      "              schumacher = True              neg : pos    =      7.4 : 1.0\n",
      "                  seagal = True              neg : pos    =      7.4 : 1.0\n",
      "             wonderfully = True              pos : neg    =      7.0 : 1.0\n",
      "                 idiotic = True              neg : pos    =      7.0 : 1.0\n",
      "                   inept = True              neg : pos    =      6.4 : 1.0\n",
      "                religion = True              pos : neg    =      5.9 : 1.0\n",
      "             beautifully = True              pos : neg    =      5.8 : 1.0\n",
      "                   flynt = True              pos : neg    =      5.7 : 1.0\n",
      "                    jedi = True              pos : neg    =      5.3 : 1.0\n",
      "                  wasted = True              neg : pos    =      5.3 : 1.0\n",
      "                  poorly = True              neg : pos    =      5.2 : 1.0\n"
     ]
    }
   ],
   "source": [
    "classifier.show_most_informative_features(15) #jakie bylo 15 najbardziej rozstrzygających slow"
   ]
  },
  {
   "cell_type": "code",
   "execution_count": 86,
   "metadata": {},
   "outputs": [
    {
     "name": "stdout",
     "output_type": "stream",
     "text": [
      "[[44  5]\n",
      " [14 37]]\n"
     ]
    }
   ],
   "source": [
    "from sklearn.metrics import confusion_matrix\n",
    "\n",
    "y_true = [label for (_, label) in testing_set]\n",
    "y_pred = [classifier.classify(txt) for (txt, _) in testing_set]  # Przewidywane etykiety\n",
    "mat = confusion_matrix(y_true, y_pred)\n",
    "\n",
    "print(mat)"
   ]
  },
  {
   "cell_type": "code",
   "execution_count": 79,
   "metadata": {},
   "outputs": [
    {
     "data": {
      "text/plain": [
       "0.81"
      ]
     },
     "execution_count": 79,
     "metadata": {},
     "output_type": "execute_result"
    }
   ],
   "source": [
    "(44+37)/(44+37+5+14)"
   ]
  },
  {
   "cell_type": "markdown",
   "metadata": {},
   "source": [
    "<h4> Zadanie1: Czy fakt, że nie oczyściliśmy danych ze stopwords czy znaków interpunkcyjncyh znacząco wpłynął na pogorszenie predykcji? Odpowiedź uzasadnij (bez obliczeń, chodzi o 2 zdania komentarza)."
   ]
  },
  {
   "cell_type": "markdown",
   "metadata": {},
   "source": [
    "<h4> Zadanie2: Powtórz 20 razy predykcję za pomocą metody Naive Bayes za każdym razem tasując listę documents (po co?). Zapisz do listy dokładności uzyskane za każdym razem. Wyznacz średnią dokładność i odchylenie standardowe z tych dokładności (wcześniej przerób listę na obiekt typu array). Narysuj histogram dokładności."
   ]
  },
  {
   "cell_type": "markdown",
   "metadata": {},
   "source": [
    "<h4> Zadanie3: Wyjaśnij czemu istotnym jest aby grupy tekstów reprezentujących klasy były w miarę równoliczne. Zbuduj model NaiveBayes, gdzie jako zbiór treningowy wybierz 900 recenzji pozytywnych i 100 negatywnych. Następnie zabadaj jak model sprawdza się na 100 pozostałych recenzjach pozytywnych a jak na 100 negatywnych (innych niż przy trenowaniu modelu). Skomentuj otrzymane wyniki."
   ]
  },
  {
   "cell_type": "markdown",
   "metadata": {},
   "source": [
    "<h4> Zadanie4: Zbuduj model do predykcji wiadomości SPAM/HAM. W tym celu użyj pliku  spam_ham.txt . Każda wiadomość opatrzona jest odpowiednim tagiem na początku kolejnego wiersza. Sprawdź ile w pliku znajduje się wiadomości typu SPAM i HAM. Uwzględnij uwagę z poprzedniego zadania."
   ]
  },
  {
   "cell_type": "markdown",
   "metadata": {},
   "source": [
    "Można zastosować też np. https://imbalanced-learn.org/stable/references/generated/imblearn.over_sampling.SMOTE.html "
   ]
  },
  {
   "cell_type": "markdown",
   "metadata": {},
   "source": [
    "Warto przejrzeć: https://poleval.pl/"
   ]
  },
  {
   "cell_type": "markdown",
   "metadata": {},
   "source": [
    "<h4> Zadanie5: Przeanalizuj dane allegro-reviews za pomocą modelu NaiveBayes. \n",
    "    \n",
    "- Zbuduj model w którym rozważysz tylko recenzje z ocenami 5. i 1.\n",
    "- Zbuduj model dla pełnych danych.\n",
    "- Dokonaj modyfikacji, które poprawią te modele.\n",
    "\n",
    "Uwagi:\n",
    "- dane są już podzielone na zbiór treningowy i testowy\n",
    "- dane nie są zbilasnowane, warto coś z tym zrobić\n",
    "- warto ograniczyć liczbę słów, może jakaś lemmatyzacja?"
   ]
  },
  {
   "cell_type": "markdown",
   "metadata": {},
   "source": [
    "https://huggingface.co/PL-MTEB"
   ]
  },
  {
   "cell_type": "code",
   "execution_count": 63,
   "metadata": {},
   "outputs": [
    {
     "name": "stderr",
     "output_type": "stream",
     "text": [
      "WARNING:datasets.builder:Found cached dataset json (C:/Users/Adrian/.cache/huggingface/datasets/PL-MTEB___json/PL-MTEB--allegro-reviews-802caadb33e4bd83/0.0.0/e347ab1c932092252e717ff3f949105a4dd28b27e842dd53157d2f72e276c2e4)\n"
     ]
    },
    {
     "data": {
      "application/vnd.jupyter.widget-view+json": {
       "model_id": "491e904c2422420db3fb8d8e3f64377c",
       "version_major": 2,
       "version_minor": 0
      },
      "text/plain": [
       "  0%|          | 0/3 [00:00<?, ?it/s]"
      ]
     },
     "metadata": {},
     "output_type": "display_data"
    }
   ],
   "source": [
    "from datasets import load_dataset\n",
    "\n",
    "ds = load_dataset(\"PL-MTEB/allegro-reviews\")"
   ]
  },
  {
   "cell_type": "code",
   "execution_count": 64,
   "metadata": {},
   "outputs": [
    {
     "data": {
      "text/plain": [
       "DatasetDict({\n",
       "    train: Dataset({\n",
       "        features: ['text', 'label'],\n",
       "        num_rows: 9577\n",
       "    })\n",
       "    validation: Dataset({\n",
       "        features: ['text', 'label'],\n",
       "        num_rows: 1002\n",
       "    })\n",
       "    test: Dataset({\n",
       "        features: ['text', 'label'],\n",
       "        num_rows: 1006\n",
       "    })\n",
       "})"
      ]
     },
     "execution_count": 64,
     "metadata": {},
     "output_type": "execute_result"
    }
   ],
   "source": [
    "ds"
   ]
  },
  {
   "cell_type": "code",
   "execution_count": 66,
   "metadata": {},
   "outputs": [],
   "source": [
    "train_data = ds[\"train\"]\n",
    "test_data = ds[\"test\"]"
   ]
  },
  {
   "cell_type": "code",
   "execution_count": 67,
   "metadata": {},
   "outputs": [
    {
     "data": {
      "text/plain": [
       "Dataset({\n",
       "    features: ['text', 'label'],\n",
       "    num_rows: 9577\n",
       "})"
      ]
     },
     "execution_count": 67,
     "metadata": {},
     "output_type": "execute_result"
    }
   ],
   "source": [
    "train_data"
   ]
  },
  {
   "cell_type": "code",
   "execution_count": 68,
   "metadata": {},
   "outputs": [
    {
     "name": "stdout",
     "output_type": "stream",
     "text": [
      "Jako do ceny dobra. Przyssawka mogłaby być lepsza. Po 2 miesiącach użytkowania musiałem nóżkę z przyssawką rozkręcić i przyssawkę podkleić bo guma zaczęła pękać od strony mocowania do uchwytu (uchwyt zaczął się po prostu trząść bo zrobił się luz).  Mechanizm mocowania telefonu póki co (3 miesiące użytkowania) działa bez zarzutu. \n"
     ]
    }
   ],
   "source": [
    "print(train_data[0][\"text\"]) "
   ]
  },
  {
   "cell_type": "code",
   "execution_count": 69,
   "metadata": {},
   "outputs": [],
   "source": [
    "X_train = [ex[\"text\"] for ex in train_data]\n",
    "y_train = [ex[\"label\"] for ex in train_data]"
   ]
  },
  {
   "cell_type": "markdown",
   "metadata": {},
   "source": [
    "<h3> Serializacja (zapisywanie obiektu)\n"
   ]
  },
  {
   "cell_type": "code",
   "execution_count": 39,
   "metadata": {},
   "outputs": [],
   "source": [
    "import pickle\n",
    "\n",
    "t = [1,2,3,4,5]\n",
    "\n",
    "#zapisywanie listy [jako obiektu!!!] do pliku \n",
    "save_list = open(\"my_list.pickle\",\"wb\") #w-write, b -bity\n",
    "pickle.dump(t, save_list)\n",
    "save_list.close()"
   ]
  },
  {
   "cell_type": "code",
   "execution_count": 40,
   "metadata": {},
   "outputs": [],
   "source": [
    "#otwieranie\n",
    "f = open(\"my_list.pickle\",\"rb\")\n",
    "moja_lista = pickle.load(f) \n",
    "f.close()"
   ]
  },
  {
   "cell_type": "code",
   "execution_count": 41,
   "metadata": {},
   "outputs": [
    {
     "name": "stdout",
     "output_type": "stream",
     "text": [
      "[1, 2, 3, 4, 5]\n"
     ]
    }
   ],
   "source": [
    "print(moja_lista)"
   ]
  },
  {
   "cell_type": "markdown",
   "metadata": {},
   "source": [
    "<h3> Uzupełnienie: Elementy statystyki i prezentacji danych"
   ]
  },
  {
   "cell_type": "code",
   "execution_count": 42,
   "metadata": {},
   "outputs": [],
   "source": [
    "import numpy as np #biblioteka obiektow typu array i pozwalająca przeprowadzic operacje na nich\n",
    "\n",
    "x = np.array([1,2,5,6,2,2,4,1,5,5,3,3,4,5,6]) #nowy typ danych, cos jak lista ale ma nowe metody, będzie jeszcze o tym w przyszlosci"
   ]
  },
  {
   "cell_type": "code",
   "execution_count": 43,
   "metadata": {},
   "outputs": [
    {
     "data": {
      "text/plain": [
       "numpy.ndarray"
      ]
     },
     "execution_count": 43,
     "metadata": {},
     "output_type": "execute_result"
    }
   ],
   "source": [
    "type(x) #jaki typ"
   ]
  },
  {
   "cell_type": "code",
   "execution_count": 44,
   "metadata": {},
   "outputs": [
    {
     "data": {
      "text/plain": [
       "6"
      ]
     },
     "execution_count": 44,
     "metadata": {},
     "output_type": "execute_result"
    }
   ],
   "source": [
    "x[-1] #ostatni element"
   ]
  },
  {
   "cell_type": "code",
   "execution_count": 45,
   "metadata": {},
   "outputs": [
    {
     "data": {
      "text/plain": [
       "array([1, 2, 5, 6])"
      ]
     },
     "execution_count": 45,
     "metadata": {},
     "output_type": "execute_result"
    }
   ],
   "source": [
    "x[0:4] #elementy 0,1,2,3"
   ]
  },
  {
   "cell_type": "code",
   "execution_count": 46,
   "metadata": {},
   "outputs": [
    {
     "data": {
      "text/plain": [
       "3.6"
      ]
     },
     "execution_count": 46,
     "metadata": {},
     "output_type": "execute_result"
    }
   ],
   "source": [
    "np.mean(x) #średnia"
   ]
  },
  {
   "cell_type": "code",
   "execution_count": 47,
   "metadata": {},
   "outputs": [
    {
     "data": {
      "text/plain": [
       "4.0"
      ]
     },
     "execution_count": 47,
     "metadata": {},
     "output_type": "execute_result"
    }
   ],
   "source": [
    "np.median(x) #mediana"
   ]
  },
  {
   "cell_type": "code",
   "execution_count": 48,
   "metadata": {},
   "outputs": [
    {
     "data": {
      "text/plain": [
       "54"
      ]
     },
     "execution_count": 48,
     "metadata": {},
     "output_type": "execute_result"
    }
   ],
   "source": [
    "np.sum(x)  #suma elementow"
   ]
  },
  {
   "cell_type": "markdown",
   "metadata": {},
   "source": [
    "<h4> Porównanie obiektów typu listy i array\n"
   ]
  },
  {
   "cell_type": "code",
   "execution_count": 49,
   "metadata": {},
   "outputs": [
    {
     "name": "stdout",
     "output_type": "stream",
     "text": [
      "[1, 2, 3, 4, 5, 6]\n",
      "[1, 2, 3, 1, 2, 3, 1, 2, 3]\n"
     ]
    }
   ],
   "source": [
    "x = [1,2,3]\n",
    "y = [4,5,6]\n",
    "\n",
    "print(x+y)\n",
    "print(3*x)"
   ]
  },
  {
   "cell_type": "code",
   "execution_count": 50,
   "metadata": {},
   "outputs": [
    {
     "name": "stdout",
     "output_type": "stream",
     "text": [
      "[5 7 9]\n",
      "[3 6 9]\n"
     ]
    }
   ],
   "source": [
    "x = np.array([1,2,3])\n",
    "y = np.array([4,5,6])\n",
    "\n",
    "print(x+y)\n",
    "print(3*x)"
   ]
  },
  {
   "cell_type": "code",
   "execution_count": 51,
   "metadata": {},
   "outputs": [
    {
     "name": "stdout",
     "output_type": "stream",
     "text": [
      "[ 1.84147098  4.90929743  9.14112001 15.2431975  24.04107573]\n"
     ]
    }
   ],
   "source": [
    "#Z obiektem typu array moge zrobic cos czego z listą absolutnie mi nie wolno\n",
    "\n",
    "x = np.array([1,2,3,4,5])\n",
    "y = x**2 + np.sin(x)\n",
    "print(y)"
   ]
  },
  {
   "cell_type": "markdown",
   "metadata": {},
   "source": [
    "<h4> Rysowanie wykresów\n"
   ]
  },
  {
   "cell_type": "code",
   "execution_count": 52,
   "metadata": {},
   "outputs": [
    {
     "data": {
      "image/png": "[encoded data removed]",
      "text/plain": [
       "<Figure size 640x480 with 1 Axes>"
      ]
     },
     "metadata": {},
     "output_type": "display_data"
    }
   ],
   "source": [
    "import matplotlib.pyplot as plt #biblioteka do rysowania wykresow\n",
    "\n",
    "a = np.array([-3,-2,-1,0,1,2])\n",
    "b = a**2\n",
    "\n",
    "#Rysowanie\n",
    "plt.scatter(a,b, c = \"red\") #to samo co wyzej, tyle ze tym razem nie łączy punktow\n",
    "plt.show()"
   ]
  },
  {
   "cell_type": "code",
   "execution_count": 53,
   "metadata": {},
   "outputs": [
    {
     "data": {
      "image/png": "[encoded data removed]",
      "text/plain": [
       "<Figure size 640x480 with 1 Axes>"
      ]
     },
     "metadata": {},
     "output_type": "display_data"
    }
   ],
   "source": [
    "plt.plot(a,b, c = \"red\") #to samo co wyzej, tyle ze tym razem łączy punkty\n",
    "plt.show()"
   ]
  },
  {
   "cell_type": "code",
   "execution_count": 54,
   "metadata": {},
   "outputs": [],
   "source": [
    "x =  np.random.rand(1000) #generuje 1000 liczb z rozkładu jednostajnego\n",
    "y =  np.random.randn(1000) #generuje 1000 liczb z rozkładu normalnego (Gaussa)"
   ]
  },
  {
   "cell_type": "code",
   "execution_count": 55,
   "metadata": {},
   "outputs": [
    {
     "data": {
      "image/png": "[encoded data removed]",
      "text/plain": [
       "<Figure size 640x480 with 1 Axes>"
      ]
     },
     "metadata": {},
     "output_type": "display_data"
    }
   ],
   "source": [
    "#Rysuje histogram dla x\n",
    "plt.hist(x)\n",
    "plt.show()"
   ]
  },
  {
   "cell_type": "code",
   "execution_count": 56,
   "metadata": {},
   "outputs": [
    {
     "data": {
      "image/png": "[encoded data removed]",
      "text/plain": [
       "<Figure size 640x480 with 1 Axes>"
      ]
     },
     "metadata": {},
     "output_type": "display_data"
    }
   ],
   "source": [
    "#Rysuje histogram dla y\n",
    "plt.hist(y, bins = 20) #parametr bins - ile pudełek ma być widocznych na rysunku\n",
    "plt.show()"
   ]
  }
 ],
 "metadata": {
  "kernelspec": {
   "display_name": "Python 3 (ipykernel)",
   "language": "python",
   "name": "python3"
  },
  "language_info": {
   "codemirror_mode": {
    "name": "ipython",
    "version": 3
   },
   "file_extension": ".py",
   "mimetype": "text/x-python",
   "name": "python",
   "nbconvert_exporter": "python",
   "pygments_lexer": "ipython3",
   "version": "3.11.5"
  }
 },
 "nbformat": 4,
 "nbformat_minor": 4
}
