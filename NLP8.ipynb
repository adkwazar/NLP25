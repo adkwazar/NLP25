{
 "cells": [
  {
   "cell_type": "code",
   "execution_count": 3,
   "metadata": {},
   "outputs": [],
   "source": [
    "import torch\n",
    "import torch.nn as nn\n",
    "import torch.optim as optim\n",
    "import torch.nn.functional as F"
   ]
  },
  {
   "cell_type": "markdown",
   "metadata": {},
   "source": [
    "<h3> Word2vec"
   ]
  },
  {
   "cell_type": "code",
   "execution_count": 7,
   "metadata": {},
   "outputs": [],
   "source": [
    "from nltk import sent_tokenize, word_tokenize\n",
    "\n",
    "#otwieram plik tekstowy z Ojcem Chrzestnym, zapisuje liste list slow\n",
    "file = open('gfr.txt','r')  \n",
    "text = file.read().replace('\\n','')\n",
    "GF = [word_tokenize(x.lower()) for x in sent_tokenize(text)] #uwaga: dane nie oczyszczone ze stopwords, interpunkcji"
   ]
  },
  {
   "cell_type": "code",
   "execution_count": 13,
   "metadata": {},
   "outputs": [],
   "source": [
    "#zostawiam tylko te slowa ktore zawieraja litery\n",
    "\n",
    "GF_ref = []\n",
    "for x in GF:\n",
    "    GF_ref.append([elem for elem in x if elem.isalpha()])"
   ]
  },
  {
   "cell_type": "code",
   "execution_count": 14,
   "metadata": {},
   "outputs": [
    {
     "name": "stdout",
     "output_type": "stream",
     "text": [
      "[['amerigo', 'bonasera', 'sat', 'in', 'new', 'york', 'criminal', 'court', 'number', 'and', 'waited', 'for', 'justice', 'vengeance', 'on', 'the', 'men', 'who', 'had', 'so', 'cruelly', 'hurt', 'his', 'daughter', 'who', 'had', 'tried', 'to', 'dishonour', 'her'], ['the', 'judge', 'a', 'formidably', 'man', 'rolled', 'up', 'the', 'sleeves', 'of', 'his', 'black', 'robe', 'as', 'if', 'to', 'physically', 'chastise', 'the', 'two', 'young', 'men', 'standing', 'before', 'the', 'bench'], ['his', 'face', 'was', 'cold', 'with', 'majestic', 'contempt'], ['but', 'there', 'was', 'something', 'fake', 'in', 'alfthis', 'that', 'amerigo', 'bonasera', 'sensed', 'but', 'did', 'not', 'yet', 'understand']]\n"
     ]
    }
   ],
   "source": [
    "print(GF_ref[:4])"
   ]
  },
  {
   "cell_type": "code",
   "execution_count": 29,
   "metadata": {},
   "outputs": [],
   "source": [
    "from gensim.models import Word2Vec #laduje odpowiednią biblioteke do stworzenia modelu Word2Vec\n",
    "\n",
    "model = Word2Vec(GF_ref, min_count=5, vector_size=10) #bede liczyl tylko te slowa ktore wystepuje minimum 5 razy w tekscie, kazde slowo bedzie opisane przez wektor 10 wymiarowy"
   ]
  },
  {
   "cell_type": "code",
   "execution_count": 30,
   "metadata": {},
   "outputs": [],
   "source": [
    "word_vectors = model.wv #tu są te wektory"
   ]
  },
  {
   "cell_type": "code",
   "execution_count": 31,
   "metadata": {},
   "outputs": [],
   "source": [
    "word_vectors.save_word2vec_format('model_word2vec_org', 'model_vocabulary') #zapisuje parametry do plikow (jak bym chcial)"
   ]
  },
  {
   "cell_type": "code",
   "execution_count": 32,
   "metadata": {},
   "outputs": [
    {
     "data": {
      "text/plain": [
       "array([-0.14918895, -0.68309265,  1.8597046 , -1.1122975 ,  0.28803688,\n",
       "        1.2137811 ,  2.459551  , -0.20470911, -0.8479022 , -1.3818706 ],\n",
       "      dtype=float32)"
      ]
     },
     "execution_count": 32,
     "metadata": {},
     "output_type": "execute_result"
    }
   ],
   "source": [
    "word_vectors[\"michael\"] #embedding dla michael"
   ]
  },
  {
   "cell_type": "code",
   "execution_count": 33,
   "metadata": {},
   "outputs": [
    {
     "data": {
      "text/plain": [
       "[('sonny', 0.9918200373649597),\n",
       " ('hagen', 0.9804325699806213),\n",
       " ('kay', 0.9556352496147156)]"
      ]
     },
     "execution_count": 33,
     "metadata": {},
     "output_type": "execute_result"
    }
   ],
   "source": [
    "word_vectors.most_similar(['michael'], topn=3) #trzy najbardziej podobne slowa"
   ]
  },
  {
   "cell_type": "code",
   "execution_count": 34,
   "metadata": {},
   "outputs": [
    {
     "data": {
      "text/plain": [
       "[('kay', 0.9335139393806458), ('luparas', 0.9326766729354858)]"
      ]
     },
     "execution_count": 34,
     "metadata": {},
     "output_type": "execute_result"
    }
   ],
   "source": [
    "word_vectors.most_similar(positive=['michael', 'sonny'], negative=['hagen'], topn=2) #szuka slow podobnych do michael i sonny, ale nie do hagen"
   ]
  },
  {
   "cell_type": "code",
   "execution_count": 35,
   "metadata": {},
   "outputs": [
    {
     "data": {
      "text/plain": [
       "0.9556352"
      ]
     },
     "execution_count": 35,
     "metadata": {},
     "output_type": "execute_result"
    }
   ],
   "source": [
    "word_vectors.similarity('michael', 'kay') #na ile michael i kay są podobne?"
   ]
  },
  {
   "cell_type": "code",
   "execution_count": 36,
   "metadata": {},
   "outputs": [
    {
     "data": {
      "text/plain": [
       "'vito'"
      ]
     },
     "execution_count": 36,
     "metadata": {},
     "output_type": "execute_result"
    }
   ],
   "source": [
    "word_vectors.doesnt_match([\"michael\", \"vito\", \"kay\"]) #ktore slowo nie pasuje (jest najmniej podobne do reszty)"
   ]
  },
  {
   "cell_type": "code",
   "execution_count": 37,
   "metadata": {},
   "outputs": [
    {
     "name": "stdout",
     "output_type": "stream",
     "text": [
      "['__class__', '__contains__', '__delattr__', '__dict__', '__dir__', '__doc__', '__eq__', '__format__', '__ge__', '__getattribute__', '__getitem__', '__getstate__', '__gt__', '__hash__', '__init__', '__init_subclass__', '__le__', '__len__', '__lt__', '__module__', '__ne__', '__new__', '__reduce__', '__reduce_ex__', '__repr__', '__setattr__', '__setitem__', '__sizeof__', '__str__', '__subclasshook__', '__weakref__', '_adapt_by_suffix', '_load_specials', '_log_evaluate_word_analogies', '_save_specials', '_smart_save', '_upconvert_old_d2vkv', '_upconvert_old_vocab', 'add_lifecycle_event', 'add_vector', 'add_vectors', 'allocate_vecattrs', 'closer_than', 'cosine_similarities', 'distance', 'distances', 'doesnt_match', 'evaluate_word_analogies', 'evaluate_word_pairs', 'expandos', 'fill_norms', 'get_index', 'get_mean_vector', 'get_normed_vectors', 'get_vecattr', 'get_vector', 'has_index_for', 'index2entity', 'index2word', 'index_to_key', 'init_sims', 'intersect_word2vec_format', 'key_to_index', 'load', 'load_word2vec_format', 'log_accuracy', 'log_evaluate_word_pairs', 'mapfile_path', 'most_similar', 'most_similar_cosmul', 'most_similar_to_given', 'n_similarity', 'next_index', 'norms', 'rank', 'rank_by_centrality', 'relative_cosine_similarity', 'resize_vectors', 'save', 'save_word2vec_format', 'set_vecattr', 'similar_by_key', 'similar_by_vector', 'similar_by_word', 'similarity', 'similarity_unseen_docs', 'sort_by_descending_frequency', 'unit_normalize_all', 'vector_size', 'vectors', 'vectors_for_all', 'vectors_lockf', 'vectors_norm', 'vocab', 'wmdistance', 'word_vec', 'words_closer_than']\n"
     ]
    }
   ],
   "source": [
    "print(dir(word_vectors)) #inne dostepne metody"
   ]
  },
  {
   "cell_type": "markdown",
   "metadata": {},
   "source": [
    "https://wolnelektury.pl/katalog/kolekcje/\n",
    "\n",
    "https://pl.wikisource.org/wiki/Wiki%C5%BAr%C3%B3d%C5%82a:Strona_g%C5%82%C3%B3wna"
   ]
  },
  {
   "cell_type": "markdown",
   "metadata": {},
   "source": [
    "https://dumps.wikimedia.org/plwiki/"
   ]
  },
  {
   "cell_type": "markdown",
   "metadata": {},
   "source": [
    "https://nlp.stanford.edu/projects/histwords/"
   ]
  },
  {
   "cell_type": "markdown",
   "metadata": {},
   "source": [
    "<h3> GloVe"
   ]
  },
  {
   "cell_type": "markdown",
   "metadata": {},
   "source": [
    "* GloVe tworzy wektory słów na podstawie ich współwystępowania w całym korpusie, podczas gdy Word2Vec uczy się wektorów na podstawie lokalnego kontekstu."
   ]
  },
  {
   "cell_type": "code",
   "execution_count": 4,
   "metadata": {},
   "outputs": [],
   "source": [
    "import torchtext #tutaj są wytrenowane embeddingi"
   ]
  },
  {
   "cell_type": "code",
   "execution_count": 3,
   "metadata": {},
   "outputs": [],
   "source": [
    "glove = torchtext.vocab.GloVe(name=\"6B\", dim=50) #trenowane na Wikipedi, embeddingi wymiaru 50"
   ]
  },
  {
   "cell_type": "code",
   "execution_count": 3,
   "metadata": {},
   "outputs": [
    {
     "data": {
      "text/plain": [
       "tensor([ 0.6009,  0.0129, -0.6103, -0.1387,  1.2507,  0.1013, -0.2007, -1.1283,\n",
       "         0.6086, -0.1667,  0.2242,  0.6178,  0.5010, -0.2230, -0.0119,  0.2423,\n",
       "         0.8220,  0.5748, -1.9703,  0.0446,  0.2216, -0.2667, -0.0052, -0.3631,\n",
       "        -0.4248, -0.7924, -1.5570,  0.2212, -0.3214, -0.4675,  1.0604,  0.8424,\n",
       "         0.0453,  0.8608, -0.0855,  0.0059, -0.1624, -1.0329, -0.2576, -0.6585,\n",
       "        -0.1365,  0.3653, -0.6138, -0.5400,  0.2405, -0.2301, -0.3115, -1.3485,\n",
       "         0.4327, -0.3451])"
      ]
     },
     "execution_count": 3,
     "metadata": {},
     "output_type": "execute_result"
    }
   ],
   "source": [
    "glove['lion'] #embedding dla lion"
   ]
  },
  {
   "cell_type": "code",
   "execution_count": 4,
   "metadata": {},
   "outputs": [
    {
     "data": {
      "text/plain": [
       "tensor([ 0.3318, -0.6026, -0.0460,  0.8994,  0.2650, -0.0269, -0.8938, -0.2200,\n",
       "         0.2816, -0.7974, -0.1552, -0.1539, -0.4443, -0.0606,  0.1767,  0.4966,\n",
       "         1.0924,  0.6526, -1.4514,  0.5046, -1.4857,  0.6057,  0.5194, -0.3955,\n",
       "         0.2653, -1.0493, -0.7939, -0.0086, -0.2987, -0.4187,  2.0018, -0.0783,\n",
       "        -0.7241,  1.3828,  0.5019,  0.3522, -0.3793, -0.8166, -0.5916, -1.0502,\n",
       "        -0.5553, -0.4653, -0.3038,  0.1106,  1.3216, -0.3473,  0.0396,  0.0464,\n",
       "        -0.0870, -0.4558])"
      ]
     },
     "execution_count": 4,
     "metadata": {},
     "output_type": "execute_result"
    }
   ],
   "source": [
    "glove['tiger'] #embedding dla tiger"
   ]
  },
  {
   "cell_type": "code",
   "execution_count": 10,
   "metadata": {},
   "outputs": [
    {
     "name": "stdout",
     "output_type": "stream",
     "text": [
      "tensor(1.8846)\n"
     ]
    }
   ],
   "source": [
    "#odleglosc euklidesowa pomiedzy dwoma wyrazami [słowami]\n",
    "\n",
    "x = glove['cat']\n",
    "y = glove['dog']\n",
    "print(torch.norm(y - x))  # || y - x ||"
   ]
  },
  {
   "cell_type": "code",
   "execution_count": 11,
   "metadata": {},
   "outputs": [
    {
     "data": {
      "text/plain": [
       "tensor([[1., 1., 1.]])"
      ]
     },
     "execution_count": 11,
     "metadata": {},
     "output_type": "execute_result"
    }
   ],
   "source": [
    "#pomocnicza operacja zeby policzyc podobieństwo kosinusowe\n",
    "torch.tensor([1., 1., 1.]).unsqueeze(0)"
   ]
  },
  {
   "cell_type": "code",
   "execution_count": 12,
   "metadata": {},
   "outputs": [
    {
     "data": {
      "text/plain": [
       "tensor([0.9218])"
      ]
     },
     "execution_count": 12,
     "metadata": {},
     "output_type": "execute_result"
    }
   ],
   "source": [
    "#podobieństwo kosinusowe pomiedzy dwoma wyrazami [słowami]\n",
    "x = glove['cat']\n",
    "y = glove['dog']\n",
    "torch.cosine_similarity(x.unsqueeze(0), y.unsqueeze(0)) #cos(x,y), pamietamy, ze cos(x,x) = 1 oraz cos przyjmuje wartosci od -1 do 1"
   ]
  },
  {
   "cell_type": "markdown",
   "metadata": {},
   "source": [
    "<h4> Podobieństwo słów\n"
   ]
  },
  {
   "cell_type": "code",
   "execution_count": 13,
   "metadata": {},
   "outputs": [
    {
     "name": "stdout",
     "output_type": "stream",
     "text": [
      "dog 1.8846030235290527\n",
      "puppy 3.0644657611846924\n",
      "platypus 4.705582141876221\n"
     ]
    }
   ],
   "source": [
    "word = 'cat' #zadane slowo \n",
    "other_words = ['dog', 'puppy', 'platypus'] #lista slow\n",
    "\n",
    "for w in other_words:\n",
    "    dist = torch.norm(glove[word] - glove[w]) #odległość euklidesowa miedzy 'cat' a kolejnymi slowami z listy\n",
    "    print(w, float(dist))"
   ]
  },
  {
   "cell_type": "code",
   "execution_count": 14,
   "metadata": {},
   "outputs": [
    {
     "name": "stdout",
     "output_type": "stream",
     "text": [
      "dog 0.9218005537986755\n",
      "puppy 0.7625599503517151\n",
      "platypus 0.3413983881473541\n"
     ]
    }
   ],
   "source": [
    "word = 'cat' #zadane slowo\n",
    "other_words = ['dog', 'puppy', 'platypus'] #lista slow\n",
    "\n",
    "for w in other_words:\n",
    "    dist = torch.cosine_similarity(glove[word].unsqueeze(0), glove[w].unsqueeze(0)) #podobienstwo cosinusowe\n",
    "    print(w, float(dist))"
   ]
  },
  {
   "cell_type": "code",
   "execution_count": 15,
   "metadata": {},
   "outputs": [],
   "source": [
    "#funkcja do wyznaczania slow najbardziej podobnych, domyslnie wyswietla pierwsze 5 takich slow\n",
    "\n",
    "def print_closest_words(vec, n=5):\n",
    "    dists = torch.norm(glove.vectors - vec, dim=1)             #liczy odleglosci do wszystkich slow\n",
    "    lst = sorted(enumerate(dists.numpy()), key=lambda x: x[1]) #sortuje wg odleglosci\n",
    "    for idx, difference in lst[1:n+1]:                         #zwraca top n wynikow\n",
    "        print(glove.itos[idx], difference)"
   ]
  },
  {
   "cell_type": "code",
   "execution_count": 16,
   "metadata": {},
   "outputs": [
    {
     "name": "stdout",
     "output_type": "stream",
     "text": [
      "doctor 3.127453\n",
      "dentist 3.1306615\n",
      "nurses 3.26872\n",
      "pediatrician 3.3212206\n",
      "counselor 3.3987117\n"
     ]
    }
   ],
   "source": [
    "print_closest_words(glove['nurse']) #najbardziej podobne slowa do nurse"
   ]
  },
  {
   "cell_type": "code",
   "execution_count": 25,
   "metadata": {},
   "outputs": [
    {
     "name": "stdout",
     "output_type": "stream",
     "text": [
      "computers 2.4362667\n",
      "software 2.926823\n",
      "technology 3.190351\n"
     ]
    }
   ],
   "source": [
    "print_closest_words(glove['computer'], 3) #najbardziej podobne slowa do computer"
   ]
  },
  {
   "cell_type": "code",
   "execution_count": 26,
   "metadata": {},
   "outputs": [
    {
     "name": "stdout",
     "output_type": "stream",
     "text": [
      "happy 1.9199749\n",
      "feels 2.360464\n",
      "sorry 2.4984782\n",
      "hardly 2.5259297\n",
      "imagine 2.5652788\n"
     ]
    }
   ],
   "source": [
    "print_closest_words((glove['happy'] + glove['sad']) / 2) #najblizsze slowa ktore są pomiedzy slowem happy i sad"
   ]
  },
  {
   "cell_type": "code",
   "execution_count": 27,
   "metadata": {},
   "outputs": [
    {
     "name": "stdout",
     "output_type": "stream",
     "text": [
      "surrounding 3.0698414\n",
      "nearby 3.1112068\n",
      "bridge 3.1585503\n",
      "along 3.1610184\n",
      "shore 3.161882\n"
     ]
    }
   ],
   "source": [
    "print_closest_words((glove['lake'] + glove['building']) / 2) #najblizsze slowa ktore są pomiedzy slowem lake i building"
   ]
  },
  {
   "cell_type": "markdown",
   "metadata": {},
   "source": [
    "Ciekawostki...\n"
   ]
  },
  {
   "cell_type": "markdown",
   "metadata": {},
   "source": [
    "                                    king - man + woman ?\n"
   ]
  },
  {
   "cell_type": "markdown",
   "metadata": {},
   "source": [
    "Te wektory nie są takie zupełnie bez interpretacji ;)\n"
   ]
  },
  {
   "cell_type": "code",
   "execution_count": 28,
   "metadata": {},
   "outputs": [
    {
     "name": "stdout",
     "output_type": "stream",
     "text": [
      "queen 2.8391209\n",
      "prince 3.661004\n",
      "elizabeth 3.715252\n",
      "daughter 3.8317876\n",
      "widow 3.8493776\n"
     ]
    }
   ],
   "source": [
    "print_closest_words(glove['king'] - glove['man'] + glove['woman']) #king - man + woman = queen :)"
   ]
  },
  {
   "cell_type": "code",
   "execution_count": 29,
   "metadata": {},
   "outputs": [
    {
     "name": "stdout",
     "output_type": "stream",
     "text": [
      "king 2.8391206\n",
      "prince 3.2508988\n",
      "crown 3.4485192\n",
      "knight 3.5587437\n",
      "coronation 3.6198907\n"
     ]
    }
   ],
   "source": [
    "print_closest_words(glove['queen'] - glove['woman'] + glove['man']) #queen - woman + man  = king  ;)"
   ]
  },
  {
   "cell_type": "code",
   "execution_count": 30,
   "metadata": {},
   "outputs": [
    {
     "name": "stdout",
     "output_type": "stream",
     "text": [
      "grandmother 2.323353\n",
      "aunt 2.352789\n",
      "granddaughter 2.3615324\n",
      "daughter 2.4039288\n",
      "uncle 2.6026237\n"
     ]
    }
   ],
   "source": [
    "print_closest_words(glove['uncle'] - glove['man'] + glove['woman'])  #uncle - man + woman = aunt"
   ]
  },
  {
   "cell_type": "code",
   "execution_count": 32,
   "metadata": {},
   "outputs": [
    {
     "name": "stdout",
     "output_type": "stream",
     "text": [
      "hacker 3.838365\n",
      "glitch 4.003873\n",
      "originator 4.041952\n",
      "hack 4.047719\n",
      "serial 4.2250676\n"
     ]
    }
   ],
   "source": [
    "print_closest_words(glove['programmer'] - glove['good'] + glove['bad']) #programmer - good + bad = hacker"
   ]
  },
  {
   "cell_type": "code",
   "execution_count": 33,
   "metadata": {},
   "outputs": [
    {
     "name": "stdout",
     "output_type": "stream",
     "text": [
      "nurse 3.1355348\n",
      "pregnant 3.780537\n",
      "child 3.78347\n",
      "woman 3.8643105\n",
      "mother 3.9222305\n"
     ]
    }
   ],
   "source": [
    "print_closest_words(glove['doctor'] - glove['man'] + glove['woman'])  #doctor - man + woman  = nurse"
   ]
  },
  {
   "cell_type": "code",
   "execution_count": 4,
   "metadata": {},
   "outputs": [
    {
     "data": {
      "image/png": "[encoded data removed]",
      "text/plain": [
       "<Figure size 640x480 with 1 Axes>"
      ]
     },
     "metadata": {},
     "output_type": "display_data"
    }
   ],
   "source": [
    "from sklearn.decomposition import PCA\n",
    "import numpy as np\n",
    "import matplotlib.pyplot as plt\n",
    "\n",
    "\n",
    "X = []\n",
    "words = ['woman', 'man', 'sister','brother', 'uncle', 'aunt', 'mother', 'father'] #wybieram grupe slow\n",
    "for word in words:\n",
    "    X.append(glove[word].tolist()) #patrze jakie mają embeddingi\n",
    "    \n",
    "X = np.array(X) #tworze z nich macierz\n",
    "\n",
    "pca = PCA(n_components=2)\n",
    "pca.fit(X)\n",
    "X_pca = pca.transform(X)  #redukuje liczbe zmiennych z 50 do 2 dla kazdego slowa\n",
    "\n",
    "\n",
    "#Do rysowania: \n",
    "\n",
    "x = X_pca[:,0] #pierwsza zmienna\n",
    "y = X_pca[:,1] #druga zmienna\n",
    "\n",
    "\n",
    "plt.scatter(x,y)\n",
    "\n",
    "for i, txt in enumerate(words):\n",
    "    plt.annotate(txt, (x[i], y[i]))\n",
    "    \n",
    "for i in range(0, len(x), 2):\n",
    "    plt.plot(x[i:i+2], y[i:i+2], 'ro-')\n",
    "    \n",
    "plt.show()"
   ]
  },
  {
   "cell_type": "code",
   "execution_count": 35,
   "metadata": {},
   "outputs": [
    {
     "data": {
      "image/png": "[encoded data removed]",
      "text/plain": [
       "<Figure size 640x480 with 1 Axes>"
      ]
     },
     "metadata": {},
     "output_type": "display_data"
    }
   ],
   "source": [
    "X = []\n",
    "words = ['france', 'paris', 'poland','warsaw', 'germany', 'berlin', 'netherlands', 'amsterdam'] #wybieram grupe slow\n",
    "for word in words:\n",
    "    X.append(glove[word].tolist()) #patrze jakie mają embeddingi\n",
    "    \n",
    "X = np.array(X) #tworze z nich macierz\n",
    "\n",
    "pca = PCA(n_components=2)\n",
    "pca.fit(X)\n",
    "X_pca = pca.transform(X)  #redukuje liczbe zmiennych z 50 do 2 dla kazdego slowa\n",
    "\n",
    "\n",
    "#Do rysowania: \n",
    "\n",
    "x = X_pca[:,0] #pierwsza zmienna\n",
    "y = X_pca[:,1] #druga zmienna\n",
    "\n",
    "\n",
    "plt.scatter(x,y)\n",
    "\n",
    "for i, txt in enumerate(words):\n",
    "    plt.annotate(txt, (x[i], y[i]))\n",
    "    \n",
    "for i in range(0, len(x), 2):\n",
    "    plt.plot(x[i:i+2], y[i:i+2], 'ro-')\n",
    "    \n",
    "plt.show()"
   ]
  },
  {
   "cell_type": "code",
   "execution_count": 36,
   "metadata": {},
   "outputs": [
    {
     "data": {
      "image/png": "[encoded data removed]",
      "text/plain": [
       "<Figure size 640x480 with 1 Axes>"
      ]
     },
     "metadata": {},
     "output_type": "display_data"
    }
   ],
   "source": [
    "X = []\n",
    "words = ['dog', 'cat', 'cow', 'horse', 'sheep', 'sunflower', 'carrot', 'salad', 'potato','cucumber'] #wybieram grupe slow\n",
    "for word in words:\n",
    "    X.append(glove[word].tolist()) #patrze jakie mają embeddingi\n",
    "    \n",
    "X = np.array(X) #tworze z nich macierz\n",
    "\n",
    "pca = PCA(n_components=2)\n",
    "pca.fit(X)\n",
    "X_pca = pca.transform(X)  #redukuje liczbe zmiennych z 50 do 2 dla kazdego slowa\n",
    "\n",
    "\n",
    "#Do rysowania: \n",
    "\n",
    "x = X_pca[:,0] #pierwsza zmienna\n",
    "y = X_pca[:,1] #druga zmienna\n",
    "\n",
    "\n",
    "plt.scatter(x,y)\n",
    "\n",
    "for i, txt in enumerate(words):\n",
    "    plt.annotate(txt, (x[i], y[i]))\n",
    "    \n",
    "plt.show()"
   ]
  },
  {
   "cell_type": "markdown",
   "metadata": {},
   "source": [
    "* Zastosowanie - szukanie informacji w tekście"
   ]
  },
  {
   "cell_type": "code",
   "execution_count": 37,
   "metadata": {},
   "outputs": [
    {
     "name": "stdout",
     "output_type": "stream",
     "text": [
      "The Godfather is a classic novel written by Mario Puzo in 1969 and later adapted into a legendary film trilogy directed by Francis Ford Coppola. The story revolves around the powerful Italian-American Mafia family, the Corleones, led by Don Vito Corleone. The novel and films explore themes of power, loyalty, family, and the moral complexities of crime. Don Vito Corleone is a respected and feared Mafia boss who believes in honor and justice within his own code of ethics. He helps those who come to him in need but expects loyalty and favors in return. His three sons—Sonny, Fredo, and Michael—each have different attitudes toward the family's criminal empire. The youngest of Don Vito’s sons is named Michael, and he initially wants nothing to do with the family business. However, after a series of tragic events, Michael is drawn into the world of organized crime and eventually becomes the new head of the family. The transformation of Michael Corleone is one of the most compelling aspects of The Godfather. At first, he is an idealistic war hero who wishes to lead an honest life, but circumstances force him to make ruthless decisions. Over time, he becomes even more powerful and feared than his father, sacrificing his morality and personal relationships for the sake of the family’s survival. The Godfather films, particularly the first two, are considered among the greatest movies of all time. They depict not only the brutal reality of the Mafia but also the deep emotional bonds and conflicts within the Corleone family. The saga remains a timeless masterpiece that continues to captivate audiences worldwide.\n",
      "\n",
      "What is the name of the youngest son of Vito?\n"
     ]
    }
   ],
   "source": [
    "tekst = \"The Godfather is a classic novel written by Mario Puzo in 1969 and later adapted into a legendary film trilogy directed by Francis Ford Coppola. The story revolves around the powerful Italian-American Mafia family, the Corleones, led by Don Vito Corleone. The novel and films explore themes of power, loyalty, family, and the moral complexities of crime. Don Vito Corleone is a respected and feared Mafia boss who believes in honor and justice within his own code of ethics. He helps those who come to him in need but expects loyalty and favors in return. His three sons—Sonny, Fredo, and Michael—each have different attitudes toward the family's criminal empire. The youngest of Don Vito’s sons is named Michael, and he initially wants nothing to do with the family business. However, after a series of tragic events, Michael is drawn into the world of organized crime and eventually becomes the new head of the family. The transformation of Michael Corleone is one of the most compelling aspects of The Godfather. At first, he is an idealistic war hero who wishes to lead an honest life, but circumstances force him to make ruthless decisions. Over time, he becomes even more powerful and feared than his father, sacrificing his morality and personal relationships for the sake of the family’s survival. The Godfather films, particularly the first two, are considered among the greatest movies of all time. They depict not only the brutal reality of the Mafia but also the deep emotional bonds and conflicts within the Corleone family. The saga remains a timeless masterpiece that continues to captivate audiences worldwide.\"\n",
    "print(tekst)\n",
    "question = \"What is the name of the youngest son of Vito?\"\n",
    "print()\n",
    "print(question)"
   ]
  },
  {
   "cell_type": "code",
   "execution_count": 38,
   "metadata": {},
   "outputs": [
    {
     "name": "stdout",
     "output_type": "stream",
     "text": [
      "tensor([0.8793]) 0\n",
      "tensor([0.9045]) 1\n",
      "tensor([0.9174]) 2\n",
      "tensor([0.9366]) 3\n",
      "tensor([0.8945]) 4\n",
      "tensor([0.9358]) 5\n",
      "tensor([0.9679]) 6\n",
      "tensor([0.9521]) 7\n",
      "tensor([0.9485]) 8\n",
      "tensor([0.9223]) 9\n",
      "tensor([0.9412]) 10\n",
      "tensor([0.9315]) 11\n",
      "tensor([0.9315]) 12\n",
      "tensor([0.8710]) 13\n"
     ]
    }
   ],
   "source": [
    "q = sum([glove[w] for w in word_tokenize(question)])\n",
    "\n",
    "for i, elem in enumerate(sent_tokenize(tekst.lower())):\n",
    "    x = sum([glove[w] for w in word_tokenize(elem)])\n",
    "    print(torch.cosine_similarity(q.unsqueeze(0), x.unsqueeze(0)), i)"
   ]
  },
  {
   "cell_type": "code",
   "execution_count": 39,
   "metadata": {},
   "outputs": [
    {
     "data": {
      "text/plain": [
       "'the youngest of don vito’s sons is named michael, and he initially wants nothing to do with the family business.'"
      ]
     },
     "execution_count": 39,
     "metadata": {},
     "output_type": "execute_result"
    }
   ],
   "source": [
    "sent_tokenize(tekst.lower())[6]"
   ]
  },
  {
   "cell_type": "markdown",
   "metadata": {},
   "source": [
    "<h3> Analiza tonu wypowiedzi zdań (Sentiment Analysis)"
   ]
  },
  {
   "cell_type": "code",
   "execution_count": 5,
   "metadata": {},
   "outputs": [
    {
     "name": "stdout",
     "output_type": "stream",
     "text": [
      "['0', '1467810369', 'Mon Apr 06 22:19:45 PDT 2009', 'NO_QUERY', '_TheSpecialOne_', \"@switchfoot http://twitpic.com/2y1zl - Awww, that's a bummer.  You shoulda got David Carr of Third Day to do it. ;D\"]\n",
      "['0', '1467810672', 'Mon Apr 06 22:19:49 PDT 2009', 'NO_QUERY', 'scotthamilton', \"is upset that he can't update his Facebook by texting it... and might cry as a result  School today also. Blah!\"]\n",
      "['0', '1467810917', 'Mon Apr 06 22:19:53 PDT 2009', 'NO_QUERY', 'mattycus', '@Kenichan I dived many times for the ball. Managed to save 50%  The rest go out of bounds']\n",
      "['0', '1467811184', 'Mon Apr 06 22:19:57 PDT 2009', 'NO_QUERY', 'ElleCTF', 'my whole body feels itchy and like its on fire ']\n",
      "['0', '1467811193', 'Mon Apr 06 22:19:57 PDT 2009', 'NO_QUERY', 'Karoli', \"@nationwideclass no, it's not behaving at all. i'm mad. why am i here? because I can't see you all over there. \"]\n"
     ]
    }
   ],
   "source": [
    "import csv\n",
    "\n",
    "\n",
    "#Funkcja do zaladowania danych; dostępne do pobrania są np tutaj: https://github.com/crwong/cs224u-project/blob/master/data/sentiment/training.1600000.processed.noemoticon.csv\n",
    "#Mozna nie pobierac, tych danych tylko sobie przeanalizowac ten przyklad; pokazuje go zeby pokazac ze czasem prosta siec daje porownywalne\n",
    "#wyniki co ta bardziej zlozona\n",
    "\n",
    "def get_data():\n",
    "    return csv.reader(open(\"training.1600000.processed.noemoticon.csv\", \"rt\", encoding=\"latin-1\"))\n",
    "\n",
    "#wyswietlam pierwszych 5 tweetow - jak wyglądają rekordy?\n",
    "for i, line in enumerate(get_data()): \n",
    "    if i > 4:\n",
    "        break\n",
    "    print(line)"
   ]
  },
  {
   "cell_type": "markdown",
   "metadata": {},
   "source": [
    "Nas interesować będzie tylko pierwsza i ostatnia kolumna:\n",
    "\n",
    "- 0 oznacza wiadomość typu \"sad\", a 4 typu \"happy\"\n",
    "- ostatatnia kolumna zawiera tweet"
   ]
  },
  {
   "cell_type": "code",
   "execution_count": 8,
   "metadata": {},
   "outputs": [
    {
     "name": "stdout",
     "output_type": "stream",
     "text": [
      "26\n",
      "25\n",
      "20\n",
      "10\n",
      "29\n",
      "5\n",
      "3\n",
      "26\n",
      "7\n",
      "4\n",
      "9\n"
     ]
    }
   ],
   "source": [
    "#patrzymy ile slow [z embeddingami] jest w pierwszych 10 tweetach [pozniej, tylko te slowa będą brane do analizy; slowa bez embeddingow będziemy ignorowac]\n",
    "\n",
    "for i, line in enumerate(get_data()): #przechodze dane \n",
    "    if i > 10:\n",
    "        break\n",
    "    print(sum(int(w in glove.stoi) for w in word_tokenize(line[-1].lower()))) #licze ile slow z tweetu jest ma embeddingi"
   ]
  },
  {
   "cell_type": "code",
   "execution_count": 9,
   "metadata": {},
   "outputs": [],
   "source": [
    "import torch\n",
    "import torch.nn as nn\n",
    "\n",
    "def get_tweet_vectors(glove_vector):\n",
    "    train, valid, test = [], [], [] #tworze trzy listy na dane train, valid i test\n",
    "    for i, line in enumerate(get_data()): #przechodze dane \n",
    "        tweet = line[-1]                  #tweet to ostatni element \n",
    "        tweet_emb = sum(glove_vector[w] for w in word_tokenize(tweet.lower())) #wektor tweeta będzie sumą embeddingow slow w niego wchodzących\n",
    "        label = torch.tensor(int(line[0] == \"4\")).long() #generuje dwa rodzaje labelow: 1 - gdy happy, 0 gdy sad\n",
    "            \n",
    "        #dzielimy dane na trzy kategorie\n",
    "        if i % 5 < 3:     #czyli 0,1,2\n",
    "            train.append((tweet_emb, label)) # 60% danych treningowych\n",
    "        elif i % 5 == 3: #czyli 3\n",
    "            valid.append((tweet_emb, label)) # 20% danych do walidacji\n",
    "        else:            #czyli gddy i%5 jest 4\n",
    "            test.append((tweet_emb, label)) # 20% danych testowych\n",
    "    return train, valid, test"
   ]
  },
  {
   "cell_type": "code",
   "execution_count": 10,
   "metadata": {},
   "outputs": [],
   "source": [
    "train, valid, test = get_tweet_vectors(glove) #przygotowuje sobie dane w oparciu o gotowe embeddingi z glove\n",
    "\n",
    "#za kazdym razem będzie bral 128 rekordow (przy trenowaniu) i co epoke tasujemy (shuffle = True)\n",
    "train_loader = torch.utils.data.DataLoader(train, batch_size=128, shuffle=True)\n",
    "valid_loader = torch.utils.data.DataLoader(valid, batch_size=128, shuffle=True)\n",
    "test_loader = torch.utils.data.DataLoader(test, batch_size=128, shuffle=True)"
   ]
  },
  {
   "cell_type": "code",
   "execution_count": 44,
   "metadata": {},
   "outputs": [],
   "source": [
    "import matplotlib.pyplot as plt"
   ]
  },
  {
   "cell_type": "code",
   "execution_count": 11,
   "metadata": {},
   "outputs": [],
   "source": [
    "#Funkcja wyznaczająca dokładność predykcji:\n",
    "def get_accuracy(model, data_loader):\n",
    "    model.eval()\n",
    "    correct, total = 0, 0  #ile ok, ile wszystkich\n",
    "    with torch.no_grad():\n",
    "        for tweets, labels in data_loader: #przechodzi dane\n",
    "            output = model(tweets)         #jak dziala model\n",
    "            pred = output.max(1, keepdim=True)[1]  #ktora kategoria\n",
    "            correct += pred.eq(labels.view_as(pred)).sum().item()\n",
    "            total += labels.shape[0]\n",
    "    return correct / total"
   ]
  },
  {
   "cell_type": "code",
   "execution_count": 12,
   "metadata": {},
   "outputs": [],
   "source": [
    "def train_network(model, train_loader, valid_loader, num_epochs=5, learning_rate=1e-5):\n",
    "    criterion = nn.CrossEntropyLoss()\n",
    "    optimizer = torch.optim.Adam(model.parameters(), lr=learning_rate)\n",
    "    losses, train_acc, valid_acc = [], [], []\n",
    "    epochs = []\n",
    "\n",
    "    print(\"Dokładności przed treningiem\")\n",
    "    print(\"treningowy: \", get_accuracy(model, train_loader))\n",
    "    print(\"walidacyjny: \", get_accuracy(model, valid_loader))\n",
    "    epochs.append(-1)\n",
    "    train_acc.append(get_accuracy(model, train_loader))\n",
    "    valid_acc.append(get_accuracy(model, valid_loader))\n",
    "\n",
    "    for epoch in range(num_epochs):\n",
    "        model.train()\n",
    "        epoch_loss = 0\n",
    "\n",
    "        for tweets, labels in train_loader:\n",
    "            optimizer.zero_grad()\n",
    "            pred = model(tweets)\n",
    "            loss = criterion(pred, labels)\n",
    "            loss.backward()\n",
    "            optimizer.step()\n",
    "            epoch_loss += loss.item()\n",
    "\n",
    "        avg_epoch_loss = epoch_loss / len(train_loader)\n",
    "        losses.append(avg_epoch_loss)\n",
    "\n",
    "        if epoch % 10 == 0:\n",
    "            epochs.append(epoch)\n",
    "            train_acc.append(get_accuracy(model, train_loader))\n",
    "            valid_acc.append(get_accuracy(model, valid_loader))\n",
    "            print(f'Epoch {epoch+1} | Loss: {avg_epoch_loss:.4f} | Train Acc: {train_acc[-1]:.3f} | Valid Acc: {valid_acc[-1]:.3f}')\n",
    "\n",
    "    # wykres strat\n",
    "    plt.title(\"Loss per Epoch\")\n",
    "    plt.plot(losses, label=\"Train Loss\")\n",
    "    plt.xlabel(\"Epoch\")\n",
    "    plt.ylabel(\"Loss\")\n",
    "    plt.legend()\n",
    "    plt.show()\n",
    "\n",
    "    # wykres dokładności\n",
    "    plt.title(\"Accuracy\")\n",
    "    plt.plot(epochs, train_acc, label=\"Train Accuracy\")\n",
    "    plt.plot(epochs, valid_acc, label=\"Validation Accuracy\")\n",
    "    plt.xlabel(\"Epoch\")\n",
    "    plt.ylabel(\"Accuracy\")\n",
    "    plt.legend()\n",
    "    plt.show()"
   ]
  },
  {
   "cell_type": "code",
   "execution_count": 13,
   "metadata": {},
   "outputs": [
    {
     "name": "stdout",
     "output_type": "stream",
     "text": [
      "Dokładności przed treningiem\n",
      "treningowy:  0.4673333333333333\n",
      "walidacyjny:  0.46975\n",
      "Epoch 1 | Loss: 0.6361 | Train Acc: 0.667 | Valid Acc: 0.667\n",
      "Epoch 11 | Loss: 0.5683 | Train Acc: 0.700 | Valid Acc: 0.680\n",
      "Epoch 21 | Loss: 0.5469 | Train Acc: 0.716 | Valid Acc: 0.692\n",
      "Epoch 31 | Loss: 0.5426 | Train Acc: 0.718 | Valid Acc: 0.694\n",
      "Epoch 41 | Loss: 0.5266 | Train Acc: 0.729 | Valid Acc: 0.694\n",
      "Epoch 51 | Loss: 0.5202 | Train Acc: 0.732 | Valid Acc: 0.689\n",
      "Epoch 61 | Loss: 0.5103 | Train Acc: 0.736 | Valid Acc: 0.685\n",
      "Epoch 71 | Loss: 0.5097 | Train Acc: 0.733 | Valid Acc: 0.693\n",
      "Epoch 81 | Loss: 0.5030 | Train Acc: 0.741 | Valid Acc: 0.683\n",
      "Epoch 91 | Loss: 0.5036 | Train Acc: 0.738 | Valid Acc: 0.692\n"
     ]
    },
    {
     "data": {
      "image/png": "[encoded data removed]",
      "text/plain": [
       "<Figure size 640x480 with 1 Axes>"
      ]
     },
     "metadata": {},
     "output_type": "display_data"
    },
    {
     "data": {
      "image/png": "[encoded data removed]",
      "text/plain": [
       "<Figure size 640x480 with 1 Axes>"
      ]
     },
     "metadata": {},
     "output_type": "display_data"
    }
   ],
   "source": [
    "#Siec neuronową moge zdefiniowac w taki uproszczony spoosob\n",
    "mymodel = nn.Sequential(nn.Linear(50, 30),  #przekształcenie liniowe R^50 ---> R^30\n",
    "                        nn.ReLU(),          #wyniki przekształcam funkcją ReLU\n",
    "                        nn.Linear(30, 10),  #kolejne przekształcenie liniowe R^30--->R^10\n",
    "                        nn.ReLU(),          #znow ReLU\n",
    "                        nn.Linear(10, 2))   #znow przekształcenie liniowe, efekt: 2 liczby\n",
    "                        \n",
    "\n",
    "train_network(mymodel, train_loader, valid_loader, num_epochs=100, learning_rate=0.01)"
   ]
  },
  {
   "cell_type": "code",
   "execution_count": 14,
   "metadata": {},
   "outputs": [
    {
     "name": "stdout",
     "output_type": "stream",
     "text": [
      "Final test accuracy: 0.68475\n"
     ]
    }
   ],
   "source": [
    "print(\"Final test accuracy:\", get_accuracy(mymodel, test_loader)) #dokldnosc na zbiorze testowym"
   ]
  },
  {
   "cell_type": "code",
   "execution_count": 15,
   "metadata": {},
   "outputs": [],
   "source": [
    "#funkcja do testowania nowych tweetow\n",
    "\n",
    "def test_model(model, glove_vector, tweet):\n",
    "    emb = sum(glove_vector[w] for w in word_tokenize(tweet.lower())) #przerabiam tweet na sume embieddingpw\n",
    "    out = mymodel(emb.unsqueeze(0)) #co powie model\n",
    "    pred = out.max(1, keepdim=True)[1] #ktora kategoria bardziej prawdopodobna\n",
    "    return pred"
   ]
  },
  {
   "cell_type": "code",
   "execution_count": 16,
   "metadata": {},
   "outputs": [
    {
     "data": {
      "text/plain": [
       "tensor([[1]])"
      ]
     },
     "execution_count": 16,
     "metadata": {},
     "output_type": "execute_result"
    }
   ],
   "source": [
    "test_model(mymodel, glove, \"very happy\")"
   ]
  },
  {
   "cell_type": "code",
   "execution_count": 17,
   "metadata": {},
   "outputs": [
    {
     "data": {
      "text/plain": [
       "tensor([[0]])"
      ]
     },
     "execution_count": 17,
     "metadata": {},
     "output_type": "execute_result"
    }
   ],
   "source": [
    "test_model(mymodel, glove, \"sad days\")"
   ]
  },
  {
   "cell_type": "code",
   "execution_count": 18,
   "metadata": {},
   "outputs": [
    {
     "name": "stdout",
     "output_type": "stream",
     "text": [
      "Dokładności przed treningiem\n",
      "treningowy:  0.50125\n",
      "walidacyjny:  0.49825\n",
      "Epoch 1 | Loss: 3.7089 | Train Acc: 0.505 | Valid Acc: 0.501\n",
      "Epoch 11 | Loss: 0.9135 | Train Acc: 0.546 | Valid Acc: 0.549\n",
      "Epoch 21 | Loss: 0.7391 | Train Acc: 0.601 | Valid Acc: 0.615\n",
      "Epoch 31 | Loss: 0.6608 | Train Acc: 0.643 | Valid Acc: 0.652\n",
      "Epoch 41 | Loss: 0.6295 | Train Acc: 0.666 | Valid Acc: 0.670\n",
      "Epoch 51 | Loss: 0.6150 | Train Acc: 0.676 | Valid Acc: 0.678\n",
      "Epoch 61 | Loss: 0.6084 | Train Acc: 0.680 | Valid Acc: 0.678\n",
      "Epoch 71 | Loss: 0.6048 | Train Acc: 0.683 | Valid Acc: 0.679\n",
      "Epoch 81 | Loss: 0.6027 | Train Acc: 0.681 | Valid Acc: 0.681\n",
      "Epoch 91 | Loss: 0.6021 | Train Acc: 0.678 | Valid Acc: 0.684\n"
     ]
    },
    {
     "data": {
      "image/png": "[encoded data removed]",
      "text/plain": [
       "<Figure size 640x480 with 1 Axes>"
      ]
     },
     "metadata": {},
     "output_type": "display_data"
    },
    {
     "data": {
      "image/png": "[encoded data removed]",
      "text/plain": [
       "<Figure size 640x480 with 1 Axes>"
      ]
     },
     "metadata": {},
     "output_type": "display_data"
    },
    {
     "name": "stdout",
     "output_type": "stream",
     "text": [
      "Final test accuracy: 0.69575\n"
     ]
    }
   ],
   "source": [
    "#prostszy model \n",
    "mymodel2 = nn.Linear(50, 2)\n",
    "train_network(mymodel2, train_loader, valid_loader, num_epochs=100, learning_rate=1e-4)\n",
    "\n",
    "print(\"Final test accuracy:\", get_accuracy(mymodel2, test_loader))"
   ]
  },
  {
   "cell_type": "markdown",
   "metadata": {},
   "source": [
    "<h4> Zadanie1: Rozważ teksty należące do 20 kategorii. Zbuduj model przewidujący kategorię w oparciu o reprezentacje wektorową słów GloVe (embeddingi) oraz sieć neuronową. Wyodrębnij także zbiór walidacyjny. Tekst reprezentujemy jako średnią arytmetyczną embeddingów wchodzących w skład recenzji. Zbuduj różne topologie sieci, potestuj batch_size, porównaj ich efektywność. Dodatkowo:\n",
    "    <br>\n",
    "    <br>\n",
    "    \n",
    "- Wygeneruj wykresy wartości funkcji kosztu vs liczby epok oraz Dokładności vs liczby epok. Dodatkowo, zaimplementuj funkcję oceny topk accuracy (czy rzeczywisty jest w top k przewidywanych, k - parametr, dośmylnie k=3). Narysuj analogiczne wykresy dla $k=3$.\n",
    "\n",
    "- Jakie są zalety stosowania embeddingów w stosunku do klasycznych reprezentacji BOW (bag of words) czy SOW (set of words)?\n",
    "    \n",
    "- Jakie są zalety i wady proponowanej w zadaniu reprezentacji tekstu (średniej z embeddingów)?\n"
   ]
  },
  {
   "cell_type": "code",
   "execution_count": 19,
   "metadata": {},
   "outputs": [],
   "source": [
    "from sklearn.datasets import fetch_20newsgroups\n",
    "\n",
    "newsgroups_train = fetch_20newsgroups(subset='train')"
   ]
  },
  {
   "cell_type": "code",
   "execution_count": 20,
   "metadata": {},
   "outputs": [
    {
     "data": {
      "text/plain": [
       "dict_keys(['data', 'filenames', 'target_names', 'target', 'DESCR'])"
      ]
     },
     "execution_count": 20,
     "metadata": {},
     "output_type": "execute_result"
    }
   ],
   "source": [
    "newsgroups_train.keys()"
   ]
  },
  {
   "cell_type": "code",
   "execution_count": 30,
   "metadata": {},
   "outputs": [
    {
     "name": "stdout",
     "output_type": "stream",
     "text": [
      "['alt.atheism', 'comp.graphics', 'comp.os.ms-windows.misc', 'comp.sys.ibm.pc.hardware', 'comp.sys.mac.hardware', 'comp.windows.x', 'misc.forsale', 'rec.autos', 'rec.motorcycles', 'rec.sport.baseball', 'rec.sport.hockey', 'sci.crypt', 'sci.electronics', 'sci.med', 'sci.space', 'soc.religion.christian', 'talk.politics.guns', 'talk.politics.mideast', 'talk.politics.misc', 'talk.religion.misc']\n"
     ]
    }
   ],
   "source": [
    "print(newsgroups_train[\"target_names\"])"
   ]
  },
  {
   "cell_type": "code",
   "execution_count": 21,
   "metadata": {},
   "outputs": [],
   "source": [
    "X = newsgroups_train[\"data\"]\n",
    "y = newsgroups_train[\"target\"]"
   ]
  },
  {
   "cell_type": "code",
   "execution_count": 22,
   "metadata": {},
   "outputs": [],
   "source": [
    "from sklearn.model_selection import train_test_split\n",
    "\n",
    "X_train, X_r, y_train, y_r = train_test_split(X, y, test_size=0.3, random_state=42)\n",
    "X_test, X_valid, y_test, y_valid = train_test_split(X_r, y_r, test_size=0.5, random_state=42)"
   ]
  },
  {
   "cell_type": "code",
   "execution_count": 28,
   "metadata": {},
   "outputs": [],
   "source": [
    "#moze sie przydac"
   ]
  },
  {
   "cell_type": "code",
   "execution_count": 29,
   "metadata": {},
   "outputs": [
    {
     "name": "stdout",
     "output_type": "stream",
     "text": [
      "torch.return_types.topk(\n",
      "values=tensor([8, 3, 1]),\n",
      "indices=tensor([3, 0, 1]))\n"
     ]
    }
   ],
   "source": [
    "x = torch.tensor([3, 1, -2, 8, 0])\n",
    "print(torch.topk(x, 3))"
   ]
  },
  {
   "cell_type": "markdown",
   "metadata": {},
   "source": [
    "<h3> Uzupełnienie: język polski"
   ]
  },
  {
   "cell_type": "code",
   "execution_count": 5,
   "metadata": {},
   "outputs": [],
   "source": [
    "import spacy \n",
    "nlp = spacy.load(\"pl_core_news_md\") #potrzebny większy model niz uprzednio https://spacy.io/models/pl, polecam nawet pl_core_news_lg"
   ]
  },
  {
   "cell_type": "code",
   "execution_count": 68,
   "metadata": {},
   "outputs": [
    {
     "name": "stdout",
     "output_type": "stream",
     "text": [
      "[-7.4547   -1.8492   -0.70292   3.108    -3.7143    3.0871   -1.3974\n",
      "  1.3252    2.5455    3.2635    0.41413  -1.8116    1.5274    3.747\n",
      "  0.28865  -3.8842   -0.9197   -3.3196    3.8737    2.8252   -0.26964\n",
      " -2.3708   -2.6654   -1.1841    0.15447   0.73748   5.2109   -1.0732\n",
      "  2.1572   -1.4507   -0.95084   1.4292    2.182    -1.9248   -2.5257\n",
      " -0.95694  -2.9952   -3.1219    2.9781   -3.7135    4.1783   -3.8784\n",
      "  1.61      2.1234    1.1705   -1.7251    1.1271    3.5731   -0.056633\n",
      "  1.7764    1.3294    1.0516    1.8621   -1.8954    4.8511    2.7122\n",
      " -3.7288    1.2753   -0.93571  -1.5568   -6.7451    6.2769   -2.5904\n",
      "  1.9201   -4.7094    4.5084   -0.74136   2.2447   -0.61638  -4.2454\n",
      "  4.4568    0.78156   1.4283   -1.8499    1.7534    2.3741    0.085495\n",
      "  0.46573   2.3606   -2.475     2.5915   -0.8652    3.6735   -0.11675\n",
      " -2.8695   -3.3869    2.6629   -1.1346    1.9168   -3.3827    0.50006\n",
      "  0.31977  -2.7926   -0.050619 -3.0206    2.5213    2.3252    1.9798\n",
      "  5.6008   -4.0283    4.4352    7.1455   -5.5396   -0.092957 -4.068\n",
      " -2.806    -0.58053   0.58977  -1.3894    0.61209  -5.1991    2.6411\n",
      " -0.46115  -5.1677   -1.269     2.9929    1.6534   -0.96163  -0.75327\n",
      "  0.52449  -3.2112    1.4303   -2.0729   -2.1558   -5.372    -4.3076\n",
      " -0.53091   0.9818   -3.9801   -0.74927   2.5115   -0.31901   3.5176\n",
      "  1.8583    3.5965   -2.045    -0.57747  -0.2389   -0.78746   2.4239\n",
      " -4.1043    6.5541    4.6403    2.6466   -2.8093    7.155     0.19944\n",
      "  4.1758    0.25316   1.1017    1.434     0.42353   2.4876   -1.608\n",
      "  1.8122    6.5978   -4.6131    4.8194    4.1718    4.4386   -1.4872\n",
      "  5.278     2.0134   -1.8799    3.1057    2.8654    5.1665    0.14917\n",
      "  4.1822   -5.5068   -0.94667   3.5356    1.8695    1.7295    3.1628\n",
      "  2.2698    1.0621   -1.4221    0.11465  -2.4869   -0.40495   3.0527\n",
      "  3.3821   -1.1579   -0.5743   -4.6814    0.79983  -2.0144   -3.6515\n",
      "  1.7993    2.2233   -1.8129    0.35723   1.4761   -1.7043    1.62\n",
      "  5.2462    1.3832   -2.5487    1.1419   -1.3896   -2.3666   -5.541\n",
      "  0.93851   0.81383   5.5153    1.6924    0.89522  -1.3013    1.4536\n",
      " -1.0145   -1.397    -5.495    -3.1851    4.02      4.6028    7.3442\n",
      "  0.98023   3.2739    4.6708    4.1065    3.0989    1.4859   -1.4115\n",
      " -2.1315   -5.6627    0.75752  -1.8903   -2.1581    0.93136  -2.8081\n",
      "  2.1444    2.4508   -0.51219  -3.3249    4.242     5.248     1.8864\n",
      "  1.8681    3.0554    4.1883    0.83662   2.6612   -1.298    -5.0142\n",
      " -4.6541   -1.5061   -1.4328    1.8202   -2.7556   -1.1632    2.0659\n",
      "  1.9145   -1.452     2.8623    1.6919    2.4133   -1.9935   -2.8585\n",
      " -2.408     1.7183   -6.9568    3.8895   -2.197     4.0541    0.27939\n",
      " -1.2059    1.6797    1.0544   -2.2195   -3.3813   -4.7976    0.3557\n",
      "  0.4735    2.9919    3.2066   -0.94436  -3.2255   -0.5826   -1.5041\n",
      " -2.6261    0.41987   1.5227   -1.1375    1.7059   -0.57964   1.9985\n",
      "  1.8255   -4.0598   -2.4177   -2.6779    1.2436   -3.4032   -4.7077\n",
      "  3.209    -3.0141    3.5612    1.2587   -0.60583   0.54376 ]\n"
     ]
    }
   ],
   "source": [
    "print(nlp.vocab['film'].vector) #polskie embeddingi tez są :)"
   ]
  },
  {
   "cell_type": "code",
   "execution_count": 69,
   "metadata": {},
   "outputs": [
    {
     "name": "stdout",
     "output_type": "stream",
     "text": [
      "0.8419461250305176 0.04055905342102051\n"
     ]
    }
   ],
   "source": [
    "#podobienstwo slow --> cosinusowe\n",
    "banan = nlp.vocab['banan']\n",
    "pies = nlp.vocab['pies']\n",
    "kot = nlp.vocab['kot']\n",
    " \n",
    "print(pies.similarity(kot), pies.similarity(banan))"
   ]
  },
  {
   "cell_type": "code",
   "execution_count": 70,
   "metadata": {},
   "outputs": [
    {
     "name": "stdout",
     "output_type": "stream",
     "text": [
      "0.8475700263117251\n",
      "0.5869053835044575\n"
     ]
    }
   ],
   "source": [
    "#mozna tez uzywac do zdan --> cosinusowe\n",
    "\n",
    "target = nlp(\"Ten film był super\") \n",
    "tekst1 = nlp(\"To był świetny film\")\n",
    "tekst2 = nlp(\"Okropny film\")\n",
    " \n",
    "print(target.similarity(tekst1))  \n",
    "print(target.similarity(tekst2))  \n",
    " "
   ]
  },
  {
   "cell_type": "markdown",
   "metadata": {},
   "source": [
    "- zdanie to średnia słów"
   ]
  },
  {
   "cell_type": "code",
   "execution_count": 74,
   "metadata": {},
   "outputs": [
    {
     "name": "stdout",
     "output_type": "stream",
     "text": [
      "[-3.08835   -1.1211874  1.03456    2.1699252 -3.002875 ]\n"
     ]
    }
   ],
   "source": [
    "target = nlp(\"Ten film był super\") \n",
    "a = target.vector\n",
    "print(a[:5])"
   ]
  },
  {
   "cell_type": "code",
   "execution_count": 75,
   "metadata": {},
   "outputs": [
    {
     "name": "stdout",
     "output_type": "stream",
     "text": [
      "[-3.08835   -1.1211874  1.03456    2.1699252 -3.002875 ]\n"
     ]
    }
   ],
   "source": [
    "y = (nlp(\"Ten\").vector +nlp(\"film\").vector+nlp(\"był\").vector +nlp(\"super\").vector)/4\n",
    "print(y[:5])"
   ]
  },
  {
   "cell_type": "markdown",
   "metadata": {},
   "source": [
    "<h4> Zadanie2: Zbuduj model do obsługi pytań gości do hotelu. Po otrzymania pytania użytkownik otrzymuje kolejno 3 informacje:\n",
    "    \n",
    "- Trafność - ocena liczbowa (np. na podstawie podobieństwa cosinusowego) czy nasze pytanie mieści się w którejś z kategorii, w przypadku niskiej wartości (jakiej?) należy zwrócić informację typu \"Proszę o zadanie innego pytania\"\n",
    "- W przypadku gdy Trafność przekroczy zadany próg, pojawia się dodatkowo informacja odnośnie potencjalnej kategorii zapytania (jedzenie i napoje, płatność lub udogodnienia) - można to zrobić na podstawie poodobieństwa do najlepszego zapytania lub średniej z kategorii\n",
    "- Następnie pojawia się odpowiedź, związana z najbardziej podobnym zapytaniem w bazie danych\n",
    "    \n",
    "    \n",
    "    \n",
    "W razie potrzeby możesz poszerzyć bazę pytań, kategorii. Można też bardziej rozbudować sposób wyszukiwania pytania. Wszelkie usprawnienia mile widziane :)\n",
    "    \n",
    "    \n",
    " "
   ]
  },
  {
   "cell_type": "markdown",
   "metadata": {},
   "source": [
    "* Wejście od użytkownika"
   ]
  },
  {
   "cell_type": "code",
   "execution_count": 31,
   "metadata": {},
   "outputs": [
    {
     "name": "stdout",
     "output_type": "stream",
     "text": [
      "Podaj liczbe: 5\n",
      "Twoja liczba to 5\n"
     ]
    }
   ],
   "source": [
    "s = input(\"Podaj liczbe: \")\n",
    "print(\"Twoja liczba to\",s)"
   ]
  },
  {
   "cell_type": "code",
   "execution_count": 9,
   "metadata": {},
   "outputs": [
    {
     "name": "stdout",
     "output_type": "stream",
     "text": [
      "--> Witaj! Czy mogę jakoś pomóc? || Czy mogę zamówić śniadanie do pokoju?\n",
      "\n",
      "Dopasowanie/Trafność:  100 %\n",
      "\n",
      "Pytanie należy do kategorii:  jedzenie i napoje\n",
      "\n",
      "Tak, oczywiście. Proszę o podanie godziny dostawy.\n",
      "\n",
      "\n",
      "--> Czy moge jeszcze w czymś pomóc? Jeżeli nie, to napisz NIE || Czy jest Wi-Fi?\n",
      "\n",
      "Dopasowanie/Trafność:  98 %\n",
      "\n",
      "Pytanie należy do kategorii:  udogodnienia\n",
      "\n",
      "Tak, bezpłatne Wi-Fi jest dostępne na terenie całego hotelu.\n",
      "\n",
      "\n",
      "--> Czy moge jeszcze w czymś pomóc? Jeżeli nie, to napisz NIE || Czy istnieje życie w kosmosie?\n",
      "\n",
      "Dopasowanie/Trafność:  82 %\n",
      "\n",
      "Chyba nie potrafię Ci w tym pomóc :(\n",
      "\n",
      "\n",
      "--> Czy moge jeszcze w czymś pomóc? Jeżeli nie, to napisz NIE || NIE\n",
      "\n",
      "W porządku. Miłego pobytu!\n",
      "\n"
     ]
    }
   ],
   "source": [
    "hotel_czat() #przykladowe dzialanie"
   ]
  },
  {
   "cell_type": "markdown",
   "metadata": {},
   "source": [
    "<h2> Tokenizatory i Embeddingi kontekstowe"
   ]
  },
  {
   "cell_type": "markdown",
   "metadata": {},
   "source": [
    "* Tokenizator BERT używa tzw. techniki WordPiece Tokenization, która pozwala mu radzić sobie nawet z nieznanymi słowami (czyli out-of-vocabulary)."
   ]
  },
  {
   "cell_type": "code",
   "execution_count": 23,
   "metadata": {},
   "outputs": [
    {
     "name": "stdout",
     "output_type": "stream",
     "text": [
      "['biology']\n",
      "['bio', '##loh', '##y']\n",
      "['bio', '##in', '##form', '##atics']\n",
      "['i', 'like', 'bio', '##in', '##form', '##atics', 'so', 'much']\n"
     ]
    }
   ],
   "source": [
    "from transformers import BertTokenizer, BertModel\n",
    "import torch\n",
    "\n",
    "# Wczytanie modelu BERT\n",
    "tokenizer = BertTokenizer.from_pretrained('bert-base-uncased')\n",
    "tokens = tokenizer.tokenize(\"biology\") #popularne slowo! \n",
    "print(tokens)\n",
    "\n",
    "tokens = tokenizer.tokenize(\"biolohy\") #tego slowa nie było ;( \n",
    "print(tokens)\n",
    "\n",
    "\n",
    "tokens = tokenizer.tokenize(\"bioinformatics\")  #to bylo, ale byc moze niezbyt często ##-oznacza ze to nie jest początkowy token\n",
    "print(tokens)\n",
    "\n",
    "tokens = tokenizer.tokenize(\"I like bioinformatics so much\")\n",
    "print(tokens)"
   ]
  },
  {
   "cell_type": "markdown",
   "metadata": {},
   "source": [
    "Porównanie\n",
    "\n",
    "* GloVe – przypisuje jedno wektorowe przedstawienie dla każdego słowa niezależnie od kontekstu.\n",
    "\n",
    "* BERT – generuje różne embeddingi dla tego samego słowa zależnie od kontekstu"
   ]
  },
  {
   "cell_type": "code",
   "execution_count": 30,
   "metadata": {},
   "outputs": [
    {
     "name": "stdout",
     "output_type": "stream",
     "text": [
      "[CLS]        => tensor([-0.1020,  0.1224, -0.0742, -0.2762, -0.3269]) ...\n",
      "i            => tensor([ 0.2233,  0.5518,  0.4030, -0.9121, -0.0750]) ...\n",
      "have         => tensor([ 0.1388,  0.9120,  0.1499, -0.5301,  0.0521]) ...\n",
      "bear         => tensor([ 0.4193,  0.4981,  0.2273, -0.4858,  0.3158]) ...\n",
      ",            => tensor([-0.1474,  0.7827,  0.8424,  0.3180,  0.6843]) ...\n",
      "please       => tensor([-0.2526,  0.5112,  0.7047, -0.7444, -0.0449]) ...\n",
      "do           => tensor([ 0.2211,  0.3049,  0.4429, -1.2220, -0.1172]) ...\n",
      "not          => tensor([ 0.0704, -0.3303,  0.3225, -0.4149,  0.5368]) ...\n",
      "bear         => tensor([ 1.1456,  1.2415,  0.6915, -0.4820,  0.4666]) ...\n",
      "me           => tensor([-0.1233, -0.0601, -0.1967, -0.5395, -0.0827]) ...\n",
      ".            => tensor([ 0.8213,  0.4031, -0.4484,  0.4322, -0.1434]) ...\n",
      "it           => tensor([ 0.2445,  0.0560, -0.1301, -0.5697,  0.2753]) ...\n",
      "is           => tensor([ 0.3034,  0.7958,  0.0625, -0.9171,  0.2296]) ...\n",
      "bio          => tensor([ 0.0919,  0.7683, -0.3186, -0.1510,  0.7255]) ...\n",
      "##in         => tensor([-0.9253, -0.3220,  0.4902, -0.6202,  0.6048]) ...\n",
      "##form       => tensor([ 0.8183, -0.3164,  0.7080,  0.1091,  0.4288]) ...\n",
      "##atics      => tensor([-0.6931,  0.2289, -0.1217, -0.1333,  0.9268]) ...\n",
      "[SEP]        => tensor([ 0.5202,  0.4708, -0.2214,  0.3710, -0.1043]) ...\n"
     ]
    }
   ],
   "source": [
    "model = BertModel.from_pretrained('bert-base-uncased')\n",
    "\n",
    "#Tokenizacja\n",
    "inputs = tokenizer(\"I have bear, please do not bear me. It is bioinformatics\", return_tensors=\"pt\") #pt -> wynikiem są tensory dla pytorch\n",
    "\n",
    "#Forward przez model (bez gradientów)\n",
    "with torch.no_grad():\n",
    "    outputs = model(**inputs)\n",
    "\n",
    "#Weź embeddingi z ostatniej warstwy\n",
    "embeddings = outputs.last_hidden_state  # shape: [1, seq_len, 768]\n",
    "\n",
    "#Zamiana ID na tokeny\n",
    "tokens = tokenizer.convert_ids_to_tokens(inputs[\"input_ids\"][0])\n",
    "\n",
    "#Wypisz tokeny i embeddingi, CLS = poczatek, SEP = separator/koniecS\n",
    "for token, embedding in zip(tokens, embeddings[0]):\n",
    "    print(f\"{token:12} => {embedding[:5]} ...\")  # pokazuje tylko pierwsze 5 liczb"
   ]
  }
 ],
 "metadata": {
  "kernelspec": {
   "display_name": "Python 3 (ipykernel)",
   "language": "python",
   "name": "python3"
  },
  "language_info": {
   "codemirror_mode": {
    "name": "ipython",
    "version": 3
   },
   "file_extension": ".py",
   "mimetype": "text/x-python",
   "name": "python",
   "nbconvert_exporter": "python",
   "pygments_lexer": "ipython3",
   "version": "3.11.5"
  }
 },
 "nbformat": 4,
 "nbformat_minor": 4
}
