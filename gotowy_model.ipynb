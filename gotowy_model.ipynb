{
 "cells": [
  {
   "cell_type": "code",
   "execution_count": 1,
   "id": "1d9ace97",
   "metadata": {},
   "outputs": [],
   "source": [
    "import torch.autograd as autograd\n",
    "import torch.optim as optim\n",
    "import torch.nn.functional as F\n",
    "import torch.nn as nn\n",
    "import torch\n",
    "import numpy as np"
   ]
  },
  {
   "cell_type": "code",
   "execution_count": 2,
   "id": "4a596fd5",
   "metadata": {},
   "outputs": [],
   "source": [
    "vocab = ['róż', 'mówiłeś', 'żona', 'a', 'nic', 'krzywe', 'parów', 'jadem', 'górze', 'kapocie', 'letni', 'wyobrażam', 'ptak', 'czy', 'nią', 'naręczem', 'są', 'ona', 'wieją', 'sześciokonnych', 'wykadzona', 'stoi', 'popołudnie', 'ten', 'grzyw', 'farbki', 'koni', 'szósty', 'oślepił', 'przeszłego', 'posadził', '-', 'hen', 'pałacu', '.', 'trupy', 'ci', 'twarzach', 'anioł', 'wiszą', 'moja', 'pamiętam', 'ręką', 'błędny', 'szczęście', 'groszków', 'dachu', 'głowami', 'kupiłeś', 'szatańskie', 'okno', 'stron', 'dusza', 'orszak', 'od', 'groszki', 'latają', 'biedna', '?\"', 'kilka', 'pragnął', 'bryce', 'obrzydłe', 'wsadzić', 'trzy', 'mało', 'ochlapać', 'sam', 'czas', 'tamtych', 'śmiałeś', 'kamienny', 'ponury', 'kwiaty', 'gwałt', 'linię', 'brykach', 'prosić', 'ujrzałam', 'światem', 'żal', 'mnie', 'kopytami', 'niż', 'choć', 'wytęskniony', 'gdy', 'trwogi', 'napoi', 'kopyta', 'zasadził', 'sercu', 'dnia', 'gęsiego', 'blask', 'żebrak', 'roku', 'sufitu', 'nieprzydatne', 'miało', 'ciebie', 'lambrekiny', 'niewiadomo', 'migają', 'dnie', 'twoim', 'was', 'życie', 'sklepiku', 'pełen', 'miny', 'pejzaż', 'widziałam', 'niebo', 'takie', 'zaczarowanych', 'uparcie', 'goły', 'tylko', 'wprost', 'słabe', ':', 'cię', 'wiatry', 'kwiecisto', 'łzą', 'powiązać', 'w', 'gwiazdkę', 'marchwi', 'wypłakał', 'bardzo', 'masz', 'wraz', 'ich', 'jako', 'obłoków', 'prawdziwe', 'kwiatom', 'lasów', 'toć', 'przedmieściach', 'pouciekały', 'zwierza', 'weselny', 'nieodmiennej', 'błyszczy', 'bosy', 'te', 'studnię', 'potwornie', 'pracę', 'kolorowo', 'dwa', 'dlaczego', 'siedziała', 'rude', 'spytałeś', 'czarne', 'twych', 'miłość', 'przyjedziesz', 'śpiewny', 'sosny', 'wielkiego', 'drgnęły', 'miasteczku', 'oczu', 'przez', 'razem', 'było', 'kulawe', 'każdej', 'węża', 'łzy', 'z', 'umarł', 'że', 'psy', 'i', 'pozatem', 'stracha', 'zakręcone', 'połapać', 'klatkach', 'znałam', 'końskie', 'dopisz', 'ty', 'rafaela', 'bruk', 'białoskrzydłe', 'guzików', 'swą', 'bram', 'pozie', 'milcząca', 'pański', 'pełnym', 'pierwszy', 'bryk', 'spojrzał', 'które', 'biały', 'cicho', 'marzeniach', 'zatruta', '!...', 'jedną', 'ją', 'szłam', 'własną', 'fotografia', 'szesnaście', 'zórz', 'dziewkom', 'postoju', 'jakby', 'zapłacze', 'nogi', 'obcy', 'ścisnęło', 'trzeci', 'cztery', 'coś', 'natchniona', 'oku', 'dębu', 'tułowia', 'łopocą', 'strony', 'modłę', 'wapnem', 'barw', 'śpi', 'powietrza', 'we', 'ucichło', 'więc', 'miesiąca', 'min', 'leonardach', 'zakręciło', 'cucąc', 'śmiejesz', 'me', 'po', 'bez', 'dziury', 'siedem', 'zdradzi', 'samochodem', 'nawet', 'koszem', 'romantyczny', 'śmierci', 'grajek', '....', 'trafia', 'nieba', 'całą', 'czarny', 'zostanie', 'pomyślana', 'ogrodnik', 'zawsze', 'taki', 'sine', 'okrągłych', 'wciąż', 'skrzydła', 'magnifikat', 'rebeka', 'anglezy', 'umyć', 'ściokonnych', 'wierny', 'maści', 'malw', '!', 'nad', 'ziemię', 'wystukuj', 'piosnkę', 'życiu', 'ma', 'oknem', 'patrzysz', 'jedno', 'piszesz', 'tkwi', 'sen', 'szóstka', 'cały', 'raz', 'kwitną', 'pod', 'snem', 'diabeł', 'nocy', 'ktoś', 'nich', 'przybył', 'nosów', 'zamyśleniu', 'jest', 'znalazł', 'produkuję', 'usta', 'jestem', 'piąty', 'fajerwerki', 'rynku', 'był', 'cud', 'mówiąc', 'pożar', 'drugi', 'wszystkie', 'mieście', 'widać', 'czarno', 'mym', 'mi', 'rycerz', 'więcej', 'rzewny', 'mam', 'smutnych', 'niebie', 'jego', 'jednej', 'przecież', 'jeden', 'wielce', 'aż', 'do', 'pysk', 'wzory', 'się', 'adieu', 'co', 'ognik', 'ach', 'doprawdy', 'przeklęte', 'zabierzesz', 'bledsza', 'odtąd', 'maszynie', 'ergo', 'całe', 'zbrodniarz', 'będzie', 'ale', 'dziecka', 'bryka', 'smutek', ',', 'niebem', 'biało', 'przysiąc', 'nie', 'czeka', 'dla', 'wiatr', 'padłam', 'jedna', 'biegną', 'można', 'pani', 'wszystko', 'przyszedł', 'murze', 'mgłę', 'stroją', 'żyć', 'wiesz', 'tak', 'ja', 'która', 'czterdzieści', 'strach', 'plącze', 'vis', 'trzeba', 'wiem', '...', 'róże', 'trwa', 'tysiąc', 'powtarzasz', 'trumna', 'drzewa', 'wróble', 'żonę', 'stukonny', 'o', 'kochasz', 'lin', 'skrycie', 'ogniach', 'strój', 'wyśnił', 'obrotach', 'cierniom', 'ukryciu', 'powoi', 'ciemny', 'serce', 'sinym', 'trochę', 'jak', 'wieki', 'wesoły', 'znajdzie', 'twe', 'leci', '?', 'mojej', 'malowana', 'pną', 'tym', 'szepnęło', 'głowie', 'pierza', 'czwarty', 'madonna', 'małym', 'wiotkich', 'tobą', 'tłum', 'przy', 'mały', 'inni', 'mitrężą', 'może', 'lecz', 'ciało', 'zaczarowany', 'nimi', 'ranków', 'gorejące', 'u', 'ogniste', 'on', 'nieraz', 'laurkowe', 'niedzielach', 'bardziej', 'mój', 'wszystkiego', 'wodogłowia', 'czerwone', 'by', 'każda', 's', 'tyś', 'urzeczony', 'słowo', 'zielone', 'powiedziałeś', 'anioły', 'oczy', 'ślepy', 'fraku', 'wyładzi', 'złoty', 'kiedy', 'cała', 'pęczki', 'ziemią', 'laur', 'odchylona', 'milczałaś', 'siodeł', 'stodoła', 'rzeźby', 'tego', 'one', 'bukietem', 'wsiadajcie', 'ruszył', 'krzyku', 'dzień', 'go', 'drzemią', 'za', 'madonny', 'już', 'ogromnie', 'pnące', 'kochał', 'tobie', 'boże', 'wymarzony', 'konie', 'stodoły', 'czternaścioro', 'byłeś', 'czyjeś', 'rąk', 'słów', 'drogi', 'wszak', '\"', 'uszu', 'krąg', 'siwych', 'na', 'białe', '\",', 'surduta', 'zdrowie', 'to', 'tam', 'urzec', 'sobie', 'drewniana', 'śpiąca', 'chłopcy', 'narzeczona', 'święcona']"
   ]
  },
  {
   "cell_type": "code",
   "execution_count": 3,
   "id": "f110de15",
   "metadata": {},
   "outputs": [],
   "source": [
    "word_to_ix = {'róż': 0, 'mówiłeś': 1, 'żona': 2, 'a': 3, 'nic': 4, 'krzywe': 5, 'parów': 6, 'jadem': 7, 'górze': 8, 'kapocie': 9, 'letni': 10, 'wyobrażam': 11, 'ptak': 12, 'czy': 13, 'nią': 14, 'naręczem': 15, 'są': 16, 'ona': 17, 'wieją': 18, 'sześciokonnych': 19, 'wykadzona': 20, 'stoi': 21, 'popołudnie': 22, 'ten': 23, 'grzyw': 24, 'farbki': 25, 'koni': 26, 'szósty': 27, 'oślepił': 28, 'przeszłego': 29, 'posadził': 30, '-': 31, 'hen': 32, 'pałacu': 33, '.': 34, 'trupy': 35, 'ci': 36, 'twarzach': 37, 'anioł': 38, 'wiszą': 39, 'moja': 40, 'pamiętam': 41, 'ręką': 42, 'błędny': 43, 'szczęście': 44, 'groszków': 45, 'dachu': 46, 'głowami': 47, 'kupiłeś': 48, 'szatańskie': 49, 'okno': 50, 'stron': 51, 'dusza': 52, 'orszak': 53, 'od': 54, 'groszki': 55, 'latają': 56, 'biedna': 57, '?\"': 58, 'kilka': 59, 'pragnął': 60, 'bryce': 61, 'obrzydłe': 62, 'wsadzić': 63, 'trzy': 64, 'mało': 65, 'ochlapać': 66, 'sam': 67, 'czas': 68, 'tamtych': 69, 'śmiałeś': 70, 'kamienny': 71, 'ponury': 72, 'kwiaty': 73, 'gwałt': 74, 'linię': 75, 'brykach': 76, 'prosić': 77, 'ujrzałam': 78, 'światem': 79, 'żal': 80, 'mnie': 81, 'kopytami': 82, 'niż': 83, 'choć': 84, 'wytęskniony': 85, 'gdy': 86, 'trwogi': 87, 'napoi': 88, 'kopyta': 89, 'zasadził': 90, 'sercu': 91, 'dnia': 92, 'gęsiego': 93, 'blask': 94, 'żebrak': 95, 'roku': 96, 'sufitu': 97, 'nieprzydatne': 98, 'miało': 99, 'ciebie': 100, 'lambrekiny': 101, 'niewiadomo': 102, 'migają': 103, 'dnie': 104, 'twoim': 105, 'was': 106, 'życie': 107, 'sklepiku': 108, 'pełen': 109, 'miny': 110, 'pejzaż': 111, 'widziałam': 112, 'niebo': 113, 'takie': 114, 'zaczarowanych': 115, 'uparcie': 116, 'goły': 117, 'tylko': 118, 'wprost': 119, 'słabe': 120, ':': 121, 'cię': 122, 'wiatry': 123, 'kwiecisto': 124, 'łzą': 125, 'powiązać': 126, 'w': 127, 'gwiazdkę': 128, 'marchwi': 129, 'wypłakał': 130, 'bardzo': 131, 'masz': 132, 'wraz': 133, 'ich': 134, 'jako': 135, 'obłoków': 136, 'prawdziwe': 137, 'kwiatom': 138, 'lasów': 139, 'toć': 140, 'przedmieściach': 141, 'pouciekały': 142, 'zwierza': 143, 'weselny': 144, 'nieodmiennej': 145, 'błyszczy': 146, 'bosy': 147, 'te': 148, 'studnię': 149, 'potwornie': 150, 'pracę': 151, 'kolorowo': 152, 'dwa': 153, 'dlaczego': 154, 'siedziała': 155, 'rude': 156, 'spytałeś': 157, 'czarne': 158, 'twych': 159, 'miłość': 160, 'przyjedziesz': 161, 'śpiewny': 162, 'sosny': 163, 'wielkiego': 164, 'drgnęły': 165, 'miasteczku': 166, 'oczu': 167, 'przez': 168, 'razem': 169, 'było': 170, 'kulawe': 171, 'każdej': 172, 'węża': 173, 'łzy': 174, 'z': 175, 'umarł': 176, 'że': 177, 'psy': 178, 'i': 179, 'pozatem': 180, 'stracha': 181, 'zakręcone': 182, 'połapać': 183, 'klatkach': 184, 'znałam': 185, 'końskie': 186, 'dopisz': 187, 'ty': 188, 'rafaela': 189, 'bruk': 190, 'białoskrzydłe': 191, 'guzików': 192, 'swą': 193, 'bram': 194, 'pozie': 195, 'milcząca': 196, 'pański': 197, 'pełnym': 198, 'pierwszy': 199, 'bryk': 200, 'spojrzał': 201, 'które': 202, 'biały': 203, 'cicho': 204, 'marzeniach': 205, 'zatruta': 206, '!...': 207, 'jedną': 208, 'ją': 209, 'szłam': 210, 'własną': 211, 'fotografia': 212, 'szesnaście': 213, 'zórz': 214, 'dziewkom': 215, 'postoju': 216, 'jakby': 217, 'zapłacze': 218, 'nogi': 219, 'obcy': 220, 'ścisnęło': 221, 'trzeci': 222, 'cztery': 223, 'coś': 224, 'natchniona': 225, 'oku': 226, 'dębu': 227, 'tułowia': 228, 'łopocą': 229, 'strony': 230, 'modłę': 231, 'wapnem': 232, 'barw': 233, 'śpi': 234, 'powietrza': 235, 'we': 236, 'ucichło': 237, 'więc': 238, 'miesiąca': 239, 'min': 240, 'leonardach': 241, 'zakręciło': 242, 'cucąc': 243, 'śmiejesz': 244, 'me': 245, 'po': 246, 'bez': 247, 'dziury': 248, 'siedem': 249, 'zdradzi': 250, 'samochodem': 251, 'nawet': 252, 'koszem': 253, 'romantyczny': 254, 'śmierci': 255, 'grajek': 256, '....': 257, 'trafia': 258, 'nieba': 259, 'całą': 260, 'czarny': 261, 'zostanie': 262, 'pomyślana': 263, 'ogrodnik': 264, 'zawsze': 265, 'taki': 266, 'sine': 267, 'okrągłych': 268, 'wciąż': 269, 'skrzydła': 270, 'magnifikat': 271, 'rebeka': 272, 'anglezy': 273, 'umyć': 274, 'ściokonnych': 275, 'wierny': 276, 'maści': 277, 'malw': 278, '!': 279, 'nad': 280, 'ziemię': 281, 'wystukuj': 282, 'piosnkę': 283, 'życiu': 284, 'ma': 285, 'oknem': 286, 'patrzysz': 287, 'jedno': 288, 'piszesz': 289, 'tkwi': 290, 'sen': 291, 'szóstka': 292, 'cały': 293, 'raz': 294, 'kwitną': 295, 'pod': 296, 'snem': 297, 'diabeł': 298, 'nocy': 299, 'ktoś': 300, 'nich': 301, 'przybył': 302, 'nosów': 303, 'zamyśleniu': 304, 'jest': 305, 'znalazł': 306, 'produkuję': 307, 'usta': 308, 'jestem': 309, 'piąty': 310, 'fajerwerki': 311, 'rynku': 312, 'był': 313, 'cud': 314, 'mówiąc': 315, 'pożar': 316, 'drugi': 317, 'wszystkie': 318, 'mieście': 319, 'widać': 320, 'czarno': 321, 'mym': 322, 'mi': 323, 'rycerz': 324, 'więcej': 325, 'rzewny': 326, 'mam': 327, 'smutnych': 328, 'niebie': 329, 'jego': 330, 'jednej': 331, 'przecież': 332, 'jeden': 333, 'wielce': 334, 'aż': 335, 'do': 336, 'pysk': 337, 'wzory': 338, 'się': 339, 'adieu': 340, 'co': 341, 'ognik': 342, 'ach': 343, 'doprawdy': 344, 'przeklęte': 345, 'zabierzesz': 346, 'bledsza': 347, 'odtąd': 348, 'maszynie': 349, 'ergo': 350, 'całe': 351, 'zbrodniarz': 352, 'będzie': 353, 'ale': 354, 'dziecka': 355, 'bryka': 356, 'smutek': 357, ',': 358, 'niebem': 359, 'biało': 360, 'przysiąc': 361, 'nie': 362, 'czeka': 363, 'dla': 364, 'wiatr': 365, 'padłam': 366, 'jedna': 367, 'biegną': 368, 'można': 369, 'pani': 370, 'wszystko': 371, 'przyszedł': 372, 'murze': 373, 'mgłę': 374, 'stroją': 375, 'żyć': 376, 'wiesz': 377, 'tak': 378, 'ja': 379, 'która': 380, 'czterdzieści': 381, 'strach': 382, 'plącze': 383, 'vis': 384, 'trzeba': 385, 'wiem': 386, '...': 387, 'róże': 388, 'trwa': 389, 'tysiąc': 390, 'powtarzasz': 391, 'trumna': 392, 'drzewa': 393, 'wróble': 394, 'żonę': 395, 'stukonny': 396, 'o': 397, 'kochasz': 398, 'lin': 399, 'skrycie': 400, 'ogniach': 401, 'strój': 402, 'wyśnił': 403, 'obrotach': 404, 'cierniom': 405, 'ukryciu': 406, 'powoi': 407, 'ciemny': 408, 'serce': 409, 'sinym': 410, 'trochę': 411, 'jak': 412, 'wieki': 413, 'wesoły': 414, 'znajdzie': 415, 'twe': 416, 'leci': 417, '?': 418, 'mojej': 419, 'malowana': 420, 'pną': 421, 'tym': 422, 'szepnęło': 423, 'głowie': 424, 'pierza': 425, 'czwarty': 426, 'madonna': 427, 'małym': 428, 'wiotkich': 429, 'tobą': 430, 'tłum': 431, 'przy': 432, 'mały': 433, 'inni': 434, 'mitrężą': 435, 'może': 436, 'lecz': 437, 'ciało': 438, 'zaczarowany': 439, 'nimi': 440, 'ranków': 441, 'gorejące': 442, 'u': 443, 'ogniste': 444, 'on': 445, 'nieraz': 446, 'laurkowe': 447, 'niedzielach': 448, 'bardziej': 449, 'mój': 450, 'wszystkiego': 451, 'wodogłowia': 452, 'czerwone': 453, 'by': 454, 'każda': 455, 's': 456, 'tyś': 457, 'urzeczony': 458, 'słowo': 459, 'zielone': 460, 'powiedziałeś': 461, 'anioły': 462, 'oczy': 463, 'ślepy': 464, 'fraku': 465, 'wyładzi': 466, 'złoty': 467, 'kiedy': 468, 'cała': 469, 'pęczki': 470, 'ziemią': 471, 'laur': 472, 'odchylona': 473, 'milczałaś': 474, 'siodeł': 475, 'stodoła': 476, 'rzeźby': 477, 'tego': 478, 'one': 479, 'bukietem': 480, 'wsiadajcie': 481, 'ruszył': 482, 'krzyku': 483, 'dzień': 484, 'go': 485, 'drzemią': 486, 'za': 487, 'madonny': 488, 'już': 489, 'ogromnie': 490, 'pnące': 491, 'kochał': 492, 'tobie': 493, 'boże': 494, 'wymarzony': 495, 'konie': 496, 'stodoły': 497, 'czternaścioro': 498, 'byłeś': 499, 'czyjeś': 500, 'rąk': 501, 'słów': 502, 'drogi': 503, 'wszak': 504, '\"': 505, 'uszu': 506, 'krąg': 507, 'siwych': 508, 'na': 509, 'białe': 510, '\",': 511, 'surduta': 512, 'zdrowie': 513, 'to': 514, 'tam': 515, 'urzec': 516, 'sobie': 517, 'drewniana': 518, 'śpiąca': 519, 'chłopcy': 520, 'narzeczona': 521, 'święcona': 522}"
   ]
  },
  {
   "cell_type": "code",
   "execution_count": 4,
   "id": "30727730",
   "metadata": {},
   "outputs": [],
   "source": [
    "class NGramModel(nn.Module):\n",
    "\n",
    "    def __init__(self, vocab_size, embedding_dim, context_size):\n",
    "        super().__init__()\n",
    "        self.embeddings = nn.Embedding(vocab_size, embedding_dim)  #slowa na embeddingi\n",
    "        self.linear1 = nn.Linear(context_size*embedding_dim, HD) #pierwsze przeksztalcenie liniowe\n",
    "        self.linear2 = nn.Linear(HD, vocab_size)  #drugie przeksztalcenie liniowe\n",
    "\n",
    "    def forward(self, inputs):\n",
    "        embeds = self.embeddings(inputs).view((1, -1)) #embeddingi\n",
    "        out = F.relu(self.linear1(embeds))  #dzialam funkcją aktywacji ReLu na wynik po pierwszym przeksztalceniu liniowym\n",
    "        out = self.linear2(out)             #przeksztalcam liniowo poprzednie wartosci\n",
    "        log_probs = F.log_softmax(out, dim=1) #na koniec wyznaczam logarytmy prawdopodobienstw\n",
    "        return log_probs"
   ]
  },
  {
   "cell_type": "code",
   "execution_count": 5,
   "id": "55a20eee",
   "metadata": {},
   "outputs": [],
   "source": [
    "model  = torch.load('model_ewa')"
   ]
  },
  {
   "cell_type": "code",
   "execution_count": 12,
   "id": "973d1e6f",
   "metadata": {},
   "outputs": [
    {
     "name": "stdout",
     "output_type": "stream",
     "text": [
      "moja stodoła jest cała drewniana na cztery strony jest pomyślana na czarno - biało jest malowana a cała święcona i wykadzona tam produkuję te czarne anioły jeden we fraku a drugi goły trzeci ponury czwarty wesoły piąty jak trumna a szósty umarł\n"
     ]
    }
   ],
   "source": [
    "i = 0 \n",
    "context = ['moja', 'stodoła', 'jest'] \n",
    "s = \" \".join(context)\n",
    "while (i<39):\n",
    "    with torch.no_grad():\n",
    "        context_idxs = torch.tensor([word_to_ix[w] for w in context], dtype=torch.long) #zapisuje w odpowiednim formacie te dane\n",
    "        pred = model(context_idxs) #co pokazuje model?\n",
    "        index_of_prediction = np.argmax(pred)  #wyznaczam ten indeks gdzie jest największa wartosc\n",
    "        context = context[1:]+[vocab[index_of_prediction]]\n",
    "        s = s+\" \"+vocab[index_of_prediction]\n",
    "        i+=1\n",
    "print(s)"
   ]
  },
  {
   "cell_type": "code",
   "execution_count": 13,
   "id": "e4002ae5",
   "metadata": {},
   "outputs": [
    {
     "name": "stdout",
     "output_type": "stream",
     "text": [
      "masz takie oczy zielone zielone jak letni wiatr zaczarowanych lasów i zaczarowanych malw dla ciebie mały ogrodnik zasadził groszków tysiąc w kapocie stracha na wróble pragnął ci miłość przysiąc . więc z koszem groszków mały strach pierwszy raz spojrzał ci w oczy o tysiąc więcej znalazł barw niż wyśnił sobie w nocy i odtąd pod oknem twoim zaczarowany kamienny z bukietem groszków stoi strach romantyczny wierny . masz takie usta czerwone czerwone jak pożar zórz zaczarowanych ranków i zaczarowanych róż dla ciebie mały ogrodnik zasadził groszków tysiąc w kapocie stracha na wróble pragnął ci miłość przysiąc . więc z koszem groszków mały strach\n"
     ]
    }
   ],
   "source": [
    "i = 0 \n",
    "context = ['masz', 'takie', 'oczy'] \n",
    "s = \" \".join(context)\n",
    "while (i<100):\n",
    "    with torch.no_grad():\n",
    "        context_idxs = torch.tensor([word_to_ix[w] for w in context], dtype=torch.long) #zapisuje w odpowiednim formacie te dane\n",
    "        pred = model(context_idxs) #co pokazuje model?\n",
    "        index_of_prediction = np.argmax(pred)  #wyznaczam ten indeks gdzie jest największa wartosc\n",
    "        context = context[1:]+[vocab[index_of_prediction]]\n",
    "        s = s+\" \"+vocab[index_of_prediction]\n",
    "        i+=1\n",
    "print(s)"
   ]
  },
  {
   "cell_type": "code",
   "execution_count": 14,
   "id": "b52e3093",
   "metadata": {},
   "outputs": [
    {
     "name": "stdout",
     "output_type": "stream",
     "text": [
      "masz oczy masz madonny , madonny do bryk sześciokonnych , ... ściokonnych ! konie wiszą kopytami nad ziemią , one w brykach na postoju już drzemią . każda bryka malowana w trzy ogniste farbki , i trzy końskie maści , i trzy końskie maści , i trzy końskie maści , i trzy końskie maści , i trzy końskie maści , i trzy końskie maści , i trzy końskie maści , i trzy końskie maści , i trzy końskie maści , i trzy końskie maści , i trzy końskie maści , i trzy końskie maści , i trzy końskie maści , i trzy końskie\n"
     ]
    }
   ],
   "source": [
    "i = 0 \n",
    "context = ['masz', 'oczy', 'masz'] #takiego czegos nie bylo w danych, co model na to?\n",
    "s = \" \".join(context)\n",
    "while (i<100):\n",
    "    with torch.no_grad():\n",
    "        context_idxs = torch.tensor([word_to_ix[w] for w in context], dtype=torch.long) #zapisuje w odpowiednim formacie te dane\n",
    "        pred = model(context_idxs) #co pokazuje model?\n",
    "        index_of_prediction = np.argmax(pred)  #wyznaczam ten indeks gdzie jest największa wartosc\n",
    "        context = context[1:]+[vocab[index_of_prediction]]\n",
    "        s = s+\" \"+vocab[index_of_prediction]\n",
    "        i+=1\n",
    "print(s)"
   ]
  },
  {
   "cell_type": "code",
   "execution_count": 15,
   "id": "90e2c180",
   "metadata": {},
   "outputs": [
    {
     "name": "stdout",
     "output_type": "stream",
     "text": [
      "po marzeniach trupy biegną taki pejzaż taki pejzaż taki pejzaż taki pejzaż taki pejzaż taki pejzaż taki pejzaż taki pejzaż taki pejzaż taki pejzaż taki pejzaż taki pejzaż taki pejzaż taki pejzaż taki pejzaż taki pejzaż taki pejzaż taki pejzaż taki pejzaż taki pejzaż taki pejzaż taki pejzaż taki pejzaż taki pejzaż taki pejzaż taki pejzaż taki pejzaż taki pejzaż taki pejzaż taki pejzaż taki pejzaż taki pejzaż taki pejzaż taki pejzaż taki pejzaż taki pejzaż taki pejzaż taki pejzaż taki pejzaż taki pejzaż taki pejzaż taki pejzaż taki pejzaż taki pejzaż taki pejzaż taki pejzaż taki pejzaż taki pejzaż taki pejzaż taki\n"
     ]
    }
   ],
   "source": [
    "i = 0 \n",
    "context = ['po', 'marzeniach', 'trupy'] \n",
    "s = \" \".join(context)\n",
    "while (i<100):\n",
    "    with torch.no_grad():\n",
    "        context_idxs = torch.tensor([word_to_ix[w] for w in context], dtype=torch.long) #zapisuje w odpowiednim formacie te dane\n",
    "        pred = model(context_idxs) #co pokazuje model?\n",
    "        index_of_prediction = np.argmax(pred)  #wyznaczam ten indeks gdzie jest największa wartosc\n",
    "        context = context[1:]+[vocab[index_of_prediction]]\n",
    "        s = s+\" \"+vocab[index_of_prediction]\n",
    "        i+=1\n",
    "print(s)"
   ]
  }
 ],
 "metadata": {
  "kernelspec": {
   "display_name": "Python 3 (ipykernel)",
   "language": "python",
   "name": "python3"
  },
  "language_info": {
   "codemirror_mode": {
    "name": "ipython",
    "version": 3
   },
   "file_extension": ".py",
   "mimetype": "text/x-python",
   "name": "python",
   "nbconvert_exporter": "python",
   "pygments_lexer": "ipython3",
   "version": "3.11.5"
  }
 },
 "nbformat": 4,
 "nbformat_minor": 5
}
