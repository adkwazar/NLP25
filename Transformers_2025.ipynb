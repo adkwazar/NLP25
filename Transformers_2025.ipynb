{
 "cells": [
  {
   "cell_type": "markdown",
   "id": "c09429f3",
   "metadata": {},
   "source": [
    "<h3> Transformers"
   ]
  },
  {
   "cell_type": "code",
   "execution_count": 1,
   "id": "fb47741c",
   "metadata": {},
   "outputs": [],
   "source": [
    "from transformers import pipeline"
   ]
  },
  {
   "cell_type": "markdown",
   "id": "a5122f88",
   "metadata": {},
   "source": [
    "Tutaj są różne modele (i dane): https://huggingface.co/models "
   ]
  },
  {
   "cell_type": "markdown",
   "id": "097748c4",
   "metadata": {},
   "source": [
    "<h4> Analiza wydźwięku (sentymentalna)"
   ]
  },
  {
   "cell_type": "code",
   "execution_count": 2,
   "id": "373f09fe",
   "metadata": {},
   "outputs": [],
   "source": [
    "dokumenty = [\n",
    "    \"Słaby był ten film\", \n",
    "    \"such a great film\", \n",
    "    \":(\", \n",
    "    \"I like this product but I won't buy it again\", \n",
    "    \"film był taki świetny, że już nigdy nie chcę go zobaczyć\"\n",
    "]"
   ]
  },
  {
   "cell_type": "markdown",
   "id": "32815160",
   "metadata": {},
   "source": [
    "Model ocenia w skali od 1 do 5 pozytywność zdania :) \n",
    "\n",
    "- 1 (zdecydowanie negatywna), \n",
    "\n",
    "- 5 (zdecydowanie pozytywna)."
   ]
  },
  {
   "cell_type": "code",
   "execution_count": 3,
   "id": "e4cd8b55",
   "metadata": {},
   "outputs": [],
   "source": [
    "sent_klasyfikator = pipeline(\"sentiment-analysis\", model=\"nlptown/bert-base-multilingual-uncased-sentiment\") #zajmuje 648 M"
   ]
  },
  {
   "cell_type": "code",
   "execution_count": 4,
   "id": "38787e05",
   "metadata": {},
   "outputs": [
    {
     "data": {
      "text/plain": [
       "[{'label': '2 stars', 'score': 0.38626912236213684},\n",
       " {'label': '5 stars', 'score': 0.8855443000793457},\n",
       " {'label': '3 stars', 'score': 0.24814490973949432},\n",
       " {'label': '3 stars', 'score': 0.5084364414215088},\n",
       " {'label': '5 stars', 'score': 0.5227358937263489}]"
      ]
     },
     "execution_count": 4,
     "metadata": {},
     "output_type": "execute_result"
    }
   ],
   "source": [
    "sent_klasyfikator(dokumenty) #z 5 dokumentem jest problem :)"
   ]
  },
  {
   "cell_type": "markdown",
   "id": "a62c3afd",
   "metadata": {},
   "source": [
    "Mozna tez dluższe recenzje, jednak do 512 tokenów"
   ]
  },
  {
   "cell_type": "code",
   "execution_count": 5,
   "id": "be6c6f18",
   "metadata": {},
   "outputs": [
    {
     "data": {
      "text/plain": [
       "[{'label': '1 star', 'score': 0.5370094180107117}]"
      ]
     },
     "execution_count": 5,
     "metadata": {},
     "output_type": "execute_result"
    }
   ],
   "source": [
    "sent_klasyfikator(\"Też się zastanawiam skąd takie zachwyty. Horror z tego żaden. Oryginalności właściwie zero. Większość to klisze i schematy gatunku. Z wplecionym humorem. I jasne, reżyseria jest ok. Aktorsko również w porządku. Ale jako horror to słabo.\")"
   ]
  },
  {
   "cell_type": "code",
   "execution_count": 6,
   "id": "a3bbcac6",
   "metadata": {},
   "outputs": [
    {
     "data": {
      "text/plain": [
       "[{'label': '4 stars', 'score': 0.5215557813644409}]"
      ]
     },
     "execution_count": 6,
     "metadata": {},
     "output_type": "execute_result"
    }
   ],
   "source": [
    "sent_klasyfikator(\"Ciekawa fabuła,dobre efekty,klimat,świetna gra aktorska.Jestem bardzo pozytywnie zaskoczony ze film jest tak dobry.Oby kolejne czesci utrzymały tak wysoki poziom.\")"
   ]
  },
  {
   "cell_type": "markdown",
   "id": "3db3c760",
   "metadata": {},
   "source": [
    "<h4> Generowanie podsumowań"
   ]
  },
  {
   "cell_type": "code",
   "execution_count": 7,
   "id": "3e05847e",
   "metadata": {},
   "outputs": [],
   "source": [
    "tekst = (\"\"\"Bioinformatics is an interdisciplinary field that develops methods and software tools\n",
    "for understanding biological data, in particular when the data sets are large and complex.\n",
    "As an interdisciplinary field of science, bioinformatics combines biology, chemistry, physics,\n",
    "computer science, information engineering, mathematics and statistics to analyze and interpret\n",
    "the biological data. Bioinformatics has been used for in silico analyses of biological queries\n",
    "using mathematical and statistical techniques. Bioinformatics includes biological studies that\n",
    "use computer programming as part of their methodology, as well as specific analysis \"pipelines\"\n",
    "that are repeatedly used, particularly in the field of genomics. Common uses of bioinformatics\n",
    "include the identification of candidates genes and single nucleotide polymorphisms (SNPs). Often,\n",
    "such identification is made with the aim to better understand the genetic basis of disease, unique\n",
    "adaptations, desirable properties (esp. in agricultural species), or differences between populations.\n",
    "In a less formal way, bioinformatics also tries to understand the organizational principles within\n",
    "nucleic acid and protein sequences, called proteomics.\n",
    "\"\"\")"
   ]
  },
  {
   "cell_type": "code",
   "execution_count": 8,
   "id": "1689620d",
   "metadata": {},
   "outputs": [],
   "source": [
    "podsumowanie = pipeline(\"summarization\", model=\"sshleifer/distilbart-cnn-12-6\") #ponad 1G"
   ]
  },
  {
   "cell_type": "code",
   "execution_count": 9,
   "id": "e2082f30",
   "metadata": {},
   "outputs": [
    {
     "data": {
      "text/plain": [
       "[{'summary_text': ' Bioinformatics combines biology, chemistry, physics, computer science, mathematics and statistics to analyze and interpret biological data . Common uses include identification of candidates genes and single nucleotide polymorphisms (SNPs)'}]"
      ]
     },
     "execution_count": 9,
     "metadata": {},
     "output_type": "execute_result"
    }
   ],
   "source": [
    "podsumowanie(tekst, min_length=10, max_length=50)"
   ]
  },
  {
   "cell_type": "markdown",
   "id": "4da15fe1",
   "metadata": {},
   "source": [
    "<h4> Generowanie tekstu"
   ]
  },
  {
   "cell_type": "code",
   "execution_count": 10,
   "id": "842556de",
   "metadata": {},
   "outputs": [],
   "source": [
    "tekst = \"It was a dark night.\""
   ]
  },
  {
   "cell_type": "code",
   "execution_count": 11,
   "id": "fec54d80",
   "metadata": {},
   "outputs": [],
   "source": [
    "generator = pipeline(\"text-generation\", model=\"gpt2\") #zajmuje ponad 523 M"
   ]
  },
  {
   "cell_type": "code",
   "execution_count": 12,
   "id": "969d5e14",
   "metadata": {},
   "outputs": [
    {
     "name": "stderr",
     "output_type": "stream",
     "text": [
      "Setting `pad_token_id` to `eos_token_id`:50256 for open-end generation.\n"
     ]
    },
    {
     "data": {
      "text/plain": [
       "[{'generated_text': 'It was a dark night. I felt like I had taken on a world of its own.\\n\\nIn that moment, even though we were all in denial about where we were heading — but then the truth dawned that it was indeed not really'}]"
      ]
     },
     "execution_count": 12,
     "metadata": {},
     "output_type": "execute_result"
    }
   ],
   "source": [
    "generator(tekst, max_length=50)"
   ]
  },
  {
   "cell_type": "code",
   "execution_count": 13,
   "id": "a5d9ef39",
   "metadata": {},
   "outputs": [
    {
     "name": "stderr",
     "output_type": "stream",
     "text": [
      "Setting `pad_token_id` to `eos_token_id`:50256 for open-end generation.\n"
     ]
    },
    {
     "data": {
      "text/plain": [
       "[{'generated_text': 'It was a dark night. It was like Christmas. I didn\\'t think I\\'d see anybody anymore.\" \"It\\'s never right to leave that place. That\\'s not how you want to live any longer. I\\'m doing okay. But you want to live a longer life because you\\'re out of a job.\" \"No. I\\'ve never done anything like this. I\\'m lucky. And I\\'m happy. I\\'m happy to be leaving. If I did, I would have left. And'},\n",
       " {'generated_text': 'It was a dark night. Some were not quite so lucky. It must have been the brightest of them all, even a few hundred miles from their home.\\n\\nOne by one, those who were able to watch the clouds, came together to help out. The light of the sun rose, and when its golden rays were dispersed, a great crowd arose, and soon some, all gathered to watch. The sun, after giving her the opportunity of watching the clouds from the side of the road'},\n",
       " {'generated_text': \"It was a dark night. The walls of the chamber were strewn with all kinds of smoke; I had heard it before, but I couldn't quite imagine it all.\\n\\nI didn't know how many people had died. Who were they, I wondered as a person. How many dead people had died before the war? What was their race, then? What was their religion? If I could answer those questions, we might learn a lot about the soldiers of our empire, what kind\"},\n",
       " {'generated_text': \"It was a dark night. I still remember that the sun. It was so dark—my eyes locked perfectly on the sky. That moment was like a big flash. The dawn started to rise over us. I pulled onto my back and leaned into the tree. I had to climb up high. My muscles were tight. I pulled my legs towards my feet. At the same time, I held myself steady, because I had to. I didn't want people to come in, let's say\"},\n",
       " {'generated_text': 'It was a dark night. We saw the red-hot smoke of the plane coming between us and the wreckage of the plane. It was hard to make out what was on the aircraft. There were two other aircraft on their side before we saw any wreckage.\\n\\nThere was an area on the first deck where we heard smoke coming from inside. The airlock door was opened which brought fire. They got two people trapped in the car and two men jumped out of the car. The driver was'}]"
      ]
     },
     "execution_count": 13,
     "metadata": {},
     "output_type": "execute_result"
    }
   ],
   "source": [
    "generator(tekst, max_length=100, num_return_sequences=5)"
   ]
  },
  {
   "cell_type": "markdown",
   "id": "bd167501",
   "metadata": {},
   "source": [
    "<h4> Konwersacje"
   ]
  },
  {
   "cell_type": "code",
   "execution_count": 14,
   "id": "79f6ded9",
   "metadata": {},
   "outputs": [],
   "source": [
    "from transformers import Conversation"
   ]
  },
  {
   "cell_type": "code",
   "execution_count": 15,
   "id": "71c618bb",
   "metadata": {},
   "outputs": [],
   "source": [
    "konwersator = pipeline(\"conversational\", model=\"microsoft/DialoGPT-medium\") #zajmuje ok 1G"
   ]
  },
  {
   "cell_type": "code",
   "execution_count": 18,
   "id": "15b3a312",
   "metadata": {},
   "outputs": [],
   "source": [
    "konwersacja = Conversation(\"I would like to watch a nice horror. Do you recommend something?\") #nie podaje tego jako zwykly tekst, tylko obiekt typu Conversation bo chce zeby byla pamietana cala historia"
   ]
  },
  {
   "cell_type": "code",
   "execution_count": 19,
   "id": "c6b55e28",
   "metadata": {},
   "outputs": [
    {
     "name": "stderr",
     "output_type": "stream",
     "text": [
      "Setting `pad_token_id` to `eos_token_id`:50256 for open-end generation.\n"
     ]
    },
    {
     "data": {
      "text/plain": [
       "Conversation id: ff11c22c-3b5d-4638-ad9f-80a20af7e46d \n",
       "user >> I would like to watch a nice horror. Do you recommend something? \n",
       "bot >> I recommend the movie The Ring. "
      ]
     },
     "execution_count": 19,
     "metadata": {},
     "output_type": "execute_result"
    }
   ],
   "source": [
    "konwersator(konwersacja)"
   ]
  },
  {
   "cell_type": "code",
   "execution_count": 20,
   "id": "8850c062",
   "metadata": {},
   "outputs": [],
   "source": [
    "konwersacja.add_user_input(\"Great! Have you seen that film?\")"
   ]
  },
  {
   "cell_type": "code",
   "execution_count": 21,
   "id": "606ffca7",
   "metadata": {},
   "outputs": [
    {
     "name": "stderr",
     "output_type": "stream",
     "text": [
      "Setting `pad_token_id` to `eos_token_id`:50256 for open-end generation.\n"
     ]
    },
    {
     "data": {
      "text/plain": [
       "Conversation id: ff11c22c-3b5d-4638-ad9f-80a20af7e46d \n",
       "user >> I would like to watch a nice horror. Do you recommend something? \n",
       "bot >> I recommend the movie The Ring. \n",
       "user >> Great! Have you seen that film? \n",
       "bot >> I have not. "
      ]
     },
     "execution_count": 21,
     "metadata": {},
     "output_type": "execute_result"
    }
   ],
   "source": [
    "konwersator(konwersacja)"
   ]
  },
  {
   "cell_type": "markdown",
   "id": "a97313d8",
   "metadata": {},
   "source": [
    "<h4> Wypełnianie luki w tekście"
   ]
  },
  {
   "cell_type": "code",
   "execution_count": 33,
   "id": "5f90fda6",
   "metadata": {},
   "outputs": [
    {
     "name": "stderr",
     "output_type": "stream",
     "text": [
      "Some weights of the model checkpoint at bert-base-uncased were not used when initializing BertForMaskedLM: ['cls.seq_relationship.bias', 'cls.seq_relationship.weight']\n",
      "- This IS expected if you are initializing BertForMaskedLM from the checkpoint of a model trained on another task or with another architecture (e.g. initializing a BertForSequenceClassification model from a BertForPreTraining model).\n",
      "- This IS NOT expected if you are initializing BertForMaskedLM from the checkpoint of a model that you expect to be exactly identical (initializing a BertForSequenceClassification model from a BertForSequenceClassification model).\n"
     ]
    }
   ],
   "source": [
    "luka = pipeline(\"fill-mask\", model=\"bert-base-uncased\") #ok 0.5G"
   ]
  },
  {
   "cell_type": "code",
   "execution_count": 23,
   "id": "24d127a5",
   "metadata": {},
   "outputs": [
    {
     "data": {
      "text/plain": [
       "[{'sequence': 'hello, how are you',\n",
       "  'score': 0.9426403045654297,\n",
       "  'token': 2024,\n",
       "  'token_str': 'are'},\n",
       " {'sequence': 'hello, how about you',\n",
       "  'score': 0.021644026041030884,\n",
       "  'token': 2055,\n",
       "  'token_str': 'about'},\n",
       " {'sequence': 'hello, how could you',\n",
       "  'score': 0.011218828149139881,\n",
       "  'token': 2071,\n",
       "  'token_str': 'could'},\n",
       " {'sequence': 'hello, how can you',\n",
       "  'score': 0.0096061360090971,\n",
       "  'token': 2064,\n",
       "  'token_str': 'can'},\n",
       " {'sequence': 'hello, how may you',\n",
       "  'score': 0.0027918575797230005,\n",
       "  'token': 2089,\n",
       "  'token_str': 'may'}]"
      ]
     },
     "execution_count": 23,
     "metadata": {},
     "output_type": "execute_result"
    }
   ],
   "source": [
    "luka(f\"Hello, how {luka.tokenizer.mask_token} you\")      "
   ]
  },
  {
   "cell_type": "code",
   "execution_count": 24,
   "id": "f3a255f8",
   "metadata": {},
   "outputs": [
    {
     "data": {
      "text/plain": [
       "[{'sequence': 'bioinformatics is a science',\n",
       "  'score': 0.6050498485565186,\n",
       "  'token': 1037,\n",
       "  'token_str': 'a'},\n",
       " {'sequence': 'bioinformatics is computer science',\n",
       "  'score': 0.22969503700733185,\n",
       "  'token': 3274,\n",
       "  'token_str': 'computer'},\n",
       " {'sequence': 'bioinformatics is information science',\n",
       "  'score': 0.02828025259077549,\n",
       "  'token': 2592,\n",
       "  'token_str': 'information'},\n",
       " {'sequence': 'bioinformatics is life science',\n",
       "  'score': 0.02481093257665634,\n",
       "  'token': 2166,\n",
       "  'token_str': 'life'},\n",
       " {'sequence': 'bioinformatics is the science',\n",
       "  'score': 0.009441596455872059,\n",
       "  'token': 1996,\n",
       "  'token_str': 'the'}]"
      ]
     },
     "execution_count": 24,
     "metadata": {},
     "output_type": "execute_result"
    }
   ],
   "source": [
    " luka(f\"Bioinformatics is {luka.tokenizer.mask_token} science\")"
   ]
  },
  {
   "cell_type": "markdown",
   "id": "e2afd671",
   "metadata": {},
   "source": [
    "<h4> Odpowiadanie na pytania"
   ]
  },
  {
   "cell_type": "code",
   "execution_count": 25,
   "id": "6845f88a",
   "metadata": {},
   "outputs": [],
   "source": [
    "odp = pipeline(\"question-answering\", model=\"bert-large-uncased-whole-word-masking-finetuned-squad\") #1.25G"
   ]
  },
  {
   "cell_type": "markdown",
   "id": "778e2788",
   "metadata": {},
   "source": [
    "Przykład 1"
   ]
  },
  {
   "cell_type": "code",
   "execution_count": 26,
   "id": "17f17006",
   "metadata": {},
   "outputs": [
    {
     "data": {
      "text/plain": [
       "{'score': 0.3967142105102539,\n",
       " 'start': 42,\n",
       " 'end': 96,\n",
       " 'answer': \"'For every action there is equal and opposite reaction\"}"
      ]
     },
     "execution_count": 26,
     "metadata": {},
     "output_type": "execute_result"
    }
   ],
   "source": [
    "odp({\n",
    "    \"question\": \"What is Newton's third law of motion?\",\n",
    "    \"context\": \"Newton's third law of motion states that, 'For every action there is equal and opposite reaction'\"})"
   ]
  },
  {
   "cell_type": "markdown",
   "id": "6600384e",
   "metadata": {},
   "source": [
    "Przykład 2"
   ]
  },
  {
   "cell_type": "code",
   "execution_count": 27,
   "id": "a1f099e6",
   "metadata": {},
   "outputs": [],
   "source": [
    "kontekst = (\n",
    "    \"The Lord of the Rings is an epic high fantasy novel by the English author and scholar J. R. R. Tolkien. Set in \"\n",
    "    \"Middle-earth, the world at some distant time in the past, the story began as a sequel to Tolkien's 1937 children's book \"\n",
    "    \"The Hobbit, but eventually developed into a much larger work. Written in stages between 1937 and 1949, The Lord of the \"\n",
    "    \"Rings is one of the best-selling books ever written, with over 150 million copies sold. The title names the story's main \"\n",
    "    \"antagonist, the Dark Lord Sauron, who had in an earlier age created the One Ring to rule the other Rings of Power as the \"\n",
    "    \"ultimate weapon in his campaign to conquer and rule all of Middle-earth. From homely beginnings in the Shire, a hobbit \"\n",
    "    \"land reminiscent of the English countryside, the story ranges across Middle-earth, following the quest to destroy the One \"\n",
    "    \"Ring mainly through the eyes of the hobbits Frodo, Sam, Merry and Pippin. Although generally known to readers as a \"\n",
    "    \"trilogy, the work was initially intended by Tolkien to be one volume of a two-volume set along with The Silmarillion, but \"\n",
    "    \"this idea was dismissed by his publisher. For economic reasons, The Lord of the Rings was published in three volumes over \"\n",
    "    \"the course of a year from 29 July 1954 to 20 October 1955. The three volumes were titled The Fellowship of the Ring, The \"\n",
    "    \"Two Towers and The Return of the King. Structurally, the work is divided internally into six books, two per volume, with \"\n",
    "    \"several appendices of background material at the end. Some editions print the entire work into a single volume, following \"\n",
    "    \"the author's original intent. Tolkien's work, after an initially mixed reception by the literary establishment, has been \"\n",
    "    \"the subject of extensive analysis of its themes and origins. Influences on this earlier work, and on the story of The \"\n",
    "    \"Lord of the Rings, include philology, mythology, Christianity, earlier fantasy works, and his own experiences in the \"\n",
    "    \"First World War. The Lord of the Rings in its turn has had a great effect on modern fantasy. The Lord of the Rings is \"\n",
    "    \"considered by many one of the greatest fantasy books of all time.\")"
   ]
  },
  {
   "cell_type": "code",
   "execution_count": 29,
   "id": "0ff4d105",
   "metadata": {},
   "outputs": [
    {
     "data": {
      "text/plain": [
       "{'score': 0.6458943486213684, 'start': 869, 'end': 876, 'answer': 'hobbits'}"
      ]
     },
     "execution_count": 29,
     "metadata": {},
     "output_type": "execute_result"
    }
   ],
   "source": [
    "odp(question=\"Who is Frodo?\", context=kontekst)"
   ]
  },
  {
   "cell_type": "code",
   "execution_count": 30,
   "id": "12acba66",
   "metadata": {},
   "outputs": [
    {
     "data": {
      "text/plain": [
       "{'score': 0.846308708190918,\n",
       " 'start': 1281,\n",
       " 'end': 1350,\n",
       " 'answer': 'The Fellowship of the Ring, The Two Towers and The Return of the King'}"
      ]
     },
     "execution_count": 30,
     "metadata": {},
     "output_type": "execute_result"
    }
   ],
   "source": [
    "odp(question=\"What are the names of three volumes?\", context=kontekst)"
   ]
  },
  {
   "cell_type": "markdown",
   "id": "a1150d54",
   "metadata": {},
   "source": [
    "<h4> Tłumaczenie pomiędzy językami"
   ]
  },
  {
   "cell_type": "code",
   "execution_count": 31,
   "id": "de7d4646",
   "metadata": {},
   "outputs": [],
   "source": [
    "translator = pipeline(\"translation_pl_to_en\", model=\"Helsinki-NLP/opus-mt-pl-en\") #z pl na en, ok 300 M"
   ]
  },
  {
   "cell_type": "code",
   "execution_count": 32,
   "id": "c390070b",
   "metadata": {},
   "outputs": [
    {
     "data": {
      "text/plain": [
       "[{'translation_text': 'I was watching a cool movie last night.'}]"
      ]
     },
     "execution_count": 32,
     "metadata": {},
     "output_type": "execute_result"
    }
   ],
   "source": [
    "translator(\"Wczoraj oglądałem fajny film.\")"
   ]
  },
  {
   "cell_type": "markdown",
   "id": "2a7dd7d5",
   "metadata": {},
   "source": [
    "Ciekawostka: https://gadgets360.com/apps/news/google-translate-religious-texts-doomsday-prophecies-end-of-world-1888133"
   ]
  },
  {
   "cell_type": "markdown",
   "id": "de0e447e",
   "metadata": {},
   "source": [
    "Oczywiście powyższe modele można mieszać między sobą :)"
   ]
  }
 ],
 "metadata": {
  "kernelspec": {
   "display_name": "Python 3 (ipykernel)",
   "language": "python",
   "name": "python3"
  },
  "language_info": {
   "codemirror_mode": {
    "name": "ipython",
    "version": 3
   },
   "file_extension": ".py",
   "mimetype": "text/x-python",
   "name": "python",
   "nbconvert_exporter": "python",
   "pygments_lexer": "ipython3",
   "version": "3.11.5"
  }
 },
 "nbformat": 4,
 "nbformat_minor": 5
}
